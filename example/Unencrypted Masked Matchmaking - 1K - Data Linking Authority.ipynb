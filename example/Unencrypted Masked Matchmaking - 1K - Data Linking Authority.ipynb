{
 "cells": [
  {
   "cell_type": "markdown",
   "metadata": {},
   "source": [
    "# Tutorial: N1 Analytics hash utility\n",
    "\n",
    "## Integration Authority\n",
    "\n",
    "This notebook demonstrates creating a new permutation mapping on the entity service using our command line tool, and how to retrieve the resulting mask."
   ]
  },
  {
   "cell_type": "code",
   "execution_count": 1,
   "metadata": {},
   "outputs": [
    {
     "name": "stdout",
     "output_type": "stream",
     "text": [
      "clkutil, version 0.4.5\r\n"
     ]
    }
   ],
   "source": [
    "!clkutil --version"
   ]
  },
  {
   "cell_type": "code",
   "execution_count": 2,
   "metadata": {},
   "outputs": [
    {
     "name": "stdout",
     "output_type": "stream",
     "text": [
      "\u001b[31mEntity Matching Server: https://es.data61.xyz\u001b[0m\n",
      "\u001b[31mChecking server status\u001b[0m\n",
      "\u001b[31mServer Status: ok\u001b[0m\n",
      "\u001b[31mSchema: NOT PROVIDED\u001b[0m\n",
      "\u001b[31mType: permutation_unencrypted_mask\u001b[0m\n",
      "\u001b[31mCreating new mapping\u001b[0m\n",
      "\u001b[31mMapping created\u001b[0m\n",
      "\u001b[31m\n",
      "The generated tokens can be used to upload hashed data and\n",
      "fetch the resulting linkage table from the service.\n",
      "\n",
      "To upload using the cli tool for entity A:\n",
      "\n",
      "    clkutil hash a_people.csv A_HASHED_FILE.json\n",
      "    clkutil upload --mapping=\"9f942ffdf20a999bf7255a2111095c0d5aabe6a34d0a11e8\" --apikey=\"92df0b3a4799c1bd4b17e77975ddcd140e9de3004ae12061\"  A_HASHED_FILE.json\n",
      "\n",
      "To upload using the cli tool for entity B:\n",
      "\n",
      "    clkutil hash b_people.csv B_HASHED_FILE.json\n",
      "    clkutil upload --mapping=\"9f942ffdf20a999bf7255a2111095c0d5aabe6a34d0a11e8\" --apikey=\"9491202b7528fc75b2d066bf3cdc35998abf1dcea5abe8a9\" B_HASHED_FILE.json\n",
      "\n",
      "After both users have uploaded their data one can watch for and retrieve the results:\n",
      "\n",
      "    clkutil results -w --mapping=\"9f942ffdf20a999bf7255a2111095c0d5aabe6a34d0a11e8\" --apikey=\"c3108dfde89890e7bf23cbd21ffc153eebc441c88fcbfa44\" --output results.txt\n",
      "\n",
      "\u001b[0m\n"
     ]
    }
   ],
   "source": [
    "!clkutil create -v --output credentials.json"
   ]
  },
  {
   "cell_type": "code",
   "execution_count": 3,
   "metadata": {},
   "outputs": [
    {
     "name": "stdout",
     "output_type": "stream",
     "text": [
      "{\r\n",
      "    \"resource_id\": \"9f942ffdf20a999bf7255a2111095c0d5aabe6a34d0a11e8\",\r\n",
      "    \"result_token\": \"c3108dfde89890e7bf23cbd21ffc153eebc441c88fcbfa44\",\r\n",
      "    \"update_tokens\": [\r\n",
      "        \"92df0b3a4799c1bd4b17e77975ddcd140e9de3004ae12061\",\r\n",
      "        \"9491202b7528fc75b2d066bf3cdc35998abf1dcea5abe8a9\"\r\n",
      "    ]\r\n",
      "}\r\n",
      "\r\n"
     ]
    }
   ],
   "source": [
    "import json\n",
    "with open('credentials.json','r') as f:\n",
    "    credentials = json.load(f)\n",
    "    \n",
    "!cat credentials.json"
   ]
  },
  {
   "cell_type": "markdown",
   "metadata": {},
   "source": [
    "Now for this demo we are going to generate some fake PII data (with overlaps) for Alice and Bob. "
   ]
  },
  {
   "cell_type": "code",
   "execution_count": 4,
   "metadata": {},
   "outputs": [],
   "source": [
    "# Generate some fake PII data\n",
    "!clkutil generate 2000 raw_pii_2k.csv\n",
    "\n",
    "# Split the fake PII data into somewhat overlapping alice and bob sets\n",
    "!head -n 1 raw_pii_2k.csv > alice.txt\n",
    "!tail -n 1500 raw_pii_2k.csv >> alice.txt\n",
    "!head -n 1000 raw_pii_2k.csv > bob.txt\n",
    "\n",
    "!rm raw_pii_2k.csv"
   ]
  },
  {
   "cell_type": "code",
   "execution_count": 5,
   "metadata": {},
   "outputs": [
    {
     "name": "stdout",
     "output_type": "stream",
     "text": [
      "997,Shenna Gaitor,2011/03/29,F\r",
      "\r\n",
      "998,Roscoe Zielinski,1947/03/14,M\r",
      "\r\n"
     ]
    }
   ],
   "source": [
    "!tail -n 2 bob.txt"
   ]
  },
  {
   "cell_type": "markdown",
   "metadata": {},
   "source": [
    "Now lets create a credentials file that we will give to Alice and Bob to enable them to upload hashed data to the server."
   ]
  },
  {
   "cell_type": "code",
   "execution_count": 6,
   "metadata": {},
   "outputs": [],
   "source": [
    "alice_credentials = credentials['resource_id'] + ' ' + credentials['update_tokens'][0]\n",
    "bob_credentials = credentials['resource_id'] + ' ' + credentials['update_tokens'][1]\n",
    "\n",
    "with open('alice-credentials.txt','wt') as f:\n",
    "    f.write(alice_credentials)\n",
    "    \n",
    "with open('bob-credentials.txt','wt') as f:\n",
    "    f.write(bob_credentials)"
   ]
  },
  {
   "cell_type": "code",
   "execution_count": 7,
   "metadata": {},
   "outputs": [
    {
     "name": "stdout",
     "output_type": "stream",
     "text": [
      "9f942ffdf20a999bf7255a2111095c0d5aabe6a34d0a11e8 92df0b3a4799c1bd4b17e77975ddcd140e9de3004ae12061"
     ]
    }
   ],
   "source": [
    "!cat alice-credentials.txt"
   ]
  },
  {
   "cell_type": "markdown",
   "metadata": {},
   "source": [
    "This info is all that we share with alice. Alice and Bob will have privately worked out a secret for hashing their data."
   ]
  },
  {
   "cell_type": "code",
   "execution_count": 8,
   "metadata": {},
   "outputs": [
    {
     "name": "stdout",
     "output_type": "stream",
     "text": [
      "\u001b[31mChecking server status\u001b[0m\n",
      "\u001b[31mStatus: ok\u001b[0m\n",
      "\u001b[31mResponse code: 503\u001b[0m\n",
      "\u001b[31mNo result yet\u001b[0m\n",
      "\u001b[31m{\n",
      "    \"current\": \"0\",\n",
      "    \"elapsed\": 0.0,\n",
      "    \"message\": \"Mapping isn't ready.\",\n",
      "    \"progress\": 0.0,\n",
      "    \"total\": \"NA\"\n",
      "}\n",
      "\u001b[0m\n"
     ]
    }
   ],
   "source": [
    "# We can check to see if there is a result (which there won't be)\n",
    "mid = credentials['resource_id']\n",
    "token = credentials['result_token']\n",
    "\n",
    "!clkutil results --mapping=\"$mid\" --apikey=\"$token\""
   ]
  },
  {
   "cell_type": "markdown",
   "metadata": {},
   "source": [
    "## Switch to Data Providers (Alice & Bob)\n",
    "\n",
    "Now after the participants have uploaded their data and we give the server some time for computing the result \n",
    "(depending on the size) we can fetch the mask:"
   ]
  },
  {
   "cell_type": "code",
   "execution_count": 12,
   "metadata": {},
   "outputs": [
    {
     "name": "stdout",
     "output_type": "stream",
     "text": [
      "\u001b[31mChecking server status\u001b[0m\n",
      "\u001b[31mStatus: ok\u001b[0m\n",
      "\u001b[31mResponse code: 200\u001b[0m\n",
      "\u001b[31mReceived result\u001b[0m\n"
     ]
    }
   ],
   "source": [
    "\n",
    "!clkutil results --mapping=\"$mid\" --apikey=\"$token\" --output results.txt\n"
   ]
  },
  {
   "cell_type": "code",
   "execution_count": 13,
   "metadata": {},
   "outputs": [
    {
     "name": "stdout",
     "output_type": "stream",
     "text": [
      "{\r\n",
      "    \"mask\": [\r\n",
      "        0,\r\n",
      "        0,\r\n",
      "        0,\r\n",
      "        1,\r\n",
      "        1,\r\n",
      "        1,\r\n",
      "        0,\r\n",
      "        0,\r\n"
     ]
    }
   ],
   "source": [
    "!head results.txt"
   ]
  },
  {
   "cell_type": "code",
   "execution_count": 14,
   "metadata": {},
   "outputs": [],
   "source": [
    "import json\n",
    "mask = json.load(open('results.txt'))['mask']"
   ]
  },
  {
   "cell_type": "markdown",
   "metadata": {},
   "source": [
    "# Fin\n",
    "\n",
    "Now just to check our results, lets break the illusion and bring everything back together and see if they line up.\n",
    "\n",
    "Alice and Bob both have a new permutation - a new ordering for their data."
   ]
  },
  {
   "cell_type": "code",
   "execution_count": 15,
   "metadata": {},
   "outputs": [
    {
     "data": {
      "text/plain": [
       "['1865,Durward Iverslie,2007/01/15,M\\n',\n",
       " '1985,Mark Bedson,1966/03/10,F\\n',\n",
       " '1886,Brantlee Gislason,1995/08/29,M\\n',\n",
       " '867,Braulio Peinado,1950/06/12,M\\n',\n",
       " '767,Bernice Cabellero,1930/06/30,F\\n',\n",
       " '806,Milo Durling,1920/07/11,M\\n',\n",
       " '1649,Kya Candill,1960/05/27,F\\n',\n",
       " '1822,Mardell Becknell,1918/03/27,F\\n',\n",
       " '572,Blair Roewe,1969/03/29,F\\n',\n",
       " '979,Todd Torian,1917/01/14,M\\n']"
      ]
     },
     "execution_count": 15,
     "metadata": {},
     "output_type": "execute_result"
    }
   ],
   "source": [
    "alice_reordered = open('alice-reordered.txt', 'rt').readlines()\n",
    "alice_reordered[:10]"
   ]
  },
  {
   "cell_type": "code",
   "execution_count": 16,
   "metadata": {},
   "outputs": [
    {
     "data": {
      "text/plain": [
       "['155,Azariah Serasio,1921/11/16,M\\n',\n",
       " '492,Deidra Minniti,2015/01/16,F\\n',\n",
       " '52,Alida Frankl,2002/08/04,F\\n',\n",
       " '867,Braulio Peinado,1950/06/12,M\\n',\n",
       " '767,Bernice Cabellero,1930/06/30,F\\n',\n",
       " '806,Milo Durling,1920/07/11,M\\n',\n",
       " '370,Rhoda Shotwell,1987/10/25,F\\n',\n",
       " '72,Cassandra Shufford,1945/09/03,F\\n',\n",
       " '572,Blair Roewe,1969/03/29,F\\n',\n",
       " '979,Todd Torian,1917/01/14,M\\n']"
      ]
     },
     "execution_count": 16,
     "metadata": {},
     "output_type": "execute_result"
    }
   ],
   "source": [
    "bob_reordered = open('bob-reordered.txt', 'rt').readlines()\n",
    "bob_reordered[:10]"
   ]
  },
  {
   "cell_type": "markdown",
   "metadata": {},
   "source": [
    "The mask is required to reveal where the entities line up:"
   ]
  },
  {
   "cell_type": "code",
   "execution_count": 17,
   "metadata": {},
   "outputs": [
    {
     "name": "stdout",
     "output_type": "stream",
     "text": [
      "867,Braulio Peinado,1950/06/12,M True\n",
      "767,Bernice Cabellero,1930/06/30,F True\n",
      "806,Milo Durling,1920/07/11,M True\n",
      "572,Blair Roewe,1969/03/29,F True\n",
      "979,Todd Torian,1917/01/14,M True\n",
      "578,Jodi Kazmi,1936/09/28,F True\n",
      "592,Edith Ratel,1932/03/11,M True\n",
      "958,Trevin Sininger,1995/06/20,M True\n",
      "945,Gustavo Fusha,1954/10/13,M True\n",
      "726,Ariella Bergami,1955/11/06,F True\n",
      "718,Rheta Cassara,1938/08/30,F True\n",
      "567,Joaquin Eguia,1923/09/09,M True\n",
      "935,Babyboy Moyler,1931/08/08,M True\n",
      "787,Claudius Traux,1983/02/27,M True\n",
      "872,Myrtie Mcteer,2010/12/23,F True\n"
     ]
    }
   ],
   "source": [
    "for i, m in enumerate(mask[:30]):\n",
    "    if m:\n",
    "        print(alice_reordered[i].strip(), alice_reordered[i] == bob_reordered[i])"
   ]
  },
  {
   "cell_type": "code",
   "execution_count": null,
   "metadata": {
    "collapsed": true
   },
   "outputs": [],
   "source": []
  }
 ],
 "metadata": {
  "kernelspec": {
   "display_name": "Python 3",
   "language": "python",
   "name": "python3"
  },
  "language_info": {
   "codemirror_mode": {
    "name": "ipython",
    "version": 3
   },
   "file_extension": ".py",
   "mimetype": "text/x-python",
   "name": "python",
   "nbconvert_exporter": "python",
   "pygments_lexer": "ipython3",
   "version": "3.5.3"
  }
 },
 "nbformat": 4,
 "nbformat_minor": 1
}
