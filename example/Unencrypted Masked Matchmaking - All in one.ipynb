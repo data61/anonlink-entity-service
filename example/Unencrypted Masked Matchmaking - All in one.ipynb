{
 "cells": [
  {
   "cell_type": "markdown",
   "metadata": {},
   "source": [
    "# Tutorial: Privacy Preserving Record Linkage\n",
    "\n",
    "\n",
    "This notebook demonstrates the full process of carrying out federated privacy preserving record linkage.\n",
    "\n",
    "The sections are usually run by different organisations, but for illustration all is carried out in this one file.\n",
    "\n",
    "The server carrying out the record linkage:"
   ]
  },
  {
   "cell_type": "code",
   "execution_count": 71,
   "metadata": {},
   "outputs": [],
   "source": [
    "server = \"http://localhost:8851\"\n",
    "#server = \"https://testing.es.data61.xyz\""
   ]
  },
  {
   "cell_type": "code",
   "execution_count": 72,
   "metadata": {},
   "outputs": [
    {
     "name": "stdout",
     "output_type": "stream",
     "text": [
      "{\"project_count\": 32, \"status\": \"ok\", \"rate\": 3454831}\n"
     ]
    }
   ],
   "source": [
    "!python -m clkhash status --server={server}"
   ]
  },
  {
   "cell_type": "code",
   "execution_count": null,
   "metadata": {},
   "outputs": [],
   "source": []
  },
  {
   "cell_type": "markdown",
   "metadata": {},
   "source": [
    "Now we need some entity information to match. For testing purposes this tool can generate fake data:"
   ]
  },
  {
   "cell_type": "code",
   "execution_count": 17,
   "metadata": {
    "collapsed": true
   },
   "outputs": [],
   "source": [
    "# Generate some fake PII data\n",
    "!clkutil generate 2000 raw_pii_2k.csv\n",
    "\n",
    "# Split the fake PII data into somewhat overlapping alice and bob sets\n",
    "!head -n 1 raw_pii_2k.csv > alice.txt\n",
    "!tail -n 1500 raw_pii_2k.csv >> alice.txt\n",
    "!head -n 1000 raw_pii_2k.csv > bob.txt"
   ]
  },
  {
   "cell_type": "markdown",
   "metadata": {},
   "source": [
    "Now we need to define a linkage schema."
   ]
  },
  {
   "cell_type": "code",
   "execution_count": 18,
   "metadata": {},
   "outputs": [
    {
     "name": "stdout",
     "output_type": "stream",
     "text": [
      "INDEX,NAME freetext,DOB YYYY/MM/DD,GENDER M or F\n",
      "0,Damian Calendine,2009/01/12,M\n"
     ]
    }
   ],
   "source": [
    "!head -n 2 raw_pii_2k.csv"
   ]
  },
  {
   "cell_type": "markdown",
   "metadata": {},
   "source": [
    "The `clkhash` command line tool can output the schema for this PII (as it generated them):\n"
   ]
  },
  {
   "cell_type": "code",
   "execution_count": 22,
   "metadata": {},
   "outputs": [],
   "source": [
    "!python -m clkhash generate-default-schema schema.json"
   ]
  },
  {
   "cell_type": "markdown",
   "metadata": {},
   "source": [
    "## Integration Authority\n",
    "\n",
    "Creates a project and distributes upload credentials to the data providers."
   ]
  },
  {
   "cell_type": "code",
   "execution_count": 77,
   "metadata": {},
   "outputs": [
    {
     "name": "stdout",
     "output_type": "stream",
     "text": [
      "\u001b[31mEntity Matching Server: http://localhost:8851\u001b[0m\n",
      "\u001b[31mProject created\u001b[0m\n"
     ]
    }
   ],
   "source": [
    "!python -m clkhash create-project -v --server={server} --schema=schema.json --output credentials.json --name \"tutorial project\""
   ]
  },
  {
   "cell_type": "code",
   "execution_count": 78,
   "metadata": {},
   "outputs": [
    {
     "name": "stdout",
     "output_type": "stream",
     "text": [
      "{\"project_id\": \"54794c8871d2e44d4ddc78a2935cb6d1a5f40429f6e90271\", \"update_tokens\": [\"dc4ce36600795200be91fc6045ee4896d047fcba1e273d21\", \"37962227b1a9294abe09d813cf5abc4fa154e8ded5a71898\"], \"result_token\": \"651c3cf9747743e07ef3bc6d7cf19df477743b1e410d0ec0\"}\n"
     ]
    }
   ],
   "source": [
    "import json\n",
    "with open('credentials.json','r') as f:\n",
    "    credentials = json.load(f)\n",
    "    \n",
    "!cat credentials.json"
   ]
  },
  {
   "cell_type": "code",
   "execution_count": 74,
   "metadata": {},
   "outputs": [
    {
     "name": "stdout",
     "output_type": "stream",
     "text": [
      "997,Johny Suchocki,1963/07/24,M\n",
      "998,Anita Watah,1987/04/25,F\n"
     ]
    }
   ],
   "source": [
    "!tail -n 2 bob.txt"
   ]
  },
  {
   "cell_type": "markdown",
   "metadata": {},
   "source": [
    "We have generated *raw* identiy information. Looking at the help for the `upload` command we see that we first have to hash the raw entity information."
   ]
  },
  {
   "cell_type": "code",
   "execution_count": 75,
   "metadata": {},
   "outputs": [
    {
     "name": "stdout",
     "output_type": "stream",
     "text": [
      "Usage: __main__.py upload [OPTIONS] INPUT\n",
      "\n",
      "  Upload CLK data to entity matching server.\n",
      "\n",
      "  Given a json file containing hashed clk data as INPUT, upload to the\n",
      "  entity resolution service.\n",
      "\n",
      "  Use \"-\" to read from stdin.\n",
      "\n",
      "Options:\n",
      "  --project TEXT         Project identifier\n",
      "  --apikey TEXT          Authentication API key for the server.\n",
      "  --server TEXT          Server address including protocol\n",
      "  -o, --output FILENAME\n",
      "  -v, --verbose          Script is more talkative\n",
      "  --help                 Show this message and exit.\n"
     ]
    }
   ],
   "source": [
    "!python -m clkhash upload --help"
   ]
  },
  {
   "cell_type": "code",
   "execution_count": 27,
   "metadata": {},
   "outputs": [
    {
     "name": "stdout",
     "output_type": "stream",
     "text": [
      "generating CLKs: 100%|█| 1.50K/1.50K [00:00<00:00, 1.70Kclk/s, mean=406, std=22.4]\n",
      "\u001b[31mCLK data written to alice-hashed.json\u001b[0m\n",
      "generating CLKs: 100%|███| 999/999 [00:00<00:00, 2.27Kclk/s, mean=406, std=22.2]\n",
      "\u001b[31mCLK data written to bob-hashed.json\u001b[0m\n"
     ]
    }
   ],
   "source": [
    "# Hash the data using the secret keys, which the linkage authority doesn't know\n",
    "!clkutil hash alice.txt horse staple schema.json alice-hashed.json\n",
    "!clkutil hash bob.txt horse staple schema.json bob-hashed.json"
   ]
  },
  {
   "cell_type": "code",
   "execution_count": 28,
   "metadata": {},
   "outputs": [
    {
     "name": "stdout",
     "output_type": "stream",
     "text": [
      "260K -rwxrwxrwx 1 root root 258K Jul  4 14:46 alice-hashed.json\n",
      " 52K -rwxrwxrwx 1 root root  50K Jul  4 10:36 alice.txt\n"
     ]
    }
   ],
   "source": [
    "!ls -lsh alice*"
   ]
  },
  {
   "cell_type": "code",
   "execution_count": 81,
   "metadata": {
    "collapsed": true
   },
   "outputs": [],
   "source": [
    "out = !python -m clkhash upload -v --server=\"http://localhost:8851\" --project=\"{credentials['project_id']}\" --apikey=\"{credentials['update_tokens'][0]}\" alice-hashed.json"
   ]
  },
  {
   "cell_type": "markdown",
   "metadata": {},
   "source": [
    "Every upload gets a receipt token. In some operating modes this receipt is required to access the results. For ease of use lets save this so we can use it later."
   ]
  },
  {
   "cell_type": "code",
   "execution_count": 25,
   "metadata": {},
   "outputs": [
    {
     "name": "stdout",
     "output_type": "stream",
     "text": [
      "['Uploading CLK data from bob-hashed.json', 'To Entity Matching Server: https://es.data61.xyz', 'Mapping ID: 9f2ae583c5aa379f7ad41c2abbbbcdeae63940f4a269af34', 'Checking server status', 'Status: ok', 'Uploading CLK data to the server', '{', '    \"receipt-token\": \"b5af03da6f3cb3a83816901272351f7d2fe81cce81c74815\",', '    \"message\": \"Updated\"', '}', '']\n"
     ]
    }
   ],
   "source": [
    "print(out)\n",
    "mid = \"9f2ae583c5aa379f7ad41c2abbbbcdeae63940f4a269af34\"\n",
    "alice_receipt_token = \"e7595ad375669a7cd7a199ebaf0569a263dcaca940f5371d\""
   ]
  },
  {
   "cell_type": "code",
   "execution_count": 12,
   "metadata": {},
   "outputs": [
    {
     "data": {
      "text/plain": [
       "['Uploading CLK data from bob-hashed.json',\n",
       " 'To Entity Matching Server: https://es.data61.xyz',\n",
       " 'Mapping ID: 9f2ae583c5aa379f7ad41c2abbbbcdeae63940f4a269af34',\n",
       " 'Checking server status',\n",
       " 'Status: ok',\n",
       " 'Uploading CLK data to the server',\n",
       " '{',\n",
       " '    \"receipt-token\": \"b5af03da6f3cb3a83816901272351f7d2fe81cce81c74815\",',\n",
       " '    \"message\": \"Updated\"',\n",
       " '}',\n",
       " '']"
      ]
     },
     "execution_count": 12,
     "metadata": {},
     "output_type": "execute_result"
    }
   ],
   "source": [
    "# Upload Bob's data\n",
    "out = !clkutil upload \\\n",
    "    --mapping=\"{credentials['resource_id']}\" \\\n",
    "    --apikey=\"{credentials['update_tokens'][1]}\" \\\n",
    "    bob-hashed.json\n",
    "    \n",
    "out"
   ]
  },
  {
   "cell_type": "code",
   "execution_count": 26,
   "metadata": {
    "collapsed": true
   },
   "outputs": [],
   "source": [
    "bob_receipt_token = \"b5af03da6f3cb3a83816901272351f7d2fe81cce81c74815\""
   ]
  },
  {
   "cell_type": "code",
   "execution_count": 27,
   "metadata": {},
   "outputs": [
    {
     "name": "stdout",
     "output_type": "stream",
     "text": [
      "\u001b[31mChecking server status\u001b[0m\n",
      "\u001b[31mStatus: ok\u001b[0m\n",
      "\u001b[31mResponse code: 200\u001b[0m\n",
      "\u001b[31mReceived result\u001b[0m\n"
     ]
    }
   ],
   "source": [
    "# Now after some delay (depending on the size) we can fetch the mask\n",
    "!clkutil results \\\n",
    "    --mapping=\"{credentials['resource_id']}\" \\\n",
    "    --apikey=\"{credentials['result_token']}\" --output results.txt"
   ]
  },
  {
   "cell_type": "code",
   "execution_count": 28,
   "metadata": {},
   "outputs": [],
   "source": [
    "import json\n",
    "with open('results.txt','r') as f:\n",
    "    mask = json.load(f)['mask']"
   ]
  },
  {
   "cell_type": "code",
   "execution_count": 38,
   "metadata": {},
   "outputs": [
    {
     "name": "stdout",
     "output_type": "stream",
     "text": [
      "[1, 1, 1, 1, 1, 0, 1, 0, 1, 0]\n"
     ]
    }
   ],
   "source": [
    "print(mask[:10])"
   ]
  },
  {
   "cell_type": "code",
   "execution_count": 29,
   "metadata": {},
   "outputs": [],
   "source": [
    "import requests\n",
    "url = 'https://es.data61.xyz/api/v1'\n",
    "\n",
    "alice_res = requests.get('{}/mappings/{}'.format(url, mid), headers={'Authorization': alice_receipt_token}).json()\n",
    "bob_res = requests.get('{}/mappings/{}'.format(url, mid), headers={'Authorization': bob_receipt_token}).json()"
   ]
  },
  {
   "cell_type": "markdown",
   "metadata": {},
   "source": [
    "Now Alice and Bob both have a new permutation&mdash;a new ordering for their data."
   ]
  },
  {
   "cell_type": "code",
   "execution_count": 31,
   "metadata": {},
   "outputs": [
    {
     "data": {
      "text/plain": [
       "[648, 147, 262, 916, 36, 189, 274, 89, 67, 0]"
      ]
     },
     "execution_count": 31,
     "metadata": {},
     "output_type": "execute_result"
    }
   ],
   "source": [
    "alice_permutation = alice_res['permutation']\n",
    "alice_permutation[:10]"
   ]
  },
  {
   "cell_type": "code",
   "execution_count": 32,
   "metadata": {},
   "outputs": [
    {
     "data": {
      "text/plain": [
       "[847, 767, 749, 485, 513, 286, 141, 782, 545, 762]"
      ]
     },
     "execution_count": 32,
     "metadata": {},
     "output_type": "execute_result"
    }
   ],
   "source": [
    "bob_permutation = bob_res['permutation']\n",
    "bob_permutation[:10]"
   ]
  },
  {
   "cell_type": "code",
   "execution_count": 33,
   "metadata": {
    "collapsed": true
   },
   "outputs": [],
   "source": [
    "def reorder(items, order):\n",
    "    \"\"\"\n",
    "    Assume order is a list of new index\n",
    "    \"\"\"\n",
    "    neworder = items.copy()\n",
    "    for item, newpos in zip(items, order):\n",
    "        neworder[newpos] = item\n",
    "    \n",
    "    return neworder"
   ]
  },
  {
   "cell_type": "code",
   "execution_count": 34,
   "metadata": {
    "collapsed": true
   },
   "outputs": [],
   "source": [
    "with open('alice.txt', 'r') as f:\n",
    "    alice_raw = f.readlines()\n",
    "    alice_reordered = reorder(alice_raw, alice_permutation)\n",
    "\n",
    "with open('bob.txt', 'r') as f:\n",
    "    bob_raw = f.readlines()\n",
    "    bob_reordered = reorder(bob_raw, bob_permutation)"
   ]
  },
  {
   "cell_type": "code",
   "execution_count": 35,
   "metadata": {},
   "outputs": [
    {
     "data": {
      "text/plain": [
       "['508,Alysha Lesly,1920/04/10,F\\n',\n",
       " '772,Addilynn Kasprowicz,1946/05/03,F\\n',\n",
       " '536,Murry Cothran,1967/10/03,M\\n',\n",
       " '715,Wallace Hillier,1950/08/22,M\\n',\n",
       " '861,Marcie Obierne,1992/08/10,F\\n',\n",
       " '1591,Donte Nuth,1971/11/20,M\\n',\n",
       " '694,Joana Nesselrodt,1980/05/03,F\\n',\n",
       " '1169,Woodson Clum,1938/03/20,M\\n',\n",
       " '686,Allie Fludd,1920/07/04,F\\n',\n",
       " '1317,Mel Neveu,1968/01/05,M\\n']"
      ]
     },
     "execution_count": 35,
     "metadata": {},
     "output_type": "execute_result"
    }
   ],
   "source": [
    "alice_reordered[:10]"
   ]
  },
  {
   "cell_type": "code",
   "execution_count": 36,
   "metadata": {},
   "outputs": [
    {
     "data": {
      "text/plain": [
       "['508,Alysha Lesly,1920/04/10,F\\n',\n",
       " '772,Addilynn Kasprowicz,1946/05/03,F\\n',\n",
       " '536,Murry Cothran,1967/10/03,M\\n',\n",
       " '715,Wallace Hillier,1950/08/22,M\\n',\n",
       " '861,Marcie Obierne,1992/08/10,F\\n',\n",
       " '495,Lynsey Boyda,2004/06/15,F\\n',\n",
       " '694,Joana Nesselrodt,1980/05/03,F\\n',\n",
       " '214,Amari Ruland,1922/04/01,M\\n',\n",
       " '686,Allie Fludd,1920/07/04,F\\n',\n",
       " '347,Gaynell Seedborg,1922/11/16,F\\n']"
      ]
     },
     "execution_count": 36,
     "metadata": {},
     "output_type": "execute_result"
    }
   ],
   "source": [
    "bob_reordered[:10]"
   ]
  },
  {
   "cell_type": "code",
   "execution_count": 37,
   "metadata": {},
   "outputs": [
    {
     "name": "stdout",
     "output_type": "stream",
     "text": [
      "508,Alysha Lesly,1920/04/10,F True\n",
      "772,Addilynn Kasprowicz,1946/05/03,F True\n",
      "536,Murry Cothran,1967/10/03,M True\n",
      "715,Wallace Hillier,1950/08/22,M True\n",
      "861,Marcie Obierne,1992/08/10,F True\n",
      "694,Joana Nesselrodt,1980/05/03,F True\n",
      "686,Allie Fludd,1920/07/04,F True\n",
      "842,Shona Kalathas,1999/06/27,F True\n",
      "953,Bessie Moderski,1944/03/14,M True\n",
      "602,Andon Quicksey,1997/12/09,M True\n",
      "851,Camryn Greenstreet,1959/05/02,F True\n"
     ]
    }
   ],
   "source": [
    "for i, m in enumerate(mask[:20]):\n",
    "    if m:\n",
    "        print(alice_reordered[i].strip(), alice_reordered[i] == bob_reordered[i])"
   ]
  },
  {
   "cell_type": "code",
   "execution_count": null,
   "metadata": {
    "collapsed": true
   },
   "outputs": [],
   "source": []
  },
  {
   "cell_type": "code",
   "execution_count": null,
   "metadata": {
    "collapsed": true
   },
   "outputs": [],
   "source": []
  }
 ],
 "metadata": {
  "kernelspec": {
   "display_name": "Python 3",
   "language": "python",
   "name": "python3"
  },
  "language_info": {
   "codemirror_mode": {
    "name": "ipython",
    "version": 3
   },
   "file_extension": ".py",
   "mimetype": "text/x-python",
   "name": "python",
   "nbconvert_exporter": "python",
   "pygments_lexer": "ipython3",
   "version": "3.5.2"
  }
 },
 "nbformat": 4,
 "nbformat_minor": 2
}
