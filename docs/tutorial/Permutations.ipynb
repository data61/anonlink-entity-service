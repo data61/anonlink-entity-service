{
 "cells": [
  {
   "cell_type": "markdown",
   "metadata": {},
   "source": [
    "# Entity Service Permutation Output\n",
    "\n",
    "This tutorial demonstrates the workflow for private record linkage using the entity service. Two parties _Alice_ and _Bob_ have a dataset of personally identifiable information (PII) of several entities. They want to learn the linkage of corresponding entities between their respective datasets with the help of the entity service and an independent party, the _Analyst_.\n",
    "\n",
    "The chosen output type is `permuatations`, which consists of two permutations and one mask.\n",
    "\n",
    "\n",
    "### Who learns what?\n",
    "\n",
    "After the linkage has been carried out Alice and Bob will be able to retrieve a `permutation` - a reordering of their respective data sets such that shared entities line up.\n",
    "\n",
    "The Analyst - who creates the linkage project - learns the `mask`. The mask is a binary vector that indicates which rows in the permuted data sets are aligned. Note this reveals how many entities are shared.\n",
    "\n",
    "\n",
    "### Steps\n",
    "These steps are usually run by different companies - but for illustration all is carried out in this one file. The participants providing data are _Alice_ and *Bob*, and the *Analyst* acting the integration authority.\n",
    "\n",
    "* [Check connection to Entity Service](#check_con)\n",
    "* [Data preparation](#data_prep)\n",
    "  * Write CSV files with PII\n",
    "  * [Create a Linkage Schema](#schema_prep)\n",
    "* [Create Linkage Project](#create_pro)\n",
    "* [Generate CLKs from PII](#hash_n_up)\n",
    "* [Upload the PII](#hash_n_up)\n",
    "* [Create a run](#create_run)\n",
    "* [Retrieve and analyse results](#results)"
   ]
  },
  {
   "cell_type": "markdown",
   "metadata": {},
   "source": [
    "<a id=\"check_con\"></a>\n",
    "## Check Connection\n",
    "\n",
    "If you are connecting to a custom entity service, change the address here."
   ]
  },
  {
   "cell_type": "code",
   "execution_count": 1,
   "metadata": {},
   "outputs": [],
   "source": [
    "url = 'https://testing.es.data61.xyz'"
   ]
  },
  {
   "cell_type": "code",
   "execution_count": 2,
   "metadata": {},
   "outputs": [
    {
     "name": "stdout",
     "output_type": "stream",
     "text": [
      "{\"project_count\": 2250, \"rate\": 96222330, \"status\": \"ok\"}\n"
     ]
    }
   ],
   "source": [
    "!clkutil status --server \"{url}\""
   ]
  },
  {
   "cell_type": "markdown",
   "metadata": {},
   "source": [
    "<a id=\"data_prep\"></a>\n",
    "## Data preparation\n",
    "\n",
    "Following the [clkhash tutorial](http://clkhash.readthedocs.io/en/latest/tutorial_cli.html) we will use a dataset from the `recordlinkage` library. We will just write both datasets out to temporary CSV files.\n",
    "\n",
    "If you are following along yourself you may have to adjust the file names in all the `!clkutil` commands."
   ]
  },
  {
   "cell_type": "code",
   "execution_count": 3,
   "metadata": {},
   "outputs": [],
   "source": [
    "from tempfile import NamedTemporaryFile\n",
    "from recordlinkage.datasets import load_febrl4"
   ]
  },
  {
   "cell_type": "code",
   "execution_count": 4,
   "metadata": {},
   "outputs": [
    {
     "name": "stdout",
     "output_type": "stream",
     "text": [
      "Datasets written to /tmp/tmps3th_dx6 and /tmp/tmp46b15qa0\n"
     ]
    }
   ],
   "source": [
    "dfA, dfB = load_febrl4()\n",
    "\n",
    "a_csv = NamedTemporaryFile('w')\n",
    "a_clks = NamedTemporaryFile('w', suffix='.json')\n",
    "dfA.to_csv(a_csv)\n",
    "a_csv.seek(0)\n",
    "\n",
    "b_csv = NamedTemporaryFile('w')\n",
    "b_clks = NamedTemporaryFile('w', suffix='.json')\n",
    "dfB.to_csv(b_csv)\n",
    "b_csv.seek(0)\n",
    "\n",
    "dfA.head()\n",
    "print(\"Datasets written to {} and {}\".format(a_csv.name, b_csv.name))"
   ]
  },
  {
   "cell_type": "code",
   "execution_count": 5,
   "metadata": {},
   "outputs": [
    {
     "data": {
      "text/html": [
       "<div>\n",
       "<style scoped>\n",
       "    .dataframe tbody tr th:only-of-type {\n",
       "        vertical-align: middle;\n",
       "    }\n",
       "\n",
       "    .dataframe tbody tr th {\n",
       "        vertical-align: top;\n",
       "    }\n",
       "\n",
       "    .dataframe thead th {\n",
       "        text-align: right;\n",
       "    }\n",
       "</style>\n",
       "<table border=\"1\" class=\"dataframe\">\n",
       "  <thead>\n",
       "    <tr style=\"text-align: right;\">\n",
       "      <th></th>\n",
       "      <th>given_name</th>\n",
       "      <th>surname</th>\n",
       "      <th>street_number</th>\n",
       "      <th>address_1</th>\n",
       "      <th>address_2</th>\n",
       "      <th>suburb</th>\n",
       "      <th>postcode</th>\n",
       "      <th>state</th>\n",
       "      <th>date_of_birth</th>\n",
       "      <th>soc_sec_id</th>\n",
       "    </tr>\n",
       "    <tr>\n",
       "      <th>rec_id</th>\n",
       "      <th></th>\n",
       "      <th></th>\n",
       "      <th></th>\n",
       "      <th></th>\n",
       "      <th></th>\n",
       "      <th></th>\n",
       "      <th></th>\n",
       "      <th></th>\n",
       "      <th></th>\n",
       "      <th></th>\n",
       "    </tr>\n",
       "  </thead>\n",
       "  <tbody>\n",
       "    <tr>\n",
       "      <th>rec-1070-org</th>\n",
       "      <td>michaela</td>\n",
       "      <td>neumann</td>\n",
       "      <td>8</td>\n",
       "      <td>stanley street</td>\n",
       "      <td>miami</td>\n",
       "      <td>winston hills</td>\n",
       "      <td>4223</td>\n",
       "      <td>nsw</td>\n",
       "      <td>19151111</td>\n",
       "      <td>5304218</td>\n",
       "    </tr>\n",
       "    <tr>\n",
       "      <th>rec-1016-org</th>\n",
       "      <td>courtney</td>\n",
       "      <td>painter</td>\n",
       "      <td>12</td>\n",
       "      <td>pinkerton circuit</td>\n",
       "      <td>bega flats</td>\n",
       "      <td>richlands</td>\n",
       "      <td>4560</td>\n",
       "      <td>vic</td>\n",
       "      <td>19161214</td>\n",
       "      <td>4066625</td>\n",
       "    </tr>\n",
       "    <tr>\n",
       "      <th>rec-4405-org</th>\n",
       "      <td>charles</td>\n",
       "      <td>green</td>\n",
       "      <td>38</td>\n",
       "      <td>salkauskas crescent</td>\n",
       "      <td>kela</td>\n",
       "      <td>dapto</td>\n",
       "      <td>4566</td>\n",
       "      <td>nsw</td>\n",
       "      <td>19480930</td>\n",
       "      <td>4365168</td>\n",
       "    </tr>\n",
       "    <tr>\n",
       "      <th>rec-1288-org</th>\n",
       "      <td>vanessa</td>\n",
       "      <td>parr</td>\n",
       "      <td>905</td>\n",
       "      <td>macquoid place</td>\n",
       "      <td>broadbridge manor</td>\n",
       "      <td>south grafton</td>\n",
       "      <td>2135</td>\n",
       "      <td>sa</td>\n",
       "      <td>19951119</td>\n",
       "      <td>9239102</td>\n",
       "    </tr>\n",
       "    <tr>\n",
       "      <th>rec-3585-org</th>\n",
       "      <td>mikayla</td>\n",
       "      <td>malloney</td>\n",
       "      <td>37</td>\n",
       "      <td>randwick road</td>\n",
       "      <td>avalind</td>\n",
       "      <td>hoppers crossing</td>\n",
       "      <td>4552</td>\n",
       "      <td>vic</td>\n",
       "      <td>19860208</td>\n",
       "      <td>7207688</td>\n",
       "    </tr>\n",
       "  </tbody>\n",
       "</table>\n",
       "</div>"
      ],
      "text/plain": [
       "             given_name   surname street_number            address_1  \\\n",
       "rec_id                                                                 \n",
       "rec-1070-org   michaela   neumann             8       stanley street   \n",
       "rec-1016-org   courtney   painter            12    pinkerton circuit   \n",
       "rec-4405-org    charles     green            38  salkauskas crescent   \n",
       "rec-1288-org    vanessa      parr           905       macquoid place   \n",
       "rec-3585-org    mikayla  malloney            37        randwick road   \n",
       "\n",
       "                      address_2            suburb postcode state  \\\n",
       "rec_id                                                             \n",
       "rec-1070-org              miami     winston hills     4223   nsw   \n",
       "rec-1016-org         bega flats         richlands     4560   vic   \n",
       "rec-4405-org               kela             dapto     4566   nsw   \n",
       "rec-1288-org  broadbridge manor     south grafton     2135    sa   \n",
       "rec-3585-org            avalind  hoppers crossing     4552   vic   \n",
       "\n",
       "             date_of_birth soc_sec_id  \n",
       "rec_id                                 \n",
       "rec-1070-org      19151111    5304218  \n",
       "rec-1016-org      19161214    4066625  \n",
       "rec-4405-org      19480930    4365168  \n",
       "rec-1288-org      19951119    9239102  \n",
       "rec-3585-org      19860208    7207688  "
      ]
     },
     "execution_count": 5,
     "metadata": {},
     "output_type": "execute_result"
    }
   ],
   "source": [
    "dfA.head()"
   ]
  },
  {
   "cell_type": "markdown",
   "metadata": {},
   "source": [
    "<a id=\"schema_prep\"></a>\n",
    "## Schema Preparation\n",
    "\n",
    "The linkage schema must be agreed on by the two parties. A hashing schema instructs clkhash how to treat each column for generating CLKs. A detailed description of the hashing schema can be found in the [api docs](http://clkhash.readthedocs.io/en/latest/schema.html). We will ignore the columns ‘rec_id’ and ‘soc_sec_id’ for CLK generation."
   ]
  },
  {
   "cell_type": "code",
   "execution_count": 6,
   "metadata": {},
   "outputs": [],
   "source": [
    "schema = NamedTemporaryFile('wt')"
   ]
  },
  {
   "cell_type": "code",
   "execution_count": 7,
   "metadata": {},
   "outputs": [
    {
     "name": "stdout",
     "output_type": "stream",
     "text": [
      "Overwriting /tmp/tmpfr9cs71y\n"
     ]
    }
   ],
   "source": [
    "%%writefile {schema.name}\n",
    "{\n",
    "  \"version\": 1,\n",
    "  \"clkConfig\": {\n",
    "    \"l\": 1024,\n",
    "    \"k\": 30,\n",
    "    \"hash\": {\n",
    "      \"type\": \"doubleHash\"\n",
    "    },\n",
    "    \"kdf\": {\n",
    "      \"type\": \"HKDF\",\n",
    "      \"hash\": \"SHA256\",\n",
    "        \"info\": \"c2NoZW1hX2V4YW1wbGU=\",\n",
    "        \"salt\": \"SCbL2zHNnmsckfzchsNkZY9XoHk96P/G5nUBrM7ybymlEFsMV6PAeDZCNp3rfNUPCtLDMOGQHG4pCQpfhiHCyA==\",\n",
    "        \"keySize\": 64\n",
    "    }\n",
    "  },\n",
    "  \"features\": [\n",
    "    {\n",
    "      \"identifier\": \"rec_id\",\n",
    "      \"ignored\": true\n",
    "    },\n",
    "    {\n",
    "      \"identifier\": \"given_name\",\n",
    "      \"format\": { \"type\": \"string\", \"encoding\": \"utf-8\" },\n",
    "      \"hashing\": { \"ngram\": 2, \"weight\": 1 }\n",
    "    },\n",
    "    {\n",
    "      \"identifier\": \"surname\",\n",
    "      \"format\": { \"type\": \"string\", \"encoding\": \"utf-8\" },\n",
    "      \"hashing\": { \"ngram\": 2, \"weight\": 1 }\n",
    "    },\n",
    "    {\n",
    "      \"identifier\": \"street_number\",\n",
    "      \"format\": { \"type\": \"integer\" },\n",
    "      \"hashing\": { \"ngram\": 1, \"positional\": true, \"weight\": 0.5, \"missingValue\": {\"sentinel\": \"\"} }\n",
    "    },\n",
    "    {\n",
    "      \"identifier\": \"address_1\",\n",
    "      \"format\": { \"type\": \"string\", \"encoding\": \"utf-8\" },\n",
    "      \"hashing\": { \"ngram\": 2, \"weight\": 0.5 }\n",
    "    },\n",
    "    {\n",
    "      \"identifier\": \"address_2\",\n",
    "      \"format\": { \"type\": \"string\", \"encoding\": \"utf-8\" },\n",
    "      \"hashing\": { \"ngram\": 2, \"weight\": 0.5 }\n",
    "    },\n",
    "    {\n",
    "      \"identifier\": \"suburb\",\n",
    "      \"format\": { \"type\": \"string\", \"encoding\": \"utf-8\" },\n",
    "      \"hashing\": { \"ngram\": 2, \"weight\": 0.5 }\n",
    "    },\n",
    "    {\n",
    "      \"identifier\": \"postcode\",\n",
    "      \"format\": { \"type\": \"integer\", \"minimum\": 100, \"maximum\": 9999 },\n",
    "      \"hashing\": { \"ngram\": 1, \"positional\": true, \"weight\": 0.5 }\n",
    "    },\n",
    "    {\n",
    "      \"identifier\": \"state\",\n",
    "      \"format\": { \"type\": \"string\", \"encoding\": \"utf-8\", \"maxLength\": 3 },\n",
    "      \"hashing\": { \"ngram\": 2, \"weight\": 1 }\n",
    "    },\n",
    "    {\n",
    "      \"identifier\": \"date_of_birth\",\n",
    "      \"format\": { \"type\": \"integer\" },\n",
    "      \"hashing\": { \"ngram\": 1, \"positional\": true, \"weight\": 1, \"missingValue\": {\"sentinel\": \"\"} }\n",
    "    },\n",
    "    {\n",
    "      \"identifier\": \"soc_sec_id\",\n",
    "      \"ignored\": true\n",
    "    }\n",
    "  ]\n",
    "}"
   ]
  },
  {
   "cell_type": "markdown",
   "metadata": {},
   "source": [
    "<a id=\"create_pro\"></a>\n",
    "## Create Linkage Project\n",
    "\n",
    "The analyst carrying out the linkage starts by creating a linkage project of the desired output type with the Entity Service.\n"
   ]
  },
  {
   "cell_type": "code",
   "execution_count": 8,
   "metadata": {},
   "outputs": [
    {
     "name": "stdout",
     "output_type": "stream",
     "text": [
      "Credentials will be saved in /tmp/tmpyon7ygi_\n",
      "\u001b[31mProject created\u001b[0m\n"
     ]
    },
    {
     "data": {
      "text/plain": [
       "{'project_id': '962de43b0527963eb8fd1fd041bc25f56e4eea28794dbf62',\n",
       " 'result_token': '4e13d802195c55ca8ff180e9cb179b6031a3fa35b4d12e3a',\n",
       " 'update_tokens': ['1a264cad189606a3c37e1ed1f30aeaf45cb0b110506ea57a',\n",
       "  '8906da6506dfd53a36e367286f94e8fb0664e2892ea64167']}"
      ]
     },
     "execution_count": 8,
     "metadata": {},
     "output_type": "execute_result"
    }
   ],
   "source": [
    "creds = NamedTemporaryFile('wt')\n",
    "print(\"Credentials will be saved in\", creds.name)\n",
    "\n",
    "!clkutil create-project --schema \"{schema.name}\" --output \"{creds.name}\" --type \"permutations\" --server \"{url}\"\n",
    "creds.seek(0)\n",
    "\n",
    "import json\n",
    "with open(creds.name, 'r') as f:\n",
    "    credentials = json.load(f)\n",
    "\n",
    "project_id = credentials['project_id']\n",
    "credentials"
   ]
  },
  {
   "cell_type": "markdown",
   "metadata": {},
   "source": [
    "**Note:** the analyst will need to pass on the `project_id` (the id of the linkage project) and one of the two `update_tokens` to each data provider.\n",
    "\n",
    "<a id=\"hash_n_up\"></a>\n",
    "## Hash and Upload\n",
    "\n",
    "At the moment both data providers have *raw* personally identiy information. We first have to generate CLKs from the raw entity information. We need:\n",
    "- the *clkhash* library\n",
    "- the linkage schema from above\n",
    "- and two secret passwords which are only known to Alice and Bob. (here: `horse` and `staple`)\n",
    "\n",
    "Please see [clkhash](https://clkhash.readthedocs.io/) documentation for further details on this."
   ]
  },
  {
   "cell_type": "code",
   "execution_count": 9,
   "metadata": {},
   "outputs": [
    {
     "name": "stdout",
     "output_type": "stream",
     "text": [
      "generating CLKs: 100%|█| 5.00k/5.00k [00:02<00:00, 602clk/s, mean=765, std=37.1]\n",
      "\u001b[31mCLK data written to /tmp/tmpssfowykz.json\u001b[0m\n",
      "generating CLKs: 100%|█| 5.00k/5.00k [00:02<00:00, 578clk/s, mean=756, std=43.3]\n",
      "\u001b[31mCLK data written to /tmp/tmp9jo0u09p.json\u001b[0m\n"
     ]
    }
   ],
   "source": [
    "!clkutil hash \"{a_csv.name}\" horse staple \"{schema.name}\" \"{a_clks.name}\"\n",
    "!clkutil hash \"{b_csv.name}\" horse staple \"{schema.name}\" \"{b_clks.name}\""
   ]
  },
  {
   "cell_type": "markdown",
   "metadata": {},
   "source": [
    "Now the two clients can upload their data providing the appropriate *upload tokens* and the *project_id*. As with all commands in `clkhash` we can output help:"
   ]
  },
  {
   "cell_type": "code",
   "execution_count": 10,
   "metadata": {},
   "outputs": [
    {
     "name": "stdout",
     "output_type": "stream",
     "text": [
      "Usage: clkutil upload [OPTIONS] INPUT\n",
      "\n",
      "  Upload CLK data to entity matching server.\n",
      "\n",
      "  Given a json file containing hashed clk data as INPUT, upload to the\n",
      "  entity resolution service.\n",
      "\n",
      "  Use \"-\" to read from stdin.\n",
      "\n",
      "Options:\n",
      "  --project TEXT         Project identifier\n",
      "  --apikey TEXT          Authentication API key for the server.\n",
      "  --server TEXT          Server address including protocol\n",
      "  -o, --output FILENAME\n",
      "  -v, --verbose          Script is more talkative\n",
      "  --help                 Show this message and exit.\n"
     ]
    }
   ],
   "source": [
    "!clkutil upload --help"
   ]
  },
  {
   "cell_type": "markdown",
   "metadata": {},
   "source": [
    "### Alice uploads her data"
   ]
  },
  {
   "cell_type": "code",
   "execution_count": 11,
   "metadata": {},
   "outputs": [],
   "source": [
    "with NamedTemporaryFile('wt') as f:\n",
    "    !clkutil upload \\\n",
    "        --project=\"{project_id}\" \\\n",
    "        --apikey=\"{credentials['update_tokens'][0]}\" \\\n",
    "        --server \"{url}\" \\\n",
    "        --output \"{f.name}\" \\\n",
    "        \"{a_clks.name}\"\n",
    "    res = json.load(open(f.name))\n",
    "    alice_receipt_token = res['receipt_token']"
   ]
  },
  {
   "cell_type": "markdown",
   "metadata": {},
   "source": [
    "Every upload gets a receipt token. This token is required to access the results."
   ]
  },
  {
   "cell_type": "markdown",
   "metadata": {},
   "source": [
    "### Bob uploads his data"
   ]
  },
  {
   "cell_type": "code",
   "execution_count": 12,
   "metadata": {},
   "outputs": [],
   "source": [
    "with NamedTemporaryFile('wt') as f:\n",
    "    !clkutil upload \\\n",
    "        --project=\"{project_id}\" \\\n",
    "        --apikey=\"{credentials['update_tokens'][1]}\" \\\n",
    "        --server \"{url}\" \\\n",
    "        --output \"{f.name}\" \\\n",
    "        \"{b_clks.name}\"\n",
    "    \n",
    "    bob_receipt_token = json.load(open(f.name))['receipt_token']"
   ]
  },
  {
   "cell_type": "markdown",
   "metadata": {},
   "source": [
    "<a id=\"create_run\"></a>\n",
    "## Create a run\n",
    "\n",
    "Now the project has been created and the CLK data has been uploaded we can carry out some privacy preserving record linkage. Try with a few different threshold values:"
   ]
  },
  {
   "cell_type": "code",
   "execution_count": 13,
   "metadata": {},
   "outputs": [],
   "source": [
    "with NamedTemporaryFile('wt') as f:\n",
    "    !clkutil create \\\n",
    "        --project=\"{project_id}\" \\\n",
    "        --apikey=\"{credentials['result_token']}\" \\\n",
    "        --server \"{url}\" \\\n",
    "        --threshold 0.85 \\\n",
    "        --output \"{f.name}\"\n",
    "    \n",
    "    run_id = json.load(open(f.name))['run_id']"
   ]
  },
  {
   "cell_type": "markdown",
   "metadata": {},
   "source": [
    "<a id=\"results\"></a>\n",
    "## Results\n",
    "\n",
    "Now after some delay (depending on the size) we can fetch the mask.\n",
    "This can be done with clkutil:\n",
    "\n",
    "    !clkutil results --server \"{url}\" \\\n",
    "        --project=\"{credentials['project_id']}\" \\\n",
    "        --apikey=\"{credentials['result_token']}\" --output results.txt\n",
    "        \n",
    "However for this tutorial we are going to use the Python `requests` library:"
   ]
  },
  {
   "cell_type": "code",
   "execution_count": 14,
   "metadata": {},
   "outputs": [],
   "source": [
    "import requests\n",
    "import clkhash.rest_client\n",
    "import json\n",
    "import time\n",
    "from IPython.display import display, clear_output"
   ]
  },
  {
   "cell_type": "code",
   "execution_count": 15,
   "metadata": {},
   "outputs": [
    {
     "name": "stdout",
     "output_type": "stream",
     "text": [
      "State: completed\n",
      "Stage (3/3): compute output\n"
     ]
    }
   ],
   "source": [
    "for update in clkhash.rest_client.watch_run_status(url, project_id, run_id, credentials['result_token'], timeout=300):\n",
    "    clear_output(wait=True)\n",
    "    print(clkhash.rest_client.format_run_status(update))"
   ]
  },
  {
   "cell_type": "code",
   "execution_count": 16,
   "metadata": {},
   "outputs": [],
   "source": [
    "results = requests.get('{}/api/v1/projects/{}/runs/{}/result'.format(url, project_id, run_id), headers={'Authorization': credentials['result_token']}).json()"
   ]
  },
  {
   "cell_type": "code",
   "execution_count": 17,
   "metadata": {},
   "outputs": [],
   "source": [
    "mask = results['mask']"
   ]
  },
  {
   "cell_type": "markdown",
   "metadata": {},
   "source": [
    "This mask is a boolean array that specifies where rows of permuted data line up."
   ]
  },
  {
   "cell_type": "code",
   "execution_count": 18,
   "metadata": {},
   "outputs": [
    {
     "name": "stdout",
     "output_type": "stream",
     "text": [
      "[1, 1, 1, 1, 1, 1, 1, 1, 1, 1]\n"
     ]
    }
   ],
   "source": [
    "print(mask[:10])"
   ]
  },
  {
   "cell_type": "markdown",
   "metadata": {},
   "source": [
    "The number of 1s in the mask will tell us how many matches were found."
   ]
  },
  {
   "cell_type": "code",
   "execution_count": 19,
   "metadata": {},
   "outputs": [
    {
     "data": {
      "text/plain": [
       "4856"
      ]
     },
     "execution_count": 19,
     "metadata": {},
     "output_type": "execute_result"
    }
   ],
   "source": [
    "sum([1 for m in mask if m == 1])"
   ]
  },
  {
   "cell_type": "markdown",
   "metadata": {},
   "source": [
    "We also use `requests` to fetch the permutations for each data provider:"
   ]
  },
  {
   "cell_type": "code",
   "execution_count": 20,
   "metadata": {},
   "outputs": [],
   "source": [
    "alice_res = requests.get('{}/api/v1/projects/{}/runs/{}/result'.format(url, project_id, run_id), headers={'Authorization': alice_receipt_token}).json()\n",
    "bob_res = requests.get('{}/api/v1/projects/{}/runs/{}/result'.format(url, project_id, run_id), headers={'Authorization': bob_receipt_token}).json()"
   ]
  },
  {
   "cell_type": "markdown",
   "metadata": {},
   "source": [
    "Now Alice and Bob both have a new permutation - a new ordering for their data."
   ]
  },
  {
   "cell_type": "code",
   "execution_count": 21,
   "metadata": {},
   "outputs": [
    {
     "data": {
      "text/plain": [
       "[753, 4516, 1049, 800, 3290, 4453, 644, 3217, 4024, 1991]"
      ]
     },
     "execution_count": 21,
     "metadata": {},
     "output_type": "execute_result"
    }
   ],
   "source": [
    "alice_permutation = alice_res['permutation']\n",
    "alice_permutation[:10]"
   ]
  },
  {
   "cell_type": "markdown",
   "metadata": {},
   "source": [
    "This permutation says the first row of Alice's data should be moved to position 308."
   ]
  },
  {
   "cell_type": "code",
   "execution_count": 22,
   "metadata": {},
   "outputs": [
    {
     "data": {
      "text/plain": [
       "[1636, 2245, 1000, 3934, 1927, 4009, 654, 2691, 3910, 343]"
      ]
     },
     "execution_count": 22,
     "metadata": {},
     "output_type": "execute_result"
    }
   ],
   "source": [
    "bob_permutation = bob_res['permutation']\n",
    "bob_permutation[:10]"
   ]
  },
  {
   "cell_type": "code",
   "execution_count": 23,
   "metadata": {},
   "outputs": [],
   "source": [
    "def reorder(items, order):\n",
    "    \"\"\"\n",
    "    Assume order is a list of new index\n",
    "    \"\"\"\n",
    "    neworder = items.copy()\n",
    "    for item, newpos in zip(items, order):\n",
    "        neworder[newpos] = item\n",
    "    \n",
    "    return neworder"
   ]
  },
  {
   "cell_type": "code",
   "execution_count": 24,
   "metadata": {},
   "outputs": [],
   "source": [
    "with open(a_csv.name, 'r') as f:\n",
    "    alice_raw = f.readlines()[1:]\n",
    "    alice_reordered = reorder(alice_raw, alice_permutation)\n",
    "\n",
    "with open(b_csv.name, 'r') as f:\n",
    "    bob_raw = f.readlines()[1:]\n",
    "    bob_reordered = reorder(bob_raw, bob_permutation)"
   ]
  },
  {
   "cell_type": "markdown",
   "metadata": {},
   "source": [
    "Now that the two data sets have been permuted, the mask reveals where the rows line up, and where they don't."
   ]
  },
  {
   "cell_type": "code",
   "execution_count": 25,
   "metadata": {},
   "outputs": [
    {
     "data": {
      "text/plain": [
       "['rec-2218-org,tyler,berryman,223,broad place,villa 3,clayton,6355,vic,19550922,2531288\\n',\n",
       " 'rec-4967-org,james,feast,139,goldstein crescent,kooringle park,beenleigh,4214,vic,19500714,9202596\\n',\n",
       " 'rec-4240-org,solomon,hannagan,10,clemenger street,brookfield,forrestfield,4216,sa,19890520,3944717\\n',\n",
       " 'rec-2696-org,campbell,nguyen,6,diselma place,villa 2,collinswood,4343,nsw,19630325,2861961\\n',\n",
       " 'rec-4147-org,bethany,webb,3,cullen street,sunning,narellan vale,3630,qld,19431219,4827546\\n',\n",
       " 'rec-1948-org,flynn,painter,7,thomas hart street,railway stn,seaton,2640,vic,19211124,8126727\\n',\n",
       " 'rec-1225-org,hayden,ballantyne,13,,nunnook,young,2077,nsw,19330812,3414771\\n',\n",
       " 'rec-2896-org,blake,de courcey,26,ellerston avenue,rosehill,bowral,3090,qld,19890504,1219082\\n',\n",
       " 'rec-2852-org,joshua,huxley,12,southern close,littledale,maryborough,2517,nsw,19670618,1728316\\n',\n",
       " 'rec-438-org,alison,hearn,4,macdonnell street,cabrini medical centre,adelaide,2720,vic,19191230,2937695\\n']"
      ]
     },
     "execution_count": 25,
     "metadata": {},
     "output_type": "execute_result"
    }
   ],
   "source": [
    "alice_reordered[:10]"
   ]
  },
  {
   "cell_type": "code",
   "execution_count": 26,
   "metadata": {},
   "outputs": [
    {
     "data": {
      "text/plain": [
       "['rec-2218-dup-0,tylee,berryman,223,broad place,villai3,clayton,6355,vic,19901803,2531288\\n',\n",
       " 'rec-4967-dup-0,jmaes,feast,139,goldstein crescent,kooringl epark,beenleogh,4214,vic,19500714,9202596\\n',\n",
       " 'rec-4240-dup-0,solomon,hannagan,83,clemenger street,brookfield,forrestfield,4216,sa,19890520,3944717\\n',\n",
       " 'rec-2696-dup-0,jenna,nguyen,85,diselmaplace,villz2,collinswood,4343,nsw,19630325,2861961\\n',\n",
       " 'rec-4147-dup-0,bethany,godfrey,3,culleb street,sunning,narellan vale,3603,qld,19330508,4827546\\n',\n",
       " 'rec-1948-dup-0,flnyn,painter,7,thomas hart street,railway stn,sea ton,2640,vic,19211124,8126727\\n',\n",
       " 'rec-1225-dup-0,hayden,ballantyne,13,,,young,2077,nsw,19330812,3414771\\n',\n",
       " 'rec-2896-dup-0,blake,mcvicar,26,ellerston avenue,rosehill,bowral,3009,qld,19890504,1219082\\n',\n",
       " 'rec-2852-dup-0,kiana,huxley,12,southern close,little dale,maryborough,2517,nsw,19140529,1728316\\n',\n",
       " 'rec-438-dup-0,heatn,alison,4,macdonnell street,cabrini medicalb centre,adelaide,2270,vic,19191230,2937695\\n']"
      ]
     },
     "execution_count": 26,
     "metadata": {},
     "output_type": "execute_result"
    }
   ],
   "source": [
    "bob_reordered[:10]"
   ]
  },
  {
   "cell_type": "markdown",
   "metadata": {},
   "source": [
    "## Accuracy\n",
    "\n",
    "To compute how well the matching went we will use the first index as our reference.\n",
    "\n",
    "For example in `rec-1396-org` is the original record which has a match in `rec-1396-dup-0`. To satisfy ourselves we can preview the first few supposed matches:"
   ]
  },
  {
   "cell_type": "code",
   "execution_count": 27,
   "metadata": {},
   "outputs": [
    {
     "name": "stdout",
     "output_type": "stream",
     "text": [
      "Tyler Berryman (rec-2218-org) =? Tylee Berryman (rec-2218-dup-0)\n",
      "James Feast (rec-4967-org) =? Jmaes Feast (rec-4967-dup-0)\n",
      "Solomon Hannagan (rec-4240-org) =? Solomon Hannagan (rec-4240-dup-0)\n",
      "Campbell Nguyen (rec-2696-org) =? Jenna Nguyen (rec-2696-dup-0)\n",
      "Bethany Webb (rec-4147-org) =? Bethany Godfrey (rec-4147-dup-0)\n",
      "Flynn Painter (rec-1948-org) =? Flnyn Painter (rec-1948-dup-0)\n",
      "Hayden Ballantyne (rec-1225-org) =? Hayden Ballantyne (rec-1225-dup-0)\n",
      "Blake De Courcey (rec-2896-org) =? Blake Mcvicar (rec-2896-dup-0)\n",
      "Joshua Huxley (rec-2852-org) =? Kiana Huxley (rec-2852-dup-0)\n",
      "Alison Hearn (rec-438-org) =? Heatn Alison (rec-438-dup-0)\n"
     ]
    }
   ],
   "source": [
    "for i, m in enumerate(mask[:10]):\n",
    "    if m:\n",
    "        entity_a = alice_reordered[i].split(',')\n",
    "        entity_b = bob_reordered[i].split(',')\n",
    "        name_a = ' '.join(entity_a[1:3]).title()\n",
    "        name_b = ' '.join(entity_b[1:3]).title()\n",
    "        \n",
    "        print(\"{} ({})\".format(name_a, entity_a[0]), '=?', \"{} ({})\".format(name_b, entity_b[0]))"
   ]
  },
  {
   "cell_type": "markdown",
   "metadata": {},
   "source": [
    "### Metrics\n",
    "If you know the ground truth — the correct mapping between the two datasets — you can compute performance metrics of the linkage.\n",
    "\n",
    "**Precision**: The percentage of actual matches out of all found matches. (`tp/(tp+fp)`)\n",
    "\n",
    "**Recall**: How many of the actual matches have we found? (`tp/(tp+fn)`)"
   ]
  },
  {
   "cell_type": "code",
   "execution_count": 28,
   "metadata": {},
   "outputs": [
    {
     "name": "stdout",
     "output_type": "stream",
     "text": [
      "Found 4846 correct matches out of 5000. Incorrectly linked 10 matches.\n",
      "Precision: 99.8%\n",
      "Recall: 96.9%\n"
     ]
    }
   ],
   "source": [
    "tp = 0\n",
    "fp = 0\n",
    "\n",
    "for i, m in enumerate(mask):\n",
    "    if m:\n",
    "        entity_a = alice_reordered[i].split(',')\n",
    "        entity_b = bob_reordered[i].split(',')\n",
    "        if entity_a[0].split('-')[1] == entity_b[0].split('-')[1]:\n",
    "            tp += 1\n",
    "        else:\n",
    "            fp += 1\n",
    "            #print('False positive:',' '.join(entity_a[1:3]).title(), '?', ' '.join(entity_b[1:3]).title(), entity_a[-1] == entity_b[-1])\n",
    "\n",
    "print(\"Found {} correct matches out of 5000. Incorrectly linked {} matches.\".format(tp, fp))\n",
    "precision = tp/(tp+fp)\n",
    "recall = tp/5000\n",
    "\n",
    "print(\"Precision: {:.1f}%\".format(100*precision))\n",
    "print(\"Recall: {:.1f}%\".format(100*recall))"
   ]
  }
 ],
 "metadata": {
  "kernelspec": {
   "display_name": "Python 3",
   "language": "python",
   "name": "python3"
  },
  "language_info": {
   "codemirror_mode": {
    "name": "ipython",
    "version": 3
   },
   "file_extension": ".py",
   "mimetype": "text/x-python",
   "name": "python",
   "nbconvert_exporter": "python",
   "pygments_lexer": "ipython3",
   "version": "3.7.0"
  }
 },
 "nbformat": 4,
 "nbformat_minor": 2
}
