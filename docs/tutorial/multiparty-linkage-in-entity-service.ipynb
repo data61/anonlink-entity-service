{
 "cells": [
  {
   "cell_type": "code",
   "execution_count": 1,
   "metadata": {
    "pycharm": {
     "is_executing": false
    }
   },
   "outputs": [],
   "source": [
    "import csv\n",
    "import itertools\n",
    "import os\n",
    "import pandas as pd\n",
    "\n",
    "import requests"
   ]
  },
  {
   "cell_type": "markdown",
   "metadata": {
    "pycharm": {}
   },
   "source": [
    "# Entity Service: Multiparty linkage demo\n",
    "This notebook is a demonstration of the multiparty linkage capability that has been implemented in the Entity Service.\n",
    "\n",
    "We show how five parties may upload their hashed data to the Entity Service to obtain a multiparty linkage result. This result identifies each entity across all datasets in which they are included.\n",
    "\n",
    "Each party has a dataset of the following form:"
   ]
  },
  {
   "cell_type": "code",
   "execution_count": 2,
   "metadata": {},
   "outputs": [
    {
     "data": {
      "text/html": [
       "<div>\n",
       "<style scoped>\n",
       "    .dataframe tbody tr th:only-of-type {\n",
       "        vertical-align: middle;\n",
       "    }\n",
       "\n",
       "    .dataframe tbody tr th {\n",
       "        vertical-align: top;\n",
       "    }\n",
       "\n",
       "    .dataframe thead th {\n",
       "        text-align: right;\n",
       "    }\n",
       "</style>\n",
       "<table border=\"1\" class=\"dataframe\">\n",
       "  <thead>\n",
       "    <tr style=\"text-align: right;\">\n",
       "      <th></th>\n",
       "      <th>givenname</th>\n",
       "      <th>surname</th>\n",
       "      <th>dob</th>\n",
       "      <th>gender</th>\n",
       "      <th>city</th>\n",
       "      <th>income</th>\n",
       "      <th>phone number</th>\n",
       "    </tr>\n",
       "    <tr>\n",
       "      <th>id</th>\n",
       "      <th></th>\n",
       "      <th></th>\n",
       "      <th></th>\n",
       "      <th></th>\n",
       "      <th></th>\n",
       "      <th></th>\n",
       "      <th></th>\n",
       "    </tr>\n",
       "  </thead>\n",
       "  <tbody>\n",
       "    <tr>\n",
       "      <td>0</td>\n",
       "      <td>tara</td>\n",
       "      <td>hilton</td>\n",
       "      <td>27-08-1941</td>\n",
       "      <td>male</td>\n",
       "      <td>canberra</td>\n",
       "      <td>84052.973</td>\n",
       "      <td>08 2210 0298</td>\n",
       "    </tr>\n",
       "    <tr>\n",
       "      <td>3</td>\n",
       "      <td>saJi</td>\n",
       "      <td>vernre</td>\n",
       "      <td>22-12-2972</td>\n",
       "      <td>mals</td>\n",
       "      <td>perth</td>\n",
       "      <td>50104.118</td>\n",
       "      <td>02 1090 1906</td>\n",
       "    </tr>\n",
       "    <tr>\n",
       "      <td>7</td>\n",
       "      <td>sliver</td>\n",
       "      <td>paciorek</td>\n",
       "      <td>NaN</td>\n",
       "      <td>mals</td>\n",
       "      <td>sydney</td>\n",
       "      <td>31750.893</td>\n",
       "      <td>NaN</td>\n",
       "    </tr>\n",
       "    <tr>\n",
       "      <td>9</td>\n",
       "      <td>ruby</td>\n",
       "      <td>george</td>\n",
       "      <td>09-05-1939</td>\n",
       "      <td>male</td>\n",
       "      <td>sydney</td>\n",
       "      <td>135099.875</td>\n",
       "      <td>07 4698 6255</td>\n",
       "    </tr>\n",
       "    <tr>\n",
       "      <td>10</td>\n",
       "      <td>eyrinm</td>\n",
       "      <td>campbell</td>\n",
       "      <td>29-1q-1983</td>\n",
       "      <td>male</td>\n",
       "      <td>perth</td>\n",
       "      <td>NaN</td>\n",
       "      <td>08 299y 1535</td>\n",
       "    </tr>\n",
       "  </tbody>\n",
       "</table>\n",
       "</div>"
      ],
      "text/plain": [
       "   givenname   surname         dob gender      city      income  phone number\n",
       "id                                                                           \n",
       "0       tara    hilton  27-08-1941   male  canberra   84052.973  08 2210 0298\n",
       "3       saJi    vernre  22-12-2972   mals     perth   50104.118  02 1090 1906\n",
       "7     sliver  paciorek         NaN   mals    sydney   31750.893           NaN\n",
       "9       ruby    george  09-05-1939   male    sydney  135099.875  07 4698 6255\n",
       "10    eyrinm  campbell  29-1q-1983   male     perth         NaN  08 299y 1535"
      ]
     },
     "execution_count": 2,
     "metadata": {},
     "output_type": "execute_result"
    }
   ],
   "source": [
    "pd.read_csv('data/dataset-1.csv', index_col='id').head()"
   ]
  },
  {
   "cell_type": "markdown",
   "metadata": {},
   "source": [
    "Comparing the beginning of the first dataset to the second, we can see that the quality of the data is not very good. There are a lot of spelling mistakes and missing information. Let's see how well the entity service does with linking those entities."
   ]
  },
  {
   "cell_type": "code",
   "execution_count": 3,
   "metadata": {},
   "outputs": [
    {
     "data": {
      "text/html": [
       "<div>\n",
       "<style scoped>\n",
       "    .dataframe tbody tr th:only-of-type {\n",
       "        vertical-align: middle;\n",
       "    }\n",
       "\n",
       "    .dataframe tbody tr th {\n",
       "        vertical-align: top;\n",
       "    }\n",
       "\n",
       "    .dataframe thead th {\n",
       "        text-align: right;\n",
       "    }\n",
       "</style>\n",
       "<table border=\"1\" class=\"dataframe\">\n",
       "  <thead>\n",
       "    <tr style=\"text-align: right;\">\n",
       "      <th></th>\n",
       "      <th>givenname</th>\n",
       "      <th>surname</th>\n",
       "      <th>dob</th>\n",
       "      <th>gender</th>\n",
       "      <th>city</th>\n",
       "      <th>income</th>\n",
       "      <th>phone number</th>\n",
       "    </tr>\n",
       "    <tr>\n",
       "      <th>id</th>\n",
       "      <th></th>\n",
       "      <th></th>\n",
       "      <th></th>\n",
       "      <th></th>\n",
       "      <th></th>\n",
       "      <th></th>\n",
       "      <th></th>\n",
       "    </tr>\n",
       "  </thead>\n",
       "  <tbody>\n",
       "    <tr>\n",
       "      <td>3</td>\n",
       "      <td>zali</td>\n",
       "      <td>verner</td>\n",
       "      <td>22-12-1972</td>\n",
       "      <td>male</td>\n",
       "      <td>perth</td>\n",
       "      <td>50104.118</td>\n",
       "      <td>02 1090 1906</td>\n",
       "    </tr>\n",
       "    <tr>\n",
       "      <td>4</td>\n",
       "      <td>samuel</td>\n",
       "      <td>tremellen</td>\n",
       "      <td>21-12-1923</td>\n",
       "      <td>male</td>\n",
       "      <td>melbourne</td>\n",
       "      <td>159316.091</td>\n",
       "      <td>03 3605 9336</td>\n",
       "    </tr>\n",
       "    <tr>\n",
       "      <td>5</td>\n",
       "      <td>amy</td>\n",
       "      <td>lodge</td>\n",
       "      <td>16-01-1958</td>\n",
       "      <td>male</td>\n",
       "      <td>canberra</td>\n",
       "      <td>70170.456</td>\n",
       "      <td>07 8286 9372</td>\n",
       "    </tr>\n",
       "    <tr>\n",
       "      <td>7</td>\n",
       "      <td>oIji</td>\n",
       "      <td>pacioerk</td>\n",
       "      <td>10-02-1959</td>\n",
       "      <td>mal3</td>\n",
       "      <td>sydney</td>\n",
       "      <td>31750.893</td>\n",
       "      <td>04 4220 5949</td>\n",
       "    </tr>\n",
       "    <tr>\n",
       "      <td>10</td>\n",
       "      <td>erin</td>\n",
       "      <td>kampgell</td>\n",
       "      <td>29-12-1983</td>\n",
       "      <td>make</td>\n",
       "      <td>perth</td>\n",
       "      <td>331476.598</td>\n",
       "      <td>08 2996 1445</td>\n",
       "    </tr>\n",
       "  </tbody>\n",
       "</table>\n",
       "</div>"
      ],
      "text/plain": [
       "   givenname    surname         dob gender       city      income  \\\n",
       "id                                                                  \n",
       "3       zali     verner  22-12-1972   male      perth   50104.118   \n",
       "4     samuel  tremellen  21-12-1923   male  melbourne  159316.091   \n",
       "5        amy      lodge  16-01-1958   male   canberra   70170.456   \n",
       "7       oIji   pacioerk  10-02-1959   mal3     sydney   31750.893   \n",
       "10      erin   kampgell  29-12-1983   make      perth  331476.598   \n",
       "\n",
       "    phone number  \n",
       "id                \n",
       "3   02 1090 1906  \n",
       "4   03 3605 9336  \n",
       "5   07 8286 9372  \n",
       "7   04 4220 5949  \n",
       "10  08 2996 1445  "
      ]
     },
     "execution_count": 3,
     "metadata": {},
     "output_type": "execute_result"
    }
   ],
   "source": [
    "pd.read_csv('data/dataset-2.csv', index_col='id').head()"
   ]
  },
  {
   "cell_type": "markdown",
   "metadata": {
    "pycharm": {}
   },
   "source": [
    "## Check the status of the Entity Service\n",
    "Ensure that it is running and that we have the correct version. Multiparty support was introduced in version 1.11.0."
   ]
  },
  {
   "cell_type": "code",
   "execution_count": 4,
   "metadata": {
    "pycharm": {
     "is_executing": false
    }
   },
   "outputs": [
    {
     "name": "stdout",
     "output_type": "stream",
     "text": [
      "{'project_count': 7107, 'rate': 2884208, 'status': 'ok'}\n",
      "{'anonlink': '0.12.5', 'entityservice': 'v1.13.0-alpha', 'python': '3.7.5'}\n"
     ]
    }
   ],
   "source": [
    "SERVER = os.getenv(\"SERVER\", \"https://anonlink.easd.data61.xyz\")\n",
    "PREFIX = f\"{SERVER}/api/v1\"\n",
    "print(requests.get(f\"{PREFIX}/status\").json())\n",
    "print(requests.get(f\"{PREFIX}/version\").json())"
   ]
  },
  {
   "cell_type": "markdown",
   "metadata": {
    "pycharm": {}
   },
   "source": [
    "## Create a new project\n",
    "We create a new multiparty project for five parties by specifying the number of parties and the output type (currently only the `group` output type supports multiparty linkage). Retain the `project_id`, so we can find the project later. Also retain the `result_token`, so we can retrieve the results (careful: anyone with this token has access to the results). Finally, the `update_tokens` identify the five data data providers and permit them to upload CLKs."
   ]
  },
  {
   "cell_type": "code",
   "execution_count": 5,
   "metadata": {
    "pycharm": {
     "is_executing": false
    }
   },
   "outputs": [
    {
     "name": "stdout",
     "output_type": "stream",
     "text": [
      "project_id: e3602cac3940582e87c636f3a3827176ca7abe8d5b4e0096\n",
      "\n",
      "result_token: ca19df31d445fade86390f38c5d8f578d545c5f92376ffb3\n",
      "\n",
      "update_tokens: ['c24cab922055e8dd2c7ea639c342b9fce706fbbe7a531f8e', '7712f77f2ab2c2d7210ffa09465de5209ac9f50657fac0a8', 'ae41434b182d2ac82fc0646bf4e49e0e6c5e8f52f6350ba1', 'd8419a8c0f4b274ed1aca56d6adc8b8743c681b7eb02af9a', 'baefc60676a830b648fd176cc1c6d18248b048825036f8d6']\n"
     ]
    }
   ],
   "source": [
    "project_info = requests.post(\n",
    "    f\"{PREFIX}/projects\",\n",
    "    json={\n",
    "        \"schema\": {},\n",
    "        \"result_type\": \"groups\",\n",
    "        \"number_parties\": 5,\n",
    "        \"name\": \"example project\"\n",
    "    }\n",
    ").json()\n",
    "project_id = project_info[\"project_id\"]\n",
    "result_token = project_info[\"result_token\"]\n",
    "update_tokens = project_info[\"update_tokens\"]\n",
    "\n",
    "print(\"project_id:\", project_id)\n",
    "print()\n",
    "print(\"result_token:\", result_token)\n",
    "print()\n",
    "print(\"update_tokens:\", update_tokens)"
   ]
  },
  {
   "cell_type": "markdown",
   "metadata": {
    "pycharm": {}
   },
   "source": [
    "## Upload the hashed data\n",
    "This is where each party uploads their CLKs into the service. Here, we do the work of all five data providers inside this for loop. In a deployment scenario, each data provider would be uploading their own CLKs using their own update token.\n",
    "\n",
    "These CLKs are already hashed using [clkhash](https://github.com/data61/clkhash) (with [this](data/schema.json) linkage schema), so for each data provider, we just need to upload their corresponding hash file."
   ]
  },
  {
   "cell_type": "code",
   "execution_count": 6,
   "metadata": {
    "pycharm": {
     "is_executing": false
    }
   },
   "outputs": [
    {
     "name": "stdout",
     "output_type": "stream",
     "text": [
      "Data provider 1: {\n",
      "  \"message\": \"Updated\",\n",
      "  \"receipt_token\": \"b060225db2fb1edda39bcc2153a9310392f87abcacd9db2b\"\n",
      "}\n",
      "\n",
      "Data provider 2: {\n",
      "  \"message\": \"Updated\",\n",
      "  \"receipt_token\": \"db94c740c469a9bda9931829d1ba58210426134a46ba1edb\"\n",
      "}\n",
      "\n",
      "Data provider 3: {\n",
      "  \"message\": \"Updated\",\n",
      "  \"receipt_token\": \"ad60b956a4f90c8dd16fb7d278c0a8670d0bb3348a19f70a\"\n",
      "}\n",
      "\n",
      "Data provider 4: {\n",
      "  \"message\": \"Updated\",\n",
      "  \"receipt_token\": \"2ce533e0a87020654d150084389529ba05bb1ad1628a0bd4\"\n",
      "}\n",
      "\n",
      "Data provider 5: {\n",
      "  \"message\": \"Updated\",\n",
      "  \"receipt_token\": \"ce6b281666226d181a9b8bb191daf57128400096d59bfd4c\"\n",
      "}\n",
      "\n"
     ]
    }
   ],
   "source": [
    "for i, token in enumerate(update_tokens, start=1):\n",
    "    with open(f\"data/clks-{i}.json\") as f:\n",
    "        r = requests.post(\n",
    "            f\"{PREFIX}/projects/{project_id}/clks\",\n",
    "            data=f,\n",
    "            headers={\n",
    "                \"Authorization\": token,\n",
    "                \"content-type\": \"application/json\"\n",
    "            }\n",
    "        )\n",
    "    print(f\"Data provider {i}: {r.text}\")"
   ]
  },
  {
   "cell_type": "markdown",
   "metadata": {
    "pycharm": {}
   },
   "source": [
    "## Begin a run\n",
    "The data providers have uploaded their CLKs, so we may begin the computation. This computation may be repeated multiple times, each time with different parameters. Each such repetition is called a run. The most important parameter to vary between runs is the similarity threshold. Two records whose similarity is above this threshold will be considered to describe the same entity.\n",
    "\n",
    "Here, we perform one run. We (somewhat arbitrarily) choose the threshold to be 0.8."
   ]
  },
  {
   "cell_type": "code",
   "execution_count": 7,
   "metadata": {
    "pycharm": {
     "is_executing": false
    }
   },
   "outputs": [],
   "source": [
    "r = requests.post(\n",
    "    f\"{PREFIX}/projects/{project_id}/runs\",\n",
    "    headers={\n",
    "        \"Authorization\": result_token\n",
    "    },\n",
    "    json={\n",
    "        \"threshold\": 0.8\n",
    "    }\n",
    ")\n",
    "run_id = r.json()[\"run_id\"]"
   ]
  },
  {
   "cell_type": "markdown",
   "metadata": {
    "pycharm": {}
   },
   "source": [
    "## Check the status\n",
    "Let's see whether the run has finished ('state' is 'completed')!"
   ]
  },
  {
   "cell_type": "code",
   "execution_count": 8,
   "metadata": {
    "pycharm": {}
   },
   "outputs": [
    {
     "data": {
      "text/plain": [
       "{'current_stage': {'description': 'compute similarity scores',\n",
       "  'number': 2,\n",
       "  'progress': {'absolute': 0,\n",
       "   'description': 'number of already computed similarity scores',\n",
       "   'relative': 0.0}},\n",
       " 'stages': 3,\n",
       " 'state': 'running',\n",
       " 'time_added': '2019-11-24T23:12:37.412183+00:00',\n",
       " 'time_started': '2019-11-24T23:12:37.436726+00:00'}"
      ]
     },
     "execution_count": 8,
     "metadata": {},
     "output_type": "execute_result"
    }
   ],
   "source": [
    "r = requests.get(\n",
    "    f\"{PREFIX}/projects/{project_id}/runs/{run_id}/status\",\n",
    "    headers={\n",
    "        \"Authorization\": result_token\n",
    "    }\n",
    ")\n",
    "r.json()"
   ]
  },
  {
   "cell_type": "markdown",
   "metadata": {},
   "source": [
    "Now after some delay (depending on the size) we can fetch the results. Waiting for completion can be achieved by directly polling the REST API using `requests`, however for simplicity we will just use the `watch_run_status` function provided in `clkhash.rest_client`."
   ]
  },
  {
   "cell_type": "code",
   "execution_count": 9,
   "metadata": {},
   "outputs": [
    {
     "name": "stdout",
     "output_type": "stream",
     "text": [
      "State: completed\n",
      "Stage (3/3): compute output\n"
     ]
    }
   ],
   "source": [
    "from IPython.display import clear_output\n",
    "from clkhash.rest_client import RestClient\n",
    "from clkhash.rest_client import format_run_status\n",
    "rest_client = RestClient(SERVER)\n",
    "for update in rest_client.watch_run_status(project_id, run_id, result_token, timeout=300):\n",
    "    clear_output(wait=True)\n",
    "    print(format_run_status(update))"
   ]
  },
  {
   "cell_type": "markdown",
   "metadata": {
    "pycharm": {}
   },
   "source": [
    "## Retrieve the results\n",
    "We retrieve the results of the linkage. As we selected earlier, the result is a list of groups of records. Every record in such a group belongs to the same entity and consists of two values, the party id and the row index.\n",
    "\n",
    "The last 20 groups look like this."
   ]
  },
  {
   "cell_type": "code",
   "execution_count": 10,
   "metadata": {
    "pycharm": {}
   },
   "outputs": [
    {
     "data": {
      "text/plain": [
       "[[[3, 1831], [4, 1854]],\n",
       " [[0, 2362], [2, 2369]],\n",
       " [[2, 2910], [4, 2915]],\n",
       " [[3, 1885], [4, 1902]],\n",
       " [[2, 11], [3, 10]],\n",
       " [[0, 3085], [3, 3117]],\n",
       " [[1, 815], [3, 838]],\n",
       " [[1, 450], [2, 474]],\n",
       " [[0, 1253], [2, 1252], [1, 1191], [4, 1261]],\n",
       " [[1, 1967], [2, 1985]],\n",
       " [[1, 4], [4, 2]],\n",
       " [[1, 468], [2, 489], [3, 482], [4, 469]],\n",
       " [[2, 2384], [3, 2378], [0, 2378]],\n",
       " [[3, 2102], [4, 2115]],\n",
       " [[1, 2215], [2, 2221]],\n",
       " [[0, 1993], [4, 1994]],\n",
       " [[0, 474], [4, 437], [1, 443], [2, 466]],\n",
       " [[1, 1034], [2, 1090]],\n",
       " [[0, 1835], [4, 1847]],\n",
       " [[0, 2496], [4, 2498]]]"
      ]
     },
     "execution_count": 10,
     "metadata": {},
     "output_type": "execute_result"
    }
   ],
   "source": [
    "r = requests.get(\n",
    "    f\"{PREFIX}/projects/{project_id}/runs/{run_id}/result\",\n",
    "    headers={\n",
    "        \"Authorization\": result_token\n",
    "    }\n",
    ")\n",
    "groups = r.json()\n",
    "groups['groups'][-20:]"
   ]
  },
  {
   "cell_type": "markdown",
   "metadata": {},
   "source": [
    "To sanity check, we print their records' corresponding PII:"
   ]
  },
  {
   "cell_type": "code",
   "execution_count": 11,
   "metadata": {
    "pycharm": {}
   },
   "outputs": [
    {
     "name": "stdout",
     "output_type": "stream",
     "text": [
      "3 ['joshua', 'tremellen', '05-01-1988', 'male', 'sydney', '156320.936', '03 7154 7258']\n",
      "4 ['joua', 'dreemleln', '05-01-1988', 'male', 'sydnru', '156320.936', '03 8154 7258']\n",
      "\n",
      "0 ['katharine', 'procter', '03-02-2003', 'female', 'sydney', '116172.524', '08 4057 0794']\n",
      "2 ['katharine', 'procter', '03-02-3003', 'femald', 'sydnev', '116172.524', '08 4057 0694']\n",
      "\n",
      "2 ['georgi3', \"wytk'ln\", '01-06-1927', 'male', 'sydriry', '35625.897', '08 2668 2433']\n",
      "4 ['georgja', 'ytkkn', '01-06-1927', 'male', 'sydrirv', '35626.797', '08 2668 2433']\n",
      "\n",
      "3 ['heath', 'ryan', '20-02-1949', 'male', 'canberra', '70507.784', '04 9913 1283']\n",
      "4 ['heath', 'rya17', '20-02-2949', '', 'canbcera4', '70507.784', '04 9913 1283']\n",
      "\n",
      "2 ['siaitlyn', 'robezon', '31-12-1937', 'male', 'sdvnev', '105108.052', '07 2226 8544']\n",
      "3 ['kaitlyn', 'robeson', '31-12-1937', 'maoe', 'sydney', '105107.051', '07 2226 8545']\n",
      "\n",
      "0 ['holly', 'reih', '22-06-2009', 'msle', 'syconey', '131184.582', '']\n",
      "3 ['holly', 'reicl', '21-06-2009', 'male', 'sydey', '131184.582', '']\n",
      "\n",
      "1 ['sasmine', 'bridqland', '20-06-1942', 'msle', 'syclney', '155539.109', '04 5020 4447']\n",
      "3 ['ajsmine', 'bridgland', '20-06-2942', 'male', 's6dney', '155539.100', '04 5020 4447']\n",
      "\n",
      "1 ['ella', 'mo1davt5ev', '01-93-1985', 'male', 'pertj', '', '03 1427 7602']\n",
      "2 ['ella', 'moldavtsev', '01-03-1985', 'male', 'perth', '171412.470', '03 1427 7602']\n",
      "\n",
      "0 ['courtney', 'mashberg', '30-05-1908', 'male', 'perth', '277942.921', '03 1022 1796']\n",
      "2 ['courtne', 'mazhberg', '30-05-1908', 'mzle', 'perth', '277942.021', '03 1022 1796']\n",
      "1 ['courtnev', 'mashbcrg', '30-05-1808', 'male', 'perth', '277941.921', '03 1022 1796']\n",
      "4 ['kourtney', 'msshperg', '30-05-1907', 'male', 'per6b', '277942.921', '03 1022 1796']\n",
      "\n",
      "1 ['ary', 'relkos', '26-10-2003', 'male', 'melbonrrie', '136614.506', '02 2102 6467']\n",
      "2 ['arru', 'rellos', '26-10-2093', 'male', 'melbouthd', '136614.506', '02 1192 6367']\n",
      "\n",
      "1 ['erin', 'kampgell', '29-12-1983', 'make', 'perth', '331476.598', '08 2996 1445']\n",
      "4 ['wrin', 'kampbwll', '29-22-1983', 'male', 'pertl0', '331476.599', '08 2996 1435']\n",
      "\n",
      "1 ['stephnaie', 'goldsworthy', '03-06-1958', '', 'canbrrra', '83372.67q', '02 4093 4044']\n",
      "2 ['sttepbanie', 'goldsworthy', '03-06-1958', 'mald', 'canbedra', '83372.772', '02 4093 4044']\n",
      "3 ['stefanie', 'goldsworthy', '03-06-1958', 'male', 'camberra', '83372.572', '']\n",
      "4 ['stefanie', 'go|dsworthy', '03-06-1958', '', 'cabr:erra', '83372.672', '02 4093 4044']\n",
      "\n",
      "2 ['ro5y', 'whitr', '30-12-1933', 'mal4', 'sydney', '91104.885', '02 2375 0175']\n",
      "3 ['rory', 'white', '30-12-1933', 'male', 'sydney', '91104.785', '02 2375 0175']\n",
      "0 ['mory', 'wh:te', '30-12-1033', 'male', 'sydhey', '91104.785', '02 2375 0175']\n",
      "\n",
      "3 ['antony', 'riean', '18-01-1908', 'male', 'canberra', '59633.334', '07 2734 8270']\n",
      "4 ['anthnoy', 'ryari', '18-01-1908', 'male', 'cajberra', '58633.434', '07 2734 8370']\n",
      "\n",
      "1 ['ryan', 'allxhin', '20-10-2011', 'male', 'melbounre', '267843.384', '']\n",
      "2 ['ryan', 'allchin', '20-10-2011', 'male', 'melbourne', '167843.484', '08 7962 6255']\n",
      "\n",
      "0 ['haery', 'reklos', '26-10-2003', 'malw', 'mlebourne', '136614.506', '02 1102 6467']\n",
      "4 ['harey', 'eelloz', '26-10-2003', 'mame', 'melbourne', '136614.506', '02 110w 6467']\n",
      "\n",
      "0 ['larizsa', 'morrison', '16-04-2960', 'maje', 'melbouene', '196846.869', '04 3434 7115']\n",
      "4 ['larissa', 'morrison', '16-04-1960', 'male', 'melbourne', '196846.869', '04 3434 7115']\n",
      "1 ['lairssa', 'mornson', '16-04-1960', 'male', '', '196836.869', '04 3434 7115']\n",
      "2 ['larissa', 'morrijon', '16-04-1960', 'make', '', '196846.859', '04 3434 7115']\n",
      "\n",
      "1 [\"ke'Irx\", 'chappel', '19-05-1966', 'male', '', '138869.396', '']\n",
      "2 ['keira', 'chapepl', '19-05-1966', 'male', '', '148869.296', '']\n",
      "\n",
      "0 ['meagan', 'vrahn', '26-05-2950', '', 'melbourne', '154858.094', '04 1222 9254']\n",
      "4 ['meagan', 'frahn', '26-05-1950', 'male', 'melbourne', '154856.094', '04 1222 9254']\n",
      "\n",
      "0 ['zoel', 'ev', '06-09-1990', 'gemale', 'ysdnvvy', '183366.696', '02 5578 4520']\n",
      "4 ['joel', 'everett', '06-09-1990', 'female', 'sydney', '183366.696', '02 5578 4520']\n",
      "\n"
     ]
    }
   ],
   "source": [
    "def load_dataset(i):\n",
    "    dataset = []\n",
    "    with open(f\"data/dataset-{i}.csv\") as f:\n",
    "        reader = csv.reader(f)\n",
    "        next(reader)  # ignore header\n",
    "        for row in reader:\n",
    "            dataset.append(row[1:])\n",
    "    return dataset\n",
    "\n",
    "datasets = list(map(load_dataset, range(1, 6)))\n",
    "\n",
    "for group in itertools.islice(groups[\"groups\"][-20:], 20):\n",
    "    for (i, j) in group:\n",
    "        print(i, datasets[i][j])\n",
    "    print()"
   ]
  },
  {
   "cell_type": "markdown",
   "metadata": {
    "pycharm": {}
   },
   "source": [
    "Despite the high amount of noise in the data, the entity service was able to produce a fairly accurate matching. However, Isabella George and Mia/Talia Galbraith are most likely not an actual match.\n",
    "\n",
    "We may be able to improve on this results by fine-tuning the hashing schema or by changing the threshold."
   ]
  },
  {
   "cell_type": "markdown",
   "metadata": {
    "pycharm": {}
   },
   "source": [
    "## Delete the project"
   ]
  },
  {
   "cell_type": "code",
   "execution_count": 12,
   "metadata": {
    "pycharm": {}
   },
   "outputs": [
    {
     "name": "stdout",
     "output_type": "stream",
     "text": [
      "204\n"
     ]
    }
   ],
   "source": [
    "r = requests.delete(\n",
    "    f\"{PREFIX}/projects/{project_id}\",\n",
    "    headers={\n",
    "        \"Authorization\": result_token\n",
    "    }\n",
    ")\n",
    "print(r.status_code)"
   ]
  }
 ],
 "metadata": {
  "kernelspec": {
   "display_name": "Python 3",
   "language": "python",
   "name": "python3"
  },
  "language_info": {
   "codemirror_mode": {
    "name": "ipython",
    "version": 3
   },
   "file_extension": ".py",
   "mimetype": "text/x-python",
   "name": "python",
   "nbconvert_exporter": "python",
   "pygments_lexer": "ipython3",
   "version": "3.7.4"
  },
  "pycharm": {
   "stem_cell": {
    "cell_type": "raw",
    "metadata": {
     "collapsed": false
    },
    "source": []
   }
  }
 },
 "nbformat": 4,
 "nbformat_minor": 2
}
