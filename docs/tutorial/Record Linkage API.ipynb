{
 "cells": [
  {
   "cell_type": "markdown",
   "metadata": {
    "pycharm": {}
   },
   "source": [
    "# Anonlink Entity Service API\n",
    "\n",
    "This tutorial demonstrates interacting with the entity service via the REST API. The primary alternative is to use\n",
    "a library or command line tool such as [`clkhash`](http://clkhash.readthedocs.io/) which can handle the communication with the anonlink entity service.\n",
    "\n",
    "### Dependencies\n",
    "\n",
    "In this tutorial we interact with the REST API using the `requests` Python library. Additionally we use the `clkhash` Python library in this tutorial to define the linkage schema and to encode the PII. The synthetic dataset comes from the `recordlinkage` package. All the dependencies can be installed with pip:\n",
    "\n",
    "```\n",
    "pip install requests clkhash recordlinkage\n",
    "```\n",
    "\n",
    "\n",
    "### Steps\n",
    "\n",
    "* Check connection to Anonlink Entity Service\n",
    "* Synthetic Data generation and encoding\n",
    "* Create a new linkage project\n",
    "* Upload the encodings\n",
    "* Create a run\n",
    "* Retrieve and analyse results"
   ]
  },
  {
   "cell_type": "code",
   "execution_count": 1,
   "metadata": {
    "pycharm": {
     "is_executing": false
    }
   },
   "outputs": [],
   "source": [
    "import json\n",
    "import os\n",
    "import time\n",
    "import requests\n",
    "\n",
    "from IPython.display import clear_output"
   ]
  },
  {
   "cell_type": "markdown",
   "metadata": {
    "pycharm": {}
   },
   "source": [
    "## Check Connection\n",
    "\n",
    "If you are connecting to a custom entity service, change the address here."
   ]
  },
  {
   "cell_type": "code",
   "execution_count": 2,
   "metadata": {
    "pycharm": {
     "is_executing": false
    }
   },
   "outputs": [
    {
     "name": "stdout",
     "output_type": "stream",
     "text": [
      "Testing anonlink-entity-service hosted at https://testing.es.data61.xyz/api/v1/\n"
     ]
    }
   ],
   "source": [
    "server = os.getenv(\"SERVER\", \"https://testing.es.data61.xyz\")\n",
    "url = server + \"/api/v1/\"\n",
    "print(f'Testing anonlink-entity-service hosted at {url}')"
   ]
  },
  {
   "cell_type": "code",
   "execution_count": 3,
   "metadata": {
    "pycharm": {
     "is_executing": false
    }
   },
   "outputs": [
    {
     "data": {
      "text/plain": [
       "{'project_count': 6535, 'rate': 2504556, 'status': 'ok'}"
      ]
     },
     "execution_count": 3,
     "metadata": {},
     "output_type": "execute_result"
    }
   ],
   "source": [
    "requests.get(url + 'status').json()"
   ]
  },
  {
   "cell_type": "markdown",
   "metadata": {
    "pycharm": {}
   },
   "source": [
    "## Data preparation\n",
    "\n",
    "This section won't be explained in great detail as it directly follows the \n",
    "[clkhash tutorials](http://clkhash.readthedocs.io/en/latest/).\n",
    "\n",
    "We encode a synthetic dataset from the `recordlinkage` library using `clkhash`."
   ]
  },
  {
   "cell_type": "code",
   "execution_count": 4,
   "metadata": {
    "pycharm": {
     "is_executing": false
    }
   },
   "outputs": [],
   "source": [
    "from tempfile import NamedTemporaryFile\n",
    "from recordlinkage.datasets import load_febrl4"
   ]
  },
  {
   "cell_type": "code",
   "execution_count": 5,
   "metadata": {
    "pycharm": {
     "is_executing": false
    }
   },
   "outputs": [],
   "source": [
    "dfA, dfB = load_febrl4()"
   ]
  },
  {
   "cell_type": "code",
   "execution_count": 6,
   "metadata": {
    "pycharm": {
     "is_executing": false
    }
   },
   "outputs": [],
   "source": [
    "with open('a.csv', 'w') as a_csv:\n",
    "    dfA.to_csv(a_csv, line_terminator='\\n')\n",
    "\n",
    "with open('b.csv', 'w') as b_csv:    \n",
    "    dfB.to_csv(b_csv, line_terminator='\\n')"
   ]
  },
  {
   "cell_type": "markdown",
   "metadata": {
    "pycharm": {}
   },
   "source": [
    "## Schema Preparation\n",
    "\n",
    "The linkage schema must be agreed on by the two parties. A hashing schema instructs `clkhash` how to treat each column for encoding PII into CLKs. A detailed description of the hashing schema can be found in the [clkhash documentation](https://clkhash.readthedocs.io/en/latest/schema.html).\n",
    "\n",
    "A linkage schema can either be defined as Python code as shown here, or as a JSON file (shown in other tutorials). The importance of each field is controlled by the `k` parameter in the `FieldHashingProperties`.\n",
    "We ignore the record id and social security id fields so they won't be incorporated into the encoding."
   ]
  },
  {
   "cell_type": "code",
   "execution_count": 7,
   "metadata": {
    "pycharm": {
     "is_executing": false
    }
   },
   "outputs": [],
   "source": [
    "import clkhash\n",
    "from clkhash.comparators import *\n",
    "from clkhash.field_formats import *\n",
    "schema = clkhash.randomnames.NameList.SCHEMA\n",
    "_missing = MissingValueSpec(sentinel='')\n",
    "schema.fields = [\n",
    "    Ignore('rec_id'),\n",
    "    StringSpec('given_name',\n",
    "               FieldHashingProperties(\n",
    "                   NgramComparison(2),\n",
    "                   BitsPerTokenStrategy(15))),\n",
    "    StringSpec('surname',\n",
    "               FieldHashingProperties(\n",
    "                   NgramComparison(2),\n",
    "                   BitsPerTokenStrategy(15))),\n",
    "    IntegerSpec('street_number',\n",
    "                FieldHashingProperties(\n",
    "                    NgramComparison(1, positional=True),\n",
    "                    BitsPerTokenStrategy(15),\n",
    "                    missing_value=_missing)),\n",
    "    StringSpec('address_1',\n",
    "               FieldHashingProperties(\n",
    "                   NgramComparison(2),\n",
    "                   BitsPerTokenStrategy(15))),\n",
    "    StringSpec('address_2',\n",
    "               FieldHashingProperties(\n",
    "                   NgramComparison(2),\n",
    "                   BitsPerTokenStrategy(15))),\n",
    "    StringSpec('suburb',\n",
    "               FieldHashingProperties(\n",
    "                   NgramComparison(2),\n",
    "                   BitsPerTokenStrategy(15))),\n",
    "    IntegerSpec('postcode',\n",
    "                FieldHashingProperties(\n",
    "                    NgramComparison(1, positional=True),\n",
    "                    BitsPerTokenStrategy(15))),\n",
    "    StringSpec('state',\n",
    "               FieldHashingProperties(\n",
    "                   NgramComparison(2),\n",
    "                   BitsPerTokenStrategy(15))),\n",
    "    IntegerSpec('date_of_birth',\n",
    "                FieldHashingProperties(\n",
    "                    NgramComparison(1, positional=True),\n",
    "                    BitsPerTokenStrategy(15),\n",
    "                    missing_value=_missing)),\n",
    "    Ignore('soc_sec_id')\n",
    "]"
   ]
  },
  {
   "cell_type": "markdown",
   "metadata": {
    "pycharm": {}
   },
   "source": [
    "## Encoding\n",
    "\n",
    "Transforming the *raw* personally identity information into CLK encodings following the defined schema. See the [clkhash](https://clkhash.readthedocs.io/) documentation for further details on this."
   ]
  },
  {
   "cell_type": "code",
   "execution_count": 8,
   "metadata": {
    "pycharm": {
     "is_executing": false
    }
   },
   "outputs": [
    {
     "name": "stderr",
     "output_type": "stream",
     "text": [
      "generating CLKs: 100%|██████████| 5.00k/5.00k [00:00<00:00, 10.7kclk/s, mean=643, std=45.7]\n",
      "generating CLKs: 100%|██████████| 5.00k/5.00k [00:00<00:00, 13.5kclk/s, mean=631, std=52.9]\n"
     ]
    }
   ],
   "source": [
    "from clkhash import clk\n",
    "with open('a.csv') as a_pii:\n",
    "    hashed_data_a = clk.generate_clk_from_csv(a_pii, 'secret', schema, validate=False)\n",
    "    \n",
    "with open('b.csv') as b_pii:\n",
    "    hashed_data_b = clk.generate_clk_from_csv(b_pii, 'secret', schema, validate=False)"
   ]
  },
  {
   "cell_type": "markdown",
   "metadata": {
    "pycharm": {}
   },
   "source": [
    "## Create Linkage Project\n",
    "\n",
    "The analyst carrying out the linkage starts by creating a linkage project of the desired output type with the Entity Service.\n"
   ]
  },
  {
   "cell_type": "code",
   "execution_count": 9,
   "metadata": {
    "pycharm": {
     "is_executing": false
    }
   },
   "outputs": [
    {
     "data": {
      "text/plain": [
       "{'project_id': '4dc4e94983cb003e6eaf1dd9e09ece6c4f6b142076bf2ca3',\n",
       " 'result_token': '0924d34d7fa1a0dc9b3d04b247698d8c070d0896cdb1c7d8',\n",
       " 'update_tokens': ['317b702338d3c9cd8f1d4cdf92bbc67e3a0f9ff019886be5',\n",
       "  'df27bf6dc03b2d166cd33f4ac806fef096c6d4eb5103c105']}"
      ]
     },
     "execution_count": 9,
     "metadata": {},
     "output_type": "execute_result"
    }
   ],
   "source": [
    "project_spec = {\n",
    "  \"schema\": {},\n",
    "  \"result_type\": \"groups\",\n",
    "  \"number_parties\": 2,\n",
    "  \"name\": \"API Tutorial Test\"\n",
    "}\n",
    "credentials = requests.post(url + 'projects', json=project_spec).json()\n",
    "\n",
    "project_id = credentials['project_id']\n",
    "a_token, b_token = credentials['update_tokens']\n",
    "credentials"
   ]
  },
  {
   "cell_type": "markdown",
   "metadata": {},
   "source": [
    "**Note:** the analyst will need to pass on the `project_id` (the \n",
    "id of the linkage project) and one of the two `update_tokens` to \n",
    "each data provider.\n",
    "\n",
    "The `result_token` can also be used to carry out project API requests:"
   ]
  },
  {
   "cell_type": "code",
   "execution_count": 10,
   "metadata": {
    "pycharm": {
     "is_executing": false
    }
   },
   "outputs": [
    {
     "data": {
      "text/plain": [
       "{'error': False,\n",
       " 'name': 'API Tutorial Test',\n",
       " 'notes': '',\n",
       " 'number_parties': 2,\n",
       " 'parties_contributed': 0,\n",
       " 'project_id': '4dc4e94983cb003e6eaf1dd9e09ece6c4f6b142076bf2ca3',\n",
       " 'result_type': 'groups',\n",
       " 'schema': {}}"
      ]
     },
     "execution_count": 10,
     "metadata": {},
     "output_type": "execute_result"
    }
   ],
   "source": [
    "requests.get(url + 'projects/{}'.format(project_id), \n",
    "             headers={\"Authorization\": credentials['result_token']}).json()"
   ]
  },
  {
   "cell_type": "markdown",
   "metadata": {
    "pycharm": {}
   },
   "source": [
    "Now the two clients can upload their data providing the appropriate *upload tokens*."
   ]
  },
  {
   "cell_type": "markdown",
   "metadata": {
    "pycharm": {}
   },
   "source": [
    "## CLK Upload"
   ]
  },
  {
   "cell_type": "code",
   "execution_count": 11,
   "metadata": {
    "pycharm": {
     "is_executing": false
    }
   },
   "outputs": [],
   "source": [
    "a_response = requests.post(\n",
    "    '{}projects/{}/clks'.format(url, project_id),\n",
    "    json={'clks': hashed_data_a},\n",
    "    headers={\"Authorization\": a_token}\n",
    ").json()"
   ]
  },
  {
   "cell_type": "code",
   "execution_count": 12,
   "metadata": {
    "pycharm": {
     "is_executing": false
    }
   },
   "outputs": [],
   "source": [
    "b_response = requests.post(\n",
    "    '{}projects/{}/clks'.format(url, project_id),\n",
    "    json={'clks': hashed_data_b},\n",
    "    headers={\"Authorization\": b_token}\n",
    ").json()"
   ]
  },
  {
   "cell_type": "markdown",
   "metadata": {
    "pycharm": {}
   },
   "source": [
    "Every upload gets a receipt token. In some operating modes this receipt is required to access the results."
   ]
  },
  {
   "cell_type": "markdown",
   "metadata": {
    "pycharm": {}
   },
   "source": [
    "## Create a run\n",
    "\n",
    "Now the project has been created and the CLK data has been uploaded we can carry out some privacy preserving record linkage. Try with a few different threshold values:"
   ]
  },
  {
   "cell_type": "code",
   "execution_count": 13,
   "metadata": {
    "pycharm": {
     "is_executing": false
    }
   },
   "outputs": [],
   "source": [
    "run_response = requests.post(\n",
    "    \"{}projects/{}/runs\".format(url, project_id),\n",
    "    headers={\"Authorization\": credentials['result_token']},\n",
    "    json={\n",
    "        'threshold': 0.80,\n",
    "        'name': \"Tutorial Run #1\"\n",
    "    }\n",
    ").json()"
   ]
  },
  {
   "cell_type": "code",
   "execution_count": 14,
   "metadata": {
    "pycharm": {
     "is_executing": false
    }
   },
   "outputs": [],
   "source": [
    "run_id = run_response['run_id']"
   ]
  },
  {
   "cell_type": "markdown",
   "metadata": {},
   "source": [
    "## Run Status"
   ]
  },
  {
   "cell_type": "code",
   "execution_count": 15,
   "metadata": {
    "pycharm": {
     "is_executing": false
    }
   },
   "outputs": [
    {
     "data": {
      "text/plain": [
       "{'current_stage': {'description': 'compute output', 'number': 3},\n",
       " 'stages': 3,\n",
       " 'state': 'completed',\n",
       " 'time_added': '2019-11-18T22:23:20.085746+00:00',\n",
       " 'time_completed': '2019-11-18T22:23:20.995602+00:00',\n",
       " 'time_started': '2019-11-18T22:23:20.226739+00:00'}"
      ]
     },
     "execution_count": 15,
     "metadata": {},
     "output_type": "execute_result"
    }
   ],
   "source": [
    "requests.get(\n",
    "        '{}projects/{}/runs/{}/status'.format(url, project_id, run_id),\n",
    "        headers={\"Authorization\": credentials['result_token']}\n",
    "    ).json()"
   ]
  },
  {
   "cell_type": "markdown",
   "metadata": {
    "pycharm": {}
   },
   "source": [
    "## Results\n",
    "\n",
    "Now after some delay (depending on the size) we can fetch the results. This can of course be done by directly polling the REST API using `requests`, however for simplicity we will just use the watch_run_status function provided in `clkhash.rest_client`.\n",
    "\n",
    "> Note the `server` is provided rather than `url`."
   ]
  },
  {
   "cell_type": "code",
   "execution_count": 16,
   "metadata": {
    "pycharm": {
     "is_executing": false
    }
   },
   "outputs": [
    {
     "name": "stdout",
     "output_type": "stream",
     "text": [
      "State: completed\n",
      "Stage (3/3): compute output\n"
     ]
    }
   ],
   "source": [
    "from clkhash.rest_client import RestClient\n",
    "from clkhash.rest_client import format_run_status\n",
    "rest_client = RestClient(server)\n",
    "for update in rest_client.watch_run_status(project_id, run_id, credentials['result_token'], timeout=300):\n",
    "    clear_output(wait=True)\n",
    "    print(format_run_status(update))"
   ]
  },
  {
   "cell_type": "code",
   "execution_count": 17,
   "metadata": {
    "pycharm": {
     "is_executing": false
    }
   },
   "outputs": [],
   "source": [
    "data = json.loads(rest_client.run_get_result_text(\n",
    "    project_id, \n",
    "    run_id, \n",
    "    credentials['result_token']))"
   ]
  },
  {
   "cell_type": "markdown",
   "metadata": {
    "pycharm": {}
   },
   "source": [
    "This result is the 1-1 mapping between rows that were more similar than the given threshold."
   ]
  },
  {
   "cell_type": "code",
   "execution_count": 18,
   "metadata": {
    "pycharm": {
     "is_executing": false
    }
   },
   "outputs": [
    {
     "name": "stdout",
     "output_type": "stream",
     "text": [
      "a[843] maps to b[4886]\n",
      "a[1609] maps to b[3419]\n",
      "a[35] maps to b[3965]\n",
      "a[524] maps to b[4735]\n",
      "a[1242] maps to b[1106]\n",
      "a[2398] maps to b[4832]\n",
      "a[1125] maps to b[1371]\n",
      "a[1218] maps to b[725]\n",
      "a[1611] maps to b[1985]\n",
      "a[1467] maps to b[4683]\n",
      "...\n"
     ]
    }
   ],
   "source": [
    "for i in range(10):\n",
    "    ((_, a_index), (_, b_index)) = sorted(data['groups'][i])\n",
    "    print(\"a[{}] maps to b[{}]\".format(a_index, b_index))\n",
    "print(\"...\")"
   ]
  },
  {
   "cell_type": "markdown",
   "metadata": {
    "pycharm": {}
   },
   "source": [
    "In this dataset there are 5000 records in common. With the chosen threshold and schema we currently retrieve:"
   ]
  },
  {
   "cell_type": "code",
   "execution_count": 19,
   "metadata": {
    "pycharm": {
     "is_executing": false
    }
   },
   "outputs": [
    {
     "data": {
      "text/plain": [
       "4842"
      ]
     },
     "execution_count": 19,
     "metadata": {},
     "output_type": "execute_result"
    }
   ],
   "source": [
    "len(data['groups'])"
   ]
  },
  {
   "cell_type": "markdown",
   "metadata": {},
   "source": [
    "## Cleanup\n",
    "\n",
    "If you want you can delete the run and project from the anonlink-entity-service."
   ]
  },
  {
   "cell_type": "code",
   "execution_count": 20,
   "metadata": {
    "pycharm": {
     "is_executing": false
    }
   },
   "outputs": [
    {
     "data": {
      "text/plain": [
       "<Response [204]>"
      ]
     },
     "execution_count": 20,
     "metadata": {},
     "output_type": "execute_result"
    }
   ],
   "source": [
    "requests.delete(\n",
    "    \"{}/projects/{}\".format(url, project_id), \n",
    "    headers={\"Authorization\": credentials['result_token']})"
   ]
  }
 ],
 "metadata": {
  "kernelspec": {
   "display_name": "Python 3",
   "language": "python",
   "name": "python3"
  },
  "language_info": {
   "codemirror_mode": {
    "name": "ipython",
    "version": 3
   },
   "file_extension": ".py",
   "mimetype": "text/x-python",
   "name": "python",
   "nbconvert_exporter": "python",
   "pygments_lexer": "ipython3",
   "version": "3.7.4"
  },
  "pycharm": {
   "stem_cell": {
    "cell_type": "raw",
    "metadata": {
     "collapsed": false
    },
    "source": []
   }
  }
 },
 "nbformat": 4,
 "nbformat_minor": 2
}
