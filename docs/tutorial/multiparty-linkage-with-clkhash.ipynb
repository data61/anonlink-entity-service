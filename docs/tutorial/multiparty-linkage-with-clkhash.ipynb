{
 "cells": [
  {
   "cell_type": "code",
   "execution_count": 1,
   "metadata": {
    "pycharm": {
     "is_executing": false
    }
   },
   "outputs": [],
   "source": [
    "import csv\n",
    "import json\n",
    "import os\n",
    "\n",
    "import pandas as pd"
   ]
  },
  {
   "cell_type": "code",
   "execution_count": 2,
   "metadata": {
    "pycharm": {
     "is_executing": false
    }
   },
   "outputs": [],
   "source": [
    "SECRET = 'my_secret'\n",
    "\n",
    "SERVER = os.getenv(\"SERVER\", \"https://testing.es.data61.xyz\")"
   ]
  },
  {
   "cell_type": "markdown",
   "metadata": {
    "pycharm": {}
   },
   "source": [
    "# Multiparty Linkage with Clkhash\n",
    "\n",
    "\n",
    "## Scenario\n",
    "\n",
    "There are three parties named Alice, Bob, and Charlie, each holding a dataset of about 3200 records. They know that they have some entities in common, but with incomplete overlap. The common features describing those entities are given name, surname, date of birth, and phone number.\n",
    "\n",
    "They all have some additional information about those entities in their respective datasets, Alice has a person's gender, Bob has their city, and Charlie has their income. They wish to create a table for analysis: each row has a gender, city, and income, but they don't want to share any additional information. They can use Anonlink to do this in a privacy-preserving way (without revealing given names, surnames, dates of birth, and phone numbers)."
   ]
  },
  {
   "cell_type": "markdown",
   "metadata": {
    "pycharm": {}
   },
   "source": [
    "## Alice, Bob, and Charlie: agree on secret keys and a linkage schema\n",
    "\n",
    "They keep the keys to themselves, but the schema may be revealed to the analyst."
   ]
  },
  {
   "cell_type": "code",
   "execution_count": 3,
   "metadata": {
    "pycharm": {
     "is_executing": false
    }
   },
   "outputs": [
    {
     "name": "stdout",
     "output_type": "stream",
     "text": [
      "keys: my_secret\n"
     ]
    }
   ],
   "source": [
    "print(f'keys: {SECRET}')"
   ]
  },
  {
   "cell_type": "code",
   "execution_count": 4,
   "metadata": {
    "pycharm": {
     "is_executing": false
    }
   },
   "outputs": [
    {
     "name": "stdout",
     "output_type": "stream",
     "text": [
      "{\n",
      "  \"version\": 3,\n",
      "  \"clkConfig\": {\n",
      "    \"l\": 1024,\n",
      "    \"kdf\": {\n",
      "      \"type\": \"HKDF\",\n",
      "      \"hash\": \"SHA256\",\n",
      "      \"salt\": \"SCbL2zHNnmsckfzchsNkZY9XoHk96P/G5nUBrM7ybymlEFsMV6PAeDZCNp3rfNUPCtLDMOGQHG4pCQpfhiHCyA==\",\n",
      "      \"info\": \"c2NoZW1hX2V4YW1wbGU=\",\n",
      "      \"keySize\": 64\n",
      "    }\n",
      "  },\n",
      "  \"features\": [\n",
      "    {\n",
      "      \"identifier\": \"id\",\n",
      "      \"ignored\": true\n",
      "    },\n",
      "    {\n",
      "      \"identifier\": \"givenname\",\n",
      "      \"format\": {\n",
      "        \"type\": \"string\",\n",
      "        \"encoding\": \"utf-8\"\n",
      "      },\n",
      "      \"hashing\": {\n",
      "        \"strategy\": {\n",
      "          \"bitsPerToken\": 15\n",
      "        },\n",
      "        \"comparison\": {\n",
      "          \"type\": \"ngram\",\n",
      "          \"n\": 2,\n",
      "          \"positional\": false\n",
      "        }\n",
      "      }\n",
      "    },\n",
      "    {\n",
      "      \"identifier\": \"surname\",\n",
      "      \"format\": {\n",
      "        \"type\": \"string\",\n",
      "        \"encoding\": \"utf-8\"\n",
      "      },\n",
      "      \"hashing\": {\n",
      "        \"strategy\": {\n",
      "          \"bitsPerToken\": 15\n",
      "        },\n",
      "        \"comparison\": {\n",
      "          \"type\": \"ngram\",\n",
      "          \"n\": 2,\n",
      "          \"positional\": false\n",
      "        }\n",
      "      }\n",
      "    },\n",
      "    {\n",
      "      \"identifier\": \"dob\",\n",
      "      \"format\": {\n",
      "        \"type\": \"string\",\n",
      "        \"encoding\": \"utf-8\"\n",
      "      },\n",
      "      \"hashing\": {\n",
      "        \"strategy\": {\n",
      "          \"bitsPerToken\": 15\n",
      "        },\n",
      "        \"comparison\": {\n",
      "          \"type\": \"ngram\",\n",
      "          \"n\": 2,\n",
      "          \"positional\": true\n",
      "        }\n",
      "      }\n",
      "    },\n",
      "    {\n",
      "      \"identifier\": \"phone number\",\n",
      "      \"format\": {\n",
      "        \"type\": \"string\",\n",
      "        \"encoding\": \"utf-8\"\n",
      "      },\n",
      "      \"hashing\": {\n",
      "        \"strategy\": {\n",
      "          \"bitsPerToken\": 8\n",
      "        },\n",
      "        \"comparison\": {\n",
      "          \"type\": \"ngram\",\n",
      "          \"n\": 1,\n",
      "          \"positional\": true\n",
      "        }\n",
      "      }\n",
      "    },\n",
      "    {\n",
      "      \"identifier\": \"ignoredForLinkage\",\n",
      "      \"ignored\": true\n",
      "    }\n",
      "  ]\n",
      "}\n"
     ]
    }
   ],
   "source": [
    "with open('data/schema_ABC.json') as f:\n",
    "    print(f.read())"
   ]
  },
  {
   "cell_type": "markdown",
   "metadata": {
    "pycharm": {}
   },
   "source": [
    "## Sneak peek at input data\n",
    "\n",
    "### Alice"
   ]
  },
  {
   "cell_type": "code",
   "execution_count": 5,
   "metadata": {
    "pycharm": {
     "is_executing": false
    }
   },
   "outputs": [
    {
     "data": {
      "text/html": [
       "<div>\n",
       "<style scoped>\n",
       "    .dataframe tbody tr th:only-of-type {\n",
       "        vertical-align: middle;\n",
       "    }\n",
       "\n",
       "    .dataframe tbody tr th {\n",
       "        vertical-align: top;\n",
       "    }\n",
       "\n",
       "    .dataframe thead th {\n",
       "        text-align: right;\n",
       "    }\n",
       "</style>\n",
       "<table border=\"1\" class=\"dataframe\">\n",
       "  <thead>\n",
       "    <tr style=\"text-align: right;\">\n",
       "      <th></th>\n",
       "      <th>id</th>\n",
       "      <th>givenname</th>\n",
       "      <th>surname</th>\n",
       "      <th>dob</th>\n",
       "      <th>phone number</th>\n",
       "      <th>gender</th>\n",
       "    </tr>\n",
       "  </thead>\n",
       "  <tbody>\n",
       "    <tr>\n",
       "      <td>0</td>\n",
       "      <td>0</td>\n",
       "      <td>tara</td>\n",
       "      <td>hilton</td>\n",
       "      <td>27-08-1941</td>\n",
       "      <td>08 2210 0298</td>\n",
       "      <td>male</td>\n",
       "    </tr>\n",
       "    <tr>\n",
       "      <td>1</td>\n",
       "      <td>3</td>\n",
       "      <td>saJi</td>\n",
       "      <td>vernre</td>\n",
       "      <td>22-12-2972</td>\n",
       "      <td>02 1090 1906</td>\n",
       "      <td>mals</td>\n",
       "    </tr>\n",
       "    <tr>\n",
       "      <td>2</td>\n",
       "      <td>7</td>\n",
       "      <td>sliver</td>\n",
       "      <td>paciorek</td>\n",
       "      <td>NaN</td>\n",
       "      <td>NaN</td>\n",
       "      <td>mals</td>\n",
       "    </tr>\n",
       "    <tr>\n",
       "      <td>3</td>\n",
       "      <td>9</td>\n",
       "      <td>ruby</td>\n",
       "      <td>george</td>\n",
       "      <td>09-05-1939</td>\n",
       "      <td>07 4698 6255</td>\n",
       "      <td>male</td>\n",
       "    </tr>\n",
       "    <tr>\n",
       "      <td>4</td>\n",
       "      <td>10</td>\n",
       "      <td>eyrinm</td>\n",
       "      <td>campbell</td>\n",
       "      <td>29-1q-1983</td>\n",
       "      <td>08 299y 1535</td>\n",
       "      <td>male</td>\n",
       "    </tr>\n",
       "  </tbody>\n",
       "</table>\n",
       "</div>"
      ],
      "text/plain": [
       "   id givenname   surname         dob  phone number gender\n",
       "0   0      tara    hilton  27-08-1941  08 2210 0298   male\n",
       "1   3      saJi    vernre  22-12-2972  02 1090 1906   mals\n",
       "2   7    sliver  paciorek         NaN           NaN   mals\n",
       "3   9      ruby    george  09-05-1939  07 4698 6255   male\n",
       "4  10    eyrinm  campbell  29-1q-1983  08 299y 1535   male"
      ]
     },
     "execution_count": 5,
     "metadata": {},
     "output_type": "execute_result"
    }
   ],
   "source": [
    "pd.read_csv('data/dataset-alice.csv').head()"
   ]
  },
  {
   "cell_type": "markdown",
   "metadata": {
    "pycharm": {}
   },
   "source": [
    "### Bob"
   ]
  },
  {
   "cell_type": "code",
   "execution_count": 6,
   "metadata": {
    "pycharm": {
     "is_executing": false
    }
   },
   "outputs": [
    {
     "data": {
      "text/html": [
       "<div>\n",
       "<style scoped>\n",
       "    .dataframe tbody tr th:only-of-type {\n",
       "        vertical-align: middle;\n",
       "    }\n",
       "\n",
       "    .dataframe tbody tr th {\n",
       "        vertical-align: top;\n",
       "    }\n",
       "\n",
       "    .dataframe thead th {\n",
       "        text-align: right;\n",
       "    }\n",
       "</style>\n",
       "<table border=\"1\" class=\"dataframe\">\n",
       "  <thead>\n",
       "    <tr style=\"text-align: right;\">\n",
       "      <th></th>\n",
       "      <th>id</th>\n",
       "      <th>givenname</th>\n",
       "      <th>surname</th>\n",
       "      <th>dob</th>\n",
       "      <th>phone number</th>\n",
       "      <th>city</th>\n",
       "    </tr>\n",
       "  </thead>\n",
       "  <tbody>\n",
       "    <tr>\n",
       "      <td>0</td>\n",
       "      <td>3</td>\n",
       "      <td>zali</td>\n",
       "      <td>verner</td>\n",
       "      <td>22-12-1972</td>\n",
       "      <td>02 1090 1906</td>\n",
       "      <td>perth</td>\n",
       "    </tr>\n",
       "    <tr>\n",
       "      <td>1</td>\n",
       "      <td>4</td>\n",
       "      <td>samuel</td>\n",
       "      <td>tremellen</td>\n",
       "      <td>21-12-1923</td>\n",
       "      <td>03 3605 9336</td>\n",
       "      <td>melbourne</td>\n",
       "    </tr>\n",
       "    <tr>\n",
       "      <td>2</td>\n",
       "      <td>5</td>\n",
       "      <td>amy</td>\n",
       "      <td>lodge</td>\n",
       "      <td>16-01-1958</td>\n",
       "      <td>07 8286 9372</td>\n",
       "      <td>canberra</td>\n",
       "    </tr>\n",
       "    <tr>\n",
       "      <td>3</td>\n",
       "      <td>7</td>\n",
       "      <td>oIji</td>\n",
       "      <td>pacioerk</td>\n",
       "      <td>10-02-1959</td>\n",
       "      <td>04 4220 5949</td>\n",
       "      <td>sydney</td>\n",
       "    </tr>\n",
       "    <tr>\n",
       "      <td>4</td>\n",
       "      <td>10</td>\n",
       "      <td>erin</td>\n",
       "      <td>kampgell</td>\n",
       "      <td>29-12-1983</td>\n",
       "      <td>08 2996 1445</td>\n",
       "      <td>perth</td>\n",
       "    </tr>\n",
       "  </tbody>\n",
       "</table>\n",
       "</div>"
      ],
      "text/plain": [
       "   id givenname    surname         dob  phone number       city\n",
       "0   3      zali     verner  22-12-1972  02 1090 1906      perth\n",
       "1   4    samuel  tremellen  21-12-1923  03 3605 9336  melbourne\n",
       "2   5       amy      lodge  16-01-1958  07 8286 9372   canberra\n",
       "3   7      oIji   pacioerk  10-02-1959  04 4220 5949     sydney\n",
       "4  10      erin   kampgell  29-12-1983  08 2996 1445      perth"
      ]
     },
     "execution_count": 6,
     "metadata": {},
     "output_type": "execute_result"
    }
   ],
   "source": [
    "pd.read_csv('data/dataset-bob.csv').head()"
   ]
  },
  {
   "cell_type": "markdown",
   "metadata": {
    "pycharm": {}
   },
   "source": [
    "## Charlie"
   ]
  },
  {
   "cell_type": "code",
   "execution_count": 7,
   "metadata": {
    "pycharm": {
     "is_executing": false
    }
   },
   "outputs": [
    {
     "data": {
      "text/html": [
       "<div>\n",
       "<style scoped>\n",
       "    .dataframe tbody tr th:only-of-type {\n",
       "        vertical-align: middle;\n",
       "    }\n",
       "\n",
       "    .dataframe tbody tr th {\n",
       "        vertical-align: top;\n",
       "    }\n",
       "\n",
       "    .dataframe thead th {\n",
       "        text-align: right;\n",
       "    }\n",
       "</style>\n",
       "<table border=\"1\" class=\"dataframe\">\n",
       "  <thead>\n",
       "    <tr style=\"text-align: right;\">\n",
       "      <th></th>\n",
       "      <th>id</th>\n",
       "      <th>givenname</th>\n",
       "      <th>surname</th>\n",
       "      <th>dob</th>\n",
       "      <th>phone number</th>\n",
       "      <th>income</th>\n",
       "    </tr>\n",
       "  </thead>\n",
       "  <tbody>\n",
       "    <tr>\n",
       "      <td>0</td>\n",
       "      <td>1</td>\n",
       "      <td>joshua</td>\n",
       "      <td>arkwright</td>\n",
       "      <td>16-02-1903</td>\n",
       "      <td>04 8511 9580</td>\n",
       "      <td>70189.446</td>\n",
       "    </tr>\n",
       "    <tr>\n",
       "      <td>1</td>\n",
       "      <td>3</td>\n",
       "      <td>zal:</td>\n",
       "      <td>verner</td>\n",
       "      <td>22-12-1972</td>\n",
       "      <td>02 1090 1906</td>\n",
       "      <td>50194.118</td>\n",
       "    </tr>\n",
       "    <tr>\n",
       "      <td>2</td>\n",
       "      <td>7</td>\n",
       "      <td>oliyer</td>\n",
       "      <td>paciorwk</td>\n",
       "      <td>10-02-1959</td>\n",
       "      <td>04 4210 5949</td>\n",
       "      <td>31750.993</td>\n",
       "    </tr>\n",
       "    <tr>\n",
       "      <td>3</td>\n",
       "      <td>8</td>\n",
       "      <td>nacoya</td>\n",
       "      <td>ranson</td>\n",
       "      <td>17-08-1925</td>\n",
       "      <td>07 6033 4580</td>\n",
       "      <td>102446.131</td>\n",
       "    </tr>\n",
       "    <tr>\n",
       "      <td>4</td>\n",
       "      <td>10</td>\n",
       "      <td>erih</td>\n",
       "      <td>campbell</td>\n",
       "      <td>29-12-1i83</td>\n",
       "      <td>08 299t 1435</td>\n",
       "      <td>331476.599</td>\n",
       "    </tr>\n",
       "  </tbody>\n",
       "</table>\n",
       "</div>"
      ],
      "text/plain": [
       "   id givenname    surname         dob  phone number      income\n",
       "0   1    joshua  arkwright  16-02-1903  04 8511 9580   70189.446\n",
       "1   3      zal:     verner  22-12-1972  02 1090 1906   50194.118\n",
       "2   7    oliyer   paciorwk  10-02-1959  04 4210 5949   31750.993\n",
       "3   8    nacoya     ranson  17-08-1925  07 6033 4580  102446.131\n",
       "4  10      erih   campbell  29-12-1i83  08 299t 1435  331476.599"
      ]
     },
     "execution_count": 7,
     "metadata": {},
     "output_type": "execute_result"
    }
   ],
   "source": [
    "pd.read_csv('data/dataset-charlie.csv').head()"
   ]
  },
  {
   "cell_type": "markdown",
   "metadata": {
    "pycharm": {}
   },
   "source": [
    "## Analyst: create the project\n",
    "\n",
    "The analyst keeps the result token to themselves. The three update tokens go to Alice, Bob and Charlie. The project ID is known by everyone."
   ]
  },
  {
   "cell_type": "code",
   "execution_count": 8,
   "metadata": {
    "pycharm": {
     "is_executing": false
    }
   },
   "outputs": [
    {
     "name": "stdout",
     "output_type": "stream",
     "text": [
      "\u001b[31mProject created\u001b[0m\r\n"
     ]
    }
   ],
   "source": [
    "!clkutil create-project --server $SERVER --type groups --schema data/schema_ABC.json --parties 3 --output credentials.json\n",
    "\n",
    "with open('credentials.json') as f:\n",
    "    credentials = json.load(f)\n",
    "    project_id = credentials['project_id']\n",
    "    result_token = credentials['result_token']\n",
    "    update_token_alice = credentials['update_tokens'][0]\n",
    "    update_token_bob = credentials['update_tokens'][1]\n",
    "    update_token_charlie = credentials['update_tokens'][2]"
   ]
  },
  {
   "cell_type": "markdown",
   "metadata": {
    "pycharm": {}
   },
   "source": [
    "## Alice: hash the data and upload it to the server\n",
    "The data is hashed according to the schema and the keys. Alice's update token is needed to upload the hashed data. No PII is uploaded to the service—only the hashes."
   ]
  },
  {
   "cell_type": "code",
   "execution_count": 9,
   "metadata": {
    "pycharm": {
     "is_executing": false
    }
   },
   "outputs": [
    {
     "name": "stdout",
     "output_type": "stream",
     "text": [
      "\u001b[31mCLK data written to dataset-alice-hashed.json\u001b[0m\r\n"
     ]
    }
   ],
   "source": [
    "!clkutil hash data/dataset-alice.csv $SECRET data/schema_ABC.json dataset-alice-hashed.json --check-header false"
   ]
  },
  {
   "cell_type": "code",
   "execution_count": 10,
   "metadata": {
    "pycharm": {
     "is_executing": false
    }
   },
   "outputs": [
    {
     "name": "stdout",
     "output_type": "stream",
     "text": [
      "{\"message\": \"Updated\", \"receipt_token\": \"0351e7dcca593e9704f75bf6891a95804b22c0af51474f92\"}"
     ]
    }
   ],
   "source": [
    "!clkutil upload --server $SERVER --apikey $update_token_alice --project $project_id dataset-alice-hashed.json"
   ]
  },
  {
   "cell_type": "markdown",
   "metadata": {
    "pycharm": {}
   },
   "source": [
    "## Bob: hash the data and upload it to the server"
   ]
  },
  {
   "cell_type": "code",
   "execution_count": 11,
   "metadata": {
    "pycharm": {
     "is_executing": false
    }
   },
   "outputs": [
    {
     "name": "stdout",
     "output_type": "stream",
     "text": [
      "\u001b[31mCLK data written to dataset-bob-hashed.json\u001b[0m\r\n"
     ]
    }
   ],
   "source": [
    "!clkutil hash data/dataset-bob.csv $SECRET data/schema_ABC.json dataset-bob-hashed.json --check-header false"
   ]
  },
  {
   "cell_type": "code",
   "execution_count": 12,
   "metadata": {
    "pycharm": {
     "is_executing": false
    }
   },
   "outputs": [
    {
     "name": "stdout",
     "output_type": "stream",
     "text": [
      "{\"message\": \"Updated\", \"receipt_token\": \"ad857ec2489061afc324c866adbf74296f5d55768868f91c\"}"
     ]
    }
   ],
   "source": [
    "!clkutil upload --server $SERVER --apikey $update_token_bob --project $project_id dataset-bob-hashed.json"
   ]
  },
  {
   "cell_type": "markdown",
   "metadata": {
    "pycharm": {}
   },
   "source": [
    "## Charlie: hash the data and upload it to the server"
   ]
  },
  {
   "cell_type": "code",
   "execution_count": 13,
   "metadata": {
    "pycharm": {
     "is_executing": false
    }
   },
   "outputs": [
    {
     "name": "stdout",
     "output_type": "stream",
     "text": [
      "\u001b[31mCLK data written to dataset-charlie-hashed.json\u001b[0m\r\n"
     ]
    }
   ],
   "source": [
    "!clkutil hash data/dataset-charlie.csv $SECRET data/schema_ABC.json dataset-charlie-hashed.json --check-header false"
   ]
  },
  {
   "cell_type": "code",
   "execution_count": 14,
   "metadata": {
    "pycharm": {
     "is_executing": false
    }
   },
   "outputs": [
    {
     "name": "stdout",
     "output_type": "stream",
     "text": [
      "{\"message\": \"Updated\", \"receipt_token\": \"ad6cfde05179416f4fbf5c7ef896bbd2fcb37554fe11c87a\"}"
     ]
    }
   ],
   "source": [
    "!clkutil upload --server $SERVER --apikey $update_token_charlie --project $project_id dataset-charlie-hashed.json"
   ]
  },
  {
   "cell_type": "markdown",
   "metadata": {
    "pycharm": {}
   },
   "source": [
    "## Analyst: start the linkage run\n",
    "\n",
    "This will start the linkage computation. We will wait a little bit and then retrieve the results."
   ]
  },
  {
   "cell_type": "code",
   "execution_count": 15,
   "metadata": {
    "pycharm": {
     "is_executing": false
    }
   },
   "outputs": [],
   "source": [
    "!clkutil create --server $SERVER --project $project_id --apikey $result_token --threshold 0.7 --output=run-credentials.json\n",
    "\n",
    "with open('run-credentials.json') as f:\n",
    "    run_credentials = json.load(f)\n",
    "    run_id = run_credentials['run_id']"
   ]
  },
  {
   "cell_type": "markdown",
   "metadata": {
    "pycharm": {}
   },
   "source": [
    "## Analyst: retrieve the results"
   ]
  },
  {
   "cell_type": "code",
   "execution_count": 16,
   "metadata": {
    "pycharm": {
     "is_executing": false
    }
   },
   "outputs": [
    {
     "name": "stdout",
     "output_type": "stream",
     "text": [
      "\u001b[31mState: completed\n",
      "Stage (3/3): compute output\u001b[0m\n",
      "\u001b[31mState: completed\n",
      "Stage (3/3): compute output\u001b[0m\n",
      "\u001b[31mState: completed\n",
      "Stage (3/3): compute output\u001b[0m\n",
      "\u001b[31mDownloading result\u001b[0m\n",
      "\u001b[31mReceived result\u001b[0m\n"
     ]
    }
   ],
   "source": [
    "!clkutil results --server $SERVER --project $project_id --apikey $result_token --run $run_id --watch --output linkage-output.json"
   ]
  },
  {
   "cell_type": "code",
   "execution_count": 17,
   "metadata": {
    "pycharm": {
     "is_executing": false
    }
   },
   "outputs": [
    {
     "data": {
      "text/plain": [
       "[[[0, 2188], [1, 2186], [2, 2194]],\n",
       " [[1, 9], [2, 9], [0, 10]],\n",
       " [[1, 332], [2, 329], [0, 330]],\n",
       " [[0, 287], [2, 293], [1, 295]],\n",
       " [[1, 399], [2, 401], [0, 414]],\n",
       " [[0, 1074], [1, 1032], [2, 1088]],\n",
       " [[0, 2482], [1, 2494], [2, 2509]],\n",
       " [[0, 1723], [1, 1678], [2, 1714]],\n",
       " [[0, 2234], [1, 2228], [2, 2242]],\n",
       " [[0, 918], [2, 2840]],\n",
       " [[0, 2461], [2, 2479], [1, 2468]],\n",
       " [[1, 1393], [2, 1421], [0, 1451]],\n",
       " [[0, 2343], [1, 2338], [2, 2351]],\n",
       " [[0, 1077], [2, 1091], [1, 1036]],\n",
       " [[1, 351], [2, 356]]]"
      ]
     },
     "execution_count": 17,
     "metadata": {},
     "output_type": "execute_result"
    }
   ],
   "source": [
    "with open('linkage-output.json') as f:\n",
    "    linkage_output = json.load(f)\n",
    "    linkage_groups = linkage_output['groups']\n",
    "linkage_groups[-15:]"
   ]
  },
  {
   "cell_type": "markdown",
   "metadata": {},
   "source": [
    "The result is a list of groups of records. Every record in such a group belongs to the same entity and consists of two values, the party index and the row index:\n",
    "```\n",
    "[\n",
    "  [[party_id, row_index], ... ],\n",
    "  ...\n",
    "]\n",
    "```"
   ]
  },
  {
   "cell_type": "markdown",
   "metadata": {
    "pycharm": {}
   },
   "source": [
    "## Everyone: make table of interesting information\n",
    "\n",
    "We use the linkage result to make a table of genders, cities, and incomes without revealing any other PII."
   ]
  },
  {
   "cell_type": "code",
   "execution_count": 18,
   "metadata": {
    "pycharm": {
     "is_executing": false
    }
   },
   "outputs": [],
   "source": [
    "with open('data/dataset-alice.csv') as f:\n",
    "    r = csv.reader(f)\n",
    "    next(r)  # Skip header\n",
    "    genders = tuple(row[-1] for row in r)\n",
    "    \n",
    "with open('data/dataset-bob.csv') as f:\n",
    "    r = csv.reader(f)\n",
    "    next(r)  # Skip header\n",
    "    cities = tuple(row[-1] for row in r)\n",
    "    \n",
    "with open('data/dataset-charlie.csv') as f:\n",
    "    r = csv.reader(f)\n",
    "    next(r)  # Skip header\n",
    "    incomes = tuple(row[-1] for row in r)"
   ]
  },
  {
   "cell_type": "code",
   "execution_count": 19,
   "metadata": {
    "pycharm": {
     "is_executing": false
    }
   },
   "outputs": [
    {
     "data": {
      "text/html": [
       "<div>\n",
       "<style scoped>\n",
       "    .dataframe tbody tr th:only-of-type {\n",
       "        vertical-align: middle;\n",
       "    }\n",
       "\n",
       "    .dataframe tbody tr th {\n",
       "        vertical-align: top;\n",
       "    }\n",
       "\n",
       "    .dataframe thead th {\n",
       "        text-align: right;\n",
       "    }\n",
       "</style>\n",
       "<table border=\"1\" class=\"dataframe\">\n",
       "  <thead>\n",
       "    <tr style=\"text-align: right;\">\n",
       "      <th></th>\n",
       "      <th>gender</th>\n",
       "      <th>city</th>\n",
       "      <th>income</th>\n",
       "    </tr>\n",
       "  </thead>\n",
       "  <tbody>\n",
       "    <tr>\n",
       "      <td>0</td>\n",
       "      <td>msl5</td>\n",
       "      <td>sydnev</td>\n",
       "      <td></td>\n",
       "    </tr>\n",
       "    <tr>\n",
       "      <td>1</td>\n",
       "      <td>male</td>\n",
       "      <td>melbourne</td>\n",
       "      <td></td>\n",
       "    </tr>\n",
       "    <tr>\n",
       "      <td>2</td>\n",
       "      <td>male</td>\n",
       "      <td>canbrrra</td>\n",
       "      <td></td>\n",
       "    </tr>\n",
       "    <tr>\n",
       "      <td>3</td>\n",
       "      <td></td>\n",
       "      <td>mlebourne</td>\n",
       "      <td>56899.522</td>\n",
       "    </tr>\n",
       "    <tr>\n",
       "      <td>4</td>\n",
       "      <td>femaoe</td>\n",
       "      <td>sydn3y</td>\n",
       "      <td></td>\n",
       "    </tr>\n",
       "    <tr>\n",
       "      <td>5</td>\n",
       "      <td>male</td>\n",
       "      <td></td>\n",
       "      <td>154195.553</td>\n",
       "    </tr>\n",
       "    <tr>\n",
       "      <td>6</td>\n",
       "      <td>female</td>\n",
       "      <td></td>\n",
       "      <td>44652.704</td>\n",
       "    </tr>\n",
       "    <tr>\n",
       "      <td>7</td>\n",
       "      <td>male</td>\n",
       "      <td>sydnely</td>\n",
       "      <td></td>\n",
       "    </tr>\n",
       "    <tr>\n",
       "      <td>8</td>\n",
       "      <td>male</td>\n",
       "      <td>acbbeera</td>\n",
       "      <td>81191.584</td>\n",
       "    </tr>\n",
       "    <tr>\n",
       "      <td>9</td>\n",
       "      <td>maoe</td>\n",
       "      <td>mesllootrne</td>\n",
       "      <td></td>\n",
       "    </tr>\n",
       "  </tbody>\n",
       "</table>\n",
       "</div>"
      ],
      "text/plain": [
       "   gender         city      income\n",
       "0    msl5       sydnev            \n",
       "1    male    melbourne            \n",
       "2    male     canbrrra            \n",
       "3            mlebourne   56899.522\n",
       "4  femaoe       sydn3y            \n",
       "5    male               154195.553\n",
       "6  female                44652.704\n",
       "7    male      sydnely            \n",
       "8    male     acbbeera   81191.584\n",
       "9    maoe  mesllootrne            "
      ]
     },
     "execution_count": 19,
     "metadata": {},
     "output_type": "execute_result"
    }
   ],
   "source": [
    "table = []\n",
    "for group in linkage_groups:\n",
    "    row = [''] * 3\n",
    "    for i, j in group:\n",
    "        row[i] = [genders, cities, incomes][i][j]\n",
    "    if sum(map(bool, row)) > 1:\n",
    "        table.append(row)\n",
    "pd.DataFrame(table, columns=['gender', 'city', 'income']).head(10)"
   ]
  },
  {
   "cell_type": "markdown",
   "metadata": {},
   "source": [
    "The last 20 groups look like this."
   ]
  },
  {
   "cell_type": "markdown",
   "metadata": {
    "pycharm": {}
   },
   "source": [
    "## Sneak peek at the result\n",
    "\n",
    "We obviously can't do this in a real-world setting, but let's view the linkage using the PII. If the IDs match, then we are correct."
   ]
  },
  {
   "cell_type": "code",
   "execution_count": 20,
   "metadata": {
    "pycharm": {
     "is_executing": false
    }
   },
   "outputs": [],
   "source": [
    "with open('data/dataset-alice.csv') as f:\n",
    "    r = csv.reader(f)\n",
    "    next(r)  # Skip header\n",
    "    dataset_alice = tuple(r)\n",
    "    \n",
    "with open('data/dataset-bob.csv') as f:\n",
    "    r = csv.reader(f)\n",
    "    next(r)  # Skip header\n",
    "    dataset_bob = tuple(r)\n",
    "    \n",
    "with open('data/dataset-charlie.csv') as f:\n",
    "    r = csv.reader(f)\n",
    "    next(r)  # Skip header\n",
    "    dataset_charlie = tuple(r)"
   ]
  },
  {
   "cell_type": "code",
   "execution_count": 21,
   "metadata": {
    "pycharm": {
     "is_executing": false,
     "name": "#%%\n"
    }
   },
   "outputs": [
    {
     "data": {
      "text/html": [
       "<div>\n",
       "<style scoped>\n",
       "    .dataframe tbody tr th:only-of-type {\n",
       "        vertical-align: middle;\n",
       "    }\n",
       "\n",
       "    .dataframe tbody tr th {\n",
       "        vertical-align: top;\n",
       "    }\n",
       "\n",
       "    .dataframe thead th {\n",
       "        text-align: right;\n",
       "    }\n",
       "</style>\n",
       "<table border=\"1\" class=\"dataframe\">\n",
       "  <thead>\n",
       "    <tr style=\"text-align: right;\">\n",
       "      <th></th>\n",
       "      <th>id</th>\n",
       "      <th>given name</th>\n",
       "      <th>surname</th>\n",
       "      <th>dob</th>\n",
       "      <th>phone number</th>\n",
       "      <th>non-linking</th>\n",
       "    </tr>\n",
       "  </thead>\n",
       "  <tbody>\n",
       "    <tr>\n",
       "      <td>6450</td>\n",
       "      <td>4914</td>\n",
       "      <td>runy</td>\n",
       "      <td>briten</td>\n",
       "      <td>01-01-1971</td>\n",
       "      <td>03 7339 6523</td>\n",
       "      <td>malw</td>\n",
       "    </tr>\n",
       "    <tr>\n",
       "      <td>6451</td>\n",
       "      <td>4914</td>\n",
       "      <td>ruby</td>\n",
       "      <td>britten</td>\n",
       "      <td>01-01-1971</td>\n",
       "      <td>03 7338 6523</td>\n",
       "      <td>melbourne</td>\n",
       "    </tr>\n",
       "    <tr>\n",
       "      <td>6452</td>\n",
       "      <td>4914</td>\n",
       "      <td>ruby</td>\n",
       "      <td>br'ltten</td>\n",
       "      <td>01-01-1971</td>\n",
       "      <td>03 7337 6523</td>\n",
       "      <td>59544.220</td>\n",
       "    </tr>\n",
       "    <tr>\n",
       "      <td>6453</td>\n",
       "      <td></td>\n",
       "      <td></td>\n",
       "      <td></td>\n",
       "      <td></td>\n",
       "      <td></td>\n",
       "      <td></td>\n",
       "    </tr>\n",
       "    <tr>\n",
       "      <td>6454</td>\n",
       "      <td>7461</td>\n",
       "      <td>henrv</td>\n",
       "      <td>clisxjold</td>\n",
       "      <td>13-07-1918</td>\n",
       "      <td>03 9072 8476</td>\n",
       "      <td>male</td>\n",
       "    </tr>\n",
       "    <tr>\n",
       "      <td>6455</td>\n",
       "      <td>7461</td>\n",
       "      <td>henry</td>\n",
       "      <td>clissold</td>\n",
       "      <td>13-07-1918</td>\n",
       "      <td>03 9071 8376</td>\n",
       "      <td>canberra</td>\n",
       "    </tr>\n",
       "    <tr>\n",
       "      <td>6456</td>\n",
       "      <td>7461</td>\n",
       "      <td>henry</td>\n",
       "      <td>clissmold</td>\n",
       "      <td>13-08-2018</td>\n",
       "      <td>03 9071 8376</td>\n",
       "      <td>67649.443</td>\n",
       "    </tr>\n",
       "    <tr>\n",
       "      <td>6457</td>\n",
       "      <td></td>\n",
       "      <td></td>\n",
       "      <td></td>\n",
       "      <td></td>\n",
       "      <td></td>\n",
       "      <td></td>\n",
       "    </tr>\n",
       "    <tr>\n",
       "      <td>6458</td>\n",
       "      <td>3944</td>\n",
       "      <td>jean-claude</td>\n",
       "      <td>mckinnell</td>\n",
       "      <td>14-06-1925</td>\n",
       "      <td>08 8157 2282</td>\n",
       "      <td>male</td>\n",
       "    </tr>\n",
       "    <tr>\n",
       "      <td>6459</td>\n",
       "      <td>3944</td>\n",
       "      <td>jean-claude</td>\n",
       "      <td>mckinenll</td>\n",
       "      <td></td>\n",
       "      <td>08 8157 2282</td>\n",
       "      <td></td>\n",
       "    </tr>\n",
       "    <tr>\n",
       "      <td>6460</td>\n",
       "      <td>3944</td>\n",
       "      <td>jean-claude</td>\n",
       "      <td>mkniell</td>\n",
       "      <td>14-06-1925</td>\n",
       "      <td>08 8157 2282</td>\n",
       "      <td></td>\n",
       "    </tr>\n",
       "    <tr>\n",
       "      <td>6461</td>\n",
       "      <td></td>\n",
       "      <td></td>\n",
       "      <td></td>\n",
       "      <td></td>\n",
       "      <td></td>\n",
       "      <td></td>\n",
       "    </tr>\n",
       "    <tr>\n",
       "      <td>6462</td>\n",
       "      <td>1885</td>\n",
       "      <td>nicholas</td>\n",
       "      <td>robson</td>\n",
       "      <td>06-01-1914</td>\n",
       "      <td>02 7799 6803</td>\n",
       "      <td>canberra</td>\n",
       "    </tr>\n",
       "    <tr>\n",
       "      <td>6463</td>\n",
       "      <td>1885</td>\n",
       "      <td>nicho|as</td>\n",
       "      <td>robson</td>\n",
       "      <td>06-91-1914</td>\n",
       "      <td>02 7799 6803</td>\n",
       "      <td>61333.218</td>\n",
       "    </tr>\n",
       "    <tr>\n",
       "      <td>6464</td>\n",
       "      <td></td>\n",
       "      <td></td>\n",
       "      <td></td>\n",
       "      <td></td>\n",
       "      <td></td>\n",
       "      <td></td>\n",
       "    </tr>\n",
       "  </tbody>\n",
       "</table>\n",
       "</div>"
      ],
      "text/plain": [
       "        id   given name    surname         dob  phone number non-linking\n",
       "6450  4914         runy     briten  01-01-1971  03 7339 6523        malw\n",
       "6451  4914         ruby    britten  01-01-1971  03 7338 6523   melbourne\n",
       "6452  4914         ruby   br'ltten  01-01-1971  03 7337 6523   59544.220\n",
       "6453                                                                    \n",
       "6454  7461        henrv  clisxjold  13-07-1918  03 9072 8476        male\n",
       "6455  7461        henry   clissold  13-07-1918  03 9071 8376    canberra\n",
       "6456  7461        henry  clissmold  13-08-2018  03 9071 8376   67649.443\n",
       "6457                                                                    \n",
       "6458  3944  jean-claude  mckinnell  14-06-1925  08 8157 2282        male\n",
       "6459  3944  jean-claude  mckinenll              08 8157 2282            \n",
       "6460  3944  jean-claude    mkniell  14-06-1925  08 8157 2282            \n",
       "6461                                                                    \n",
       "6462  1885     nicholas     robson  06-01-1914  02 7799 6803    canberra\n",
       "6463  1885     nicho|as     robson  06-91-1914  02 7799 6803   61333.218\n",
       "6464                                                                    "
      ]
     },
     "execution_count": 21,
     "metadata": {},
     "output_type": "execute_result"
    }
   ],
   "source": [
    "table = []\n",
    "for group in linkage_groups:\n",
    "    for i, j in sorted(group):\n",
    "        table.append([dataset_alice, dataset_bob, dataset_charlie][i][j])\n",
    "    table.append([''] * 6)\n",
    "    \n",
    "pd.DataFrame(table, columns=['id', 'given name', 'surname', 'dob', 'phone number', 'non-linking']).tail(15)\n",
    "\n"
   ]
  }
 ],
 "metadata": {
  "kernelspec": {
   "display_name": "Python 3",
   "language": "python",
   "name": "python3"
  },
  "language_info": {
   "codemirror_mode": {
    "name": "ipython",
    "version": 3
   },
   "file_extension": ".py",
   "mimetype": "text/x-python",
   "name": "python",
   "nbconvert_exporter": "python",
   "pygments_lexer": "ipython3",
   "version": "3.7.4"
  },
  "pycharm": {
   "stem_cell": {
    "cell_type": "raw",
    "metadata": {
     "collapsed": false
    },
    "source": []
   }
  }
 },
 "nbformat": 4,
 "nbformat_minor": 4
}
