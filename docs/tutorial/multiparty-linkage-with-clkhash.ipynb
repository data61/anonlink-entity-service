{
 "cells": [
  {
   "cell_type": "code",
   "execution_count": 1,
   "metadata": {
    "pycharm": {}
   },
   "outputs": [],
   "source": [
    "import csv\n",
    "import json\n",
    "import os\n",
    "\n",
    "import pandas as pd"
   ]
  },
  {
   "cell_type": "code",
   "execution_count": 2,
   "metadata": {},
   "outputs": [],
   "source": [
    "KEY1 = 'correct'\n",
    "KEY2 = 'horse'\n",
    "\n",
    "SERVER = os.getenv(\"SERVER\", \"https://testing.es.data61.xyz\")"
   ]
  },
  {
   "cell_type": "markdown",
   "metadata": {
    "pycharm": {}
   },
   "source": [
    "# Scenario\n",
    "\n",
    "There are three parties named Alice, Bob, and Charlie, each holding a dataset of about 3200 records. They know that they have some entities in common, but with incomplete overlap. The common features describing those entities are given name, surname, date of birth, and phone number.\n",
    "\n",
    "They all have some additional information about those entities in their respective datasets, Alice has a person's gender, Bob has their city, and Charlie has their income. They wish to create a table for analysis: each row has a gender, city, and income, but they don't want to share any additional information. They can use Anonlink to do this in a privacy-preserving way (without revealing given names, surnames, dates of birth, and phone numbers)."
   ]
  },
  {
   "cell_type": "markdown",
   "metadata": {
    "pycharm": {}
   },
   "source": [
    "## Alice, Bob, and Charlie: agree on secret keys and a linkage schema\n",
    "\n",
    "They keep the keys to themselves, but the schema may be revealed to the analyst."
   ]
  },
  {
   "cell_type": "code",
   "execution_count": 3,
   "metadata": {
    "pycharm": {}
   },
   "outputs": [
    {
     "name": "stdout",
     "output_type": "stream",
     "text": [
      "keys: correct, horse\n"
     ]
    }
   ],
   "source": [
    "print(f'keys: {KEY1}, {KEY2}')"
   ]
  },
  {
   "cell_type": "code",
   "execution_count": 4,
   "metadata": {
    "pycharm": {}
   },
   "outputs": [
    {
     "name": "stdout",
     "output_type": "stream",
     "text": [
      "\n",
      "{\n",
      "  \"version\": 2,\n",
      "  \"clkConfig\": {\n",
      "    \"l\": 1024,\n",
      "    \"kdf\": {\n",
      "      \"type\": \"HKDF\",\n",
      "      \"hash\": \"SHA256\",\n",
      "      \"salt\": \"SCbL2zHNnmsckfzchsNkZY9XoHk96P/G5nUBrM7ybymlEFsMV6PAeDZCNp3rfNUPCtLDMOGQHG4pCQpfhiHCyA==\",\n",
      "      \"info\": \"c2NoZW1hX2V4YW1wbGU=\",\n",
      "      \"keySize\": 64\n",
      "    }\n",
      "  },\n",
      "  \"features\": [\n",
      "    {\n",
      "      \"identifier\": \"id\",\n",
      "      \"ignored\": true\n",
      "    },\n",
      "    {\n",
      "      \"identifier\": \"givenname\",\n",
      "      \"format\": {\n",
      "        \"type\": \"string\",\n",
      "        \"encoding\": \"utf-8\"\n",
      "      },\n",
      "      \"hashing\": {\n",
      "        \"ngram\": 2,\n",
      "        \"positional\": false,\n",
      "        \"strategy\": {\"k\": 15}\n",
      "      }\n",
      "    },\n",
      "    {\n",
      "      \"identifier\": \"surname\",\n",
      "      \"format\": {\n",
      "        \"type\": \"string\",\n",
      "        \"encoding\": \"utf-8\"\n",
      "      },\n",
      "      \"hashing\": {\n",
      "        \"ngram\": 2,\n",
      "        \"positional\": false,\n",
      "        \"strategy\": {\"k\": 15}\n",
      "      }\n",
      "    },\n",
      "    {\n",
      "      \"identifier\": \"dob\",\n",
      "      \"format\": {\n",
      "        \"type\": \"string\",\n",
      "        \"encoding\": \"utf-8\"\n",
      "      },\n",
      "      \"hashing\": {\n",
      "        \"ngram\": 2,\n",
      "        \"positional\": true,\n",
      "        \"strategy\": {\"k\": 15}\n",
      "      }\n",
      "    },\n",
      "    {\n",
      "      \"identifier\": \"phone number\",\n",
      "      \"format\": {\n",
      "        \"type\": \"string\",\n",
      "        \"encoding\": \"utf-8\"\n",
      "      },\n",
      "      \"hashing\": {\n",
      "        \"ngram\": 1,\n",
      "        \"positional\": true,\n",
      "        \"strategy\": {\"k\": 8}\n",
      "      }\n",
      "    },\n",
      "    {\n",
      "      \"identifier\": \"ignoredForLinkage\",\n",
      "      \"ignored\": true\n",
      "    }\n",
      "  ]\n",
      "}\n",
      "\n"
     ]
    }
   ],
   "source": [
    "with open('data/schema_ABC.json') as f:\n",
    "    print(f.read())"
   ]
  },
  {
   "cell_type": "markdown",
   "metadata": {
    "pycharm": {}
   },
   "source": [
    "# Sneak peek at input data\n",
    "### Alice"
   ]
  },
  {
   "cell_type": "code",
   "execution_count": 5,
   "metadata": {
    "pycharm": {}
   },
   "outputs": [
    {
     "data": {
      "text/html": [
       "<div>\n",
       "<style scoped>\n",
       "    .dataframe tbody tr th:only-of-type {\n",
       "        vertical-align: middle;\n",
       "    }\n",
       "\n",
       "    .dataframe tbody tr th {\n",
       "        vertical-align: top;\n",
       "    }\n",
       "\n",
       "    .dataframe thead th {\n",
       "        text-align: right;\n",
       "    }\n",
       "</style>\n",
       "<table border=\"1\" class=\"dataframe\">\n",
       "  <thead>\n",
       "    <tr style=\"text-align: right;\">\n",
       "      <th></th>\n",
       "      <th>id</th>\n",
       "      <th>givenname</th>\n",
       "      <th>surname</th>\n",
       "      <th>dob</th>\n",
       "      <th>phone number</th>\n",
       "      <th>gender</th>\n",
       "    </tr>\n",
       "  </thead>\n",
       "  <tbody>\n",
       "    <tr>\n",
       "      <th>0</th>\n",
       "      <td>0</td>\n",
       "      <td>tara</td>\n",
       "      <td>hilton</td>\n",
       "      <td>27-08-1941</td>\n",
       "      <td>08 2210 0298</td>\n",
       "      <td>male</td>\n",
       "    </tr>\n",
       "    <tr>\n",
       "      <th>1</th>\n",
       "      <td>3</td>\n",
       "      <td>saJi</td>\n",
       "      <td>vernre</td>\n",
       "      <td>22-12-2972</td>\n",
       "      <td>02 1090 1906</td>\n",
       "      <td>mals</td>\n",
       "    </tr>\n",
       "    <tr>\n",
       "      <th>2</th>\n",
       "      <td>7</td>\n",
       "      <td>sliver</td>\n",
       "      <td>paciorek</td>\n",
       "      <td>NaN</td>\n",
       "      <td>NaN</td>\n",
       "      <td>mals</td>\n",
       "    </tr>\n",
       "    <tr>\n",
       "      <th>3</th>\n",
       "      <td>9</td>\n",
       "      <td>ruby</td>\n",
       "      <td>george</td>\n",
       "      <td>09-05-1939</td>\n",
       "      <td>07 4698 6255</td>\n",
       "      <td>male</td>\n",
       "    </tr>\n",
       "    <tr>\n",
       "      <th>4</th>\n",
       "      <td>10</td>\n",
       "      <td>eyrinm</td>\n",
       "      <td>campbell</td>\n",
       "      <td>29-1q-1983</td>\n",
       "      <td>08 299y 1535</td>\n",
       "      <td>male</td>\n",
       "    </tr>\n",
       "  </tbody>\n",
       "</table>\n",
       "</div>"
      ],
      "text/plain": [
       "   id givenname   surname         dob  phone number gender\n",
       "0   0      tara    hilton  27-08-1941  08 2210 0298   male\n",
       "1   3      saJi    vernre  22-12-2972  02 1090 1906   mals\n",
       "2   7    sliver  paciorek         NaN           NaN   mals\n",
       "3   9      ruby    george  09-05-1939  07 4698 6255   male\n",
       "4  10    eyrinm  campbell  29-1q-1983  08 299y 1535   male"
      ]
     },
     "execution_count": 5,
     "metadata": {},
     "output_type": "execute_result"
    }
   ],
   "source": [
    "pd.read_csv('data/dataset-alice.csv').head()"
   ]
  },
  {
   "cell_type": "markdown",
   "metadata": {
    "pycharm": {}
   },
   "source": [
    "### Bob"
   ]
  },
  {
   "cell_type": "code",
   "execution_count": 6,
   "metadata": {
    "pycharm": {}
   },
   "outputs": [
    {
     "data": {
      "text/html": [
       "<div>\n",
       "<style scoped>\n",
       "    .dataframe tbody tr th:only-of-type {\n",
       "        vertical-align: middle;\n",
       "    }\n",
       "\n",
       "    .dataframe tbody tr th {\n",
       "        vertical-align: top;\n",
       "    }\n",
       "\n",
       "    .dataframe thead th {\n",
       "        text-align: right;\n",
       "    }\n",
       "</style>\n",
       "<table border=\"1\" class=\"dataframe\">\n",
       "  <thead>\n",
       "    <tr style=\"text-align: right;\">\n",
       "      <th></th>\n",
       "      <th>id</th>\n",
       "      <th>givenname</th>\n",
       "      <th>surname</th>\n",
       "      <th>dob</th>\n",
       "      <th>phone number</th>\n",
       "      <th>city</th>\n",
       "    </tr>\n",
       "  </thead>\n",
       "  <tbody>\n",
       "    <tr>\n",
       "      <th>0</th>\n",
       "      <td>3</td>\n",
       "      <td>zali</td>\n",
       "      <td>verner</td>\n",
       "      <td>22-12-1972</td>\n",
       "      <td>02 1090 1906</td>\n",
       "      <td>perth</td>\n",
       "    </tr>\n",
       "    <tr>\n",
       "      <th>1</th>\n",
       "      <td>4</td>\n",
       "      <td>samuel</td>\n",
       "      <td>tremellen</td>\n",
       "      <td>21-12-1923</td>\n",
       "      <td>03 3605 9336</td>\n",
       "      <td>melbourne</td>\n",
       "    </tr>\n",
       "    <tr>\n",
       "      <th>2</th>\n",
       "      <td>5</td>\n",
       "      <td>amy</td>\n",
       "      <td>lodge</td>\n",
       "      <td>16-01-1958</td>\n",
       "      <td>07 8286 9372</td>\n",
       "      <td>canberra</td>\n",
       "    </tr>\n",
       "    <tr>\n",
       "      <th>3</th>\n",
       "      <td>7</td>\n",
       "      <td>oIji</td>\n",
       "      <td>pacioerk</td>\n",
       "      <td>10-02-1959</td>\n",
       "      <td>04 4220 5949</td>\n",
       "      <td>sydney</td>\n",
       "    </tr>\n",
       "    <tr>\n",
       "      <th>4</th>\n",
       "      <td>10</td>\n",
       "      <td>erin</td>\n",
       "      <td>kampgell</td>\n",
       "      <td>29-12-1983</td>\n",
       "      <td>08 2996 1445</td>\n",
       "      <td>perth</td>\n",
       "    </tr>\n",
       "  </tbody>\n",
       "</table>\n",
       "</div>"
      ],
      "text/plain": [
       "   id givenname    surname         dob  phone number       city\n",
       "0   3      zali     verner  22-12-1972  02 1090 1906      perth\n",
       "1   4    samuel  tremellen  21-12-1923  03 3605 9336  melbourne\n",
       "2   5       amy      lodge  16-01-1958  07 8286 9372   canberra\n",
       "3   7      oIji   pacioerk  10-02-1959  04 4220 5949     sydney\n",
       "4  10      erin   kampgell  29-12-1983  08 2996 1445      perth"
      ]
     },
     "execution_count": 6,
     "metadata": {},
     "output_type": "execute_result"
    }
   ],
   "source": [
    "pd.read_csv('data/dataset-bob.csv').head()"
   ]
  },
  {
   "cell_type": "markdown",
   "metadata": {
    "pycharm": {}
   },
   "source": [
    "## Charlie"
   ]
  },
  {
   "cell_type": "code",
   "execution_count": 7,
   "metadata": {
    "pycharm": {},
    "scrolled": false
   },
   "outputs": [
    {
     "data": {
      "text/html": [
       "<div>\n",
       "<style scoped>\n",
       "    .dataframe tbody tr th:only-of-type {\n",
       "        vertical-align: middle;\n",
       "    }\n",
       "\n",
       "    .dataframe tbody tr th {\n",
       "        vertical-align: top;\n",
       "    }\n",
       "\n",
       "    .dataframe thead th {\n",
       "        text-align: right;\n",
       "    }\n",
       "</style>\n",
       "<table border=\"1\" class=\"dataframe\">\n",
       "  <thead>\n",
       "    <tr style=\"text-align: right;\">\n",
       "      <th></th>\n",
       "      <th>id</th>\n",
       "      <th>givenname</th>\n",
       "      <th>surname</th>\n",
       "      <th>dob</th>\n",
       "      <th>phone number</th>\n",
       "      <th>income</th>\n",
       "    </tr>\n",
       "  </thead>\n",
       "  <tbody>\n",
       "    <tr>\n",
       "      <th>0</th>\n",
       "      <td>1</td>\n",
       "      <td>joshua</td>\n",
       "      <td>arkwright</td>\n",
       "      <td>16-02-1903</td>\n",
       "      <td>04 8511 9580</td>\n",
       "      <td>70189.446</td>\n",
       "    </tr>\n",
       "    <tr>\n",
       "      <th>1</th>\n",
       "      <td>3</td>\n",
       "      <td>zal:</td>\n",
       "      <td>verner</td>\n",
       "      <td>22-12-1972</td>\n",
       "      <td>02 1090 1906</td>\n",
       "      <td>50194.118</td>\n",
       "    </tr>\n",
       "    <tr>\n",
       "      <th>2</th>\n",
       "      <td>7</td>\n",
       "      <td>oliyer</td>\n",
       "      <td>paciorwk</td>\n",
       "      <td>10-02-1959</td>\n",
       "      <td>04 4210 5949</td>\n",
       "      <td>31750.993</td>\n",
       "    </tr>\n",
       "    <tr>\n",
       "      <th>3</th>\n",
       "      <td>8</td>\n",
       "      <td>nacoya</td>\n",
       "      <td>ranson</td>\n",
       "      <td>17-08-1925</td>\n",
       "      <td>07 6033 4580</td>\n",
       "      <td>102446.131</td>\n",
       "    </tr>\n",
       "    <tr>\n",
       "      <th>4</th>\n",
       "      <td>10</td>\n",
       "      <td>erih</td>\n",
       "      <td>campbell</td>\n",
       "      <td>29-12-1i83</td>\n",
       "      <td>08 299t 1435</td>\n",
       "      <td>331476.599</td>\n",
       "    </tr>\n",
       "  </tbody>\n",
       "</table>\n",
       "</div>"
      ],
      "text/plain": [
       "   id givenname    surname         dob  phone number      income\n",
       "0   1    joshua  arkwright  16-02-1903  04 8511 9580   70189.446\n",
       "1   3      zal:     verner  22-12-1972  02 1090 1906   50194.118\n",
       "2   7    oliyer   paciorwk  10-02-1959  04 4210 5949   31750.993\n",
       "3   8    nacoya     ranson  17-08-1925  07 6033 4580  102446.131\n",
       "4  10      erih   campbell  29-12-1i83  08 299t 1435  331476.599"
      ]
     },
     "execution_count": 7,
     "metadata": {},
     "output_type": "execute_result"
    }
   ],
   "source": [
    "pd.read_csv('data/dataset-charlie.csv').head()"
   ]
  },
  {
   "cell_type": "markdown",
   "metadata": {
    "pycharm": {}
   },
   "source": [
    "## Analyst: create the project\n",
    "\n",
    "The analyst keeps the result token to themselves. The three update tokens go to Alice, Bob and Charlie. The project ID is known by everyone."
   ]
  },
  {
   "cell_type": "code",
   "execution_count": 8,
   "metadata": {
    "pycharm": {}
   },
   "outputs": [
    {
     "name": "stdout",
     "output_type": "stream",
     "text": [
      "\u001b[31mProject created\u001b[0m\n"
     ]
    }
   ],
   "source": [
    "!clkutil create-project --server $SERVER --type groups --schema data/schema_ABC.json --parties 3 --output credentials.json\n",
    "\n",
    "with open('credentials.json') as f:\n",
    "    credentials = json.load(f)\n",
    "    project_id = credentials['project_id']\n",
    "    result_token = credentials['result_token']\n",
    "    update_token_alice = credentials['update_tokens'][0]\n",
    "    update_token_bob = credentials['update_tokens'][1]\n",
    "    update_token_charlie = credentials['update_tokens'][2]"
   ]
  },
  {
   "cell_type": "markdown",
   "metadata": {
    "pycharm": {}
   },
   "source": [
    "## Alice: hash the data and upload it to the server\n",
    "The data is hashed according to the schema and the keys. Alice's update token is needed to upload the hashed data. No PII is uploaded to the service—only the hashes."
   ]
  },
  {
   "cell_type": "code",
   "execution_count": 9,
   "metadata": {
    "pycharm": {}
   },
   "outputs": [
    {
     "name": "stdout",
     "output_type": "stream",
     "text": [
      "generating CLKs: 100%|█| 3.23k/3.23k [00:00<00:00, 16.2kclk/s, mean=372, std=34.9]\n",
      "\u001b[31mCLK data written to dataset-alice-hashed.json\u001b[0m\n"
     ]
    }
   ],
   "source": [
    "!clkutil hash data/dataset-alice.csv $KEY1 $KEY2 data/schema_ABC.json dataset-alice-hashed.json --check-header false"
   ]
  },
  {
   "cell_type": "code",
   "execution_count": 10,
   "metadata": {
    "pycharm": {}
   },
   "outputs": [
    {
     "name": "stdout",
     "output_type": "stream",
     "text": [
      "{\"message\": \"Updated\", \"receipt_token\": \"4bf04c3205064a79a38e53f692d20fbdd37de027c15509fe\"}"
     ]
    }
   ],
   "source": [
    "!clkutil upload --server $SERVER --apikey $update_token_alice --project $project_id dataset-alice-hashed.json"
   ]
  },
  {
   "cell_type": "markdown",
   "metadata": {
    "pycharm": {}
   },
   "source": [
    "## Bob: hash the data and upload it to the server"
   ]
  },
  {
   "cell_type": "code",
   "execution_count": 11,
   "metadata": {
    "pycharm": {}
   },
   "outputs": [
    {
     "name": "stdout",
     "output_type": "stream",
     "text": [
      "generating CLKs: 100%|█| 3.24k/3.24k [00:00<00:00, 16.1kclk/s, mean=372, std=35.3]\n",
      "\u001b[31mCLK data written to dataset-bob-hashed.json\u001b[0m\n"
     ]
    }
   ],
   "source": [
    "!clkutil hash data/dataset-bob.csv $KEY1 $KEY2 data/schema_ABC.json dataset-bob-hashed.json --check-header false"
   ]
  },
  {
   "cell_type": "code",
   "execution_count": 12,
   "metadata": {
    "pycharm": {}
   },
   "outputs": [
    {
     "name": "stdout",
     "output_type": "stream",
     "text": [
      "{\"message\": \"Updated\", \"receipt_token\": \"3e7d3aa6f6bf8864c6c15a581bc8dd1b98da64441b2ab696\"}"
     ]
    }
   ],
   "source": [
    "!clkutil upload --server $SERVER --apikey $update_token_bob --project $project_id dataset-bob-hashed.json"
   ]
  },
  {
   "cell_type": "markdown",
   "metadata": {
    "pycharm": {}
   },
   "source": [
    "## Charlie: hash the data and upload it to the server"
   ]
  },
  {
   "cell_type": "code",
   "execution_count": 13,
   "metadata": {
    "pycharm": {}
   },
   "outputs": [
    {
     "name": "stdout",
     "output_type": "stream",
     "text": [
      "generating CLKs: 100%|█| 3.26k/3.26k [00:00<00:00, 15.8kclk/s, mean=372, std=34.8]\n",
      "\u001b[31mCLK data written to dataset-charlie-hashed.json\u001b[0m\n"
     ]
    }
   ],
   "source": [
    "!clkutil hash data/dataset-charlie.csv $KEY1 $KEY2 data/schema_ABC.json dataset-charlie-hashed.json --check-header false"
   ]
  },
  {
   "cell_type": "code",
   "execution_count": 14,
   "metadata": {
    "pycharm": {}
   },
   "outputs": [
    {
     "name": "stdout",
     "output_type": "stream",
     "text": [
      "{\"message\": \"Updated\", \"receipt_token\": \"00f8ffb0965e93a5b8e7a479ec71387d08d430b05f4c75c9\"}"
     ]
    }
   ],
   "source": [
    "!clkutil upload --server $SERVER --apikey $update_token_charlie --project $project_id dataset-charlie-hashed.json"
   ]
  },
  {
   "cell_type": "markdown",
   "metadata": {
    "pycharm": {}
   },
   "source": [
    "## Analyst: start the linkage run\n",
    "\n",
    "This will start the linkage computation. We will wait a little bit and then retrieve the results."
   ]
  },
  {
   "cell_type": "code",
   "execution_count": 15,
   "metadata": {
    "pycharm": {}
   },
   "outputs": [],
   "source": [
    "!clkutil create --server $SERVER --project $project_id --apikey $result_token --threshold 0.7 --output=run-credentials.json\n",
    "\n",
    "with open('run-credentials.json') as f:\n",
    "    run_credentials = json.load(f)\n",
    "    run_id = run_credentials['run_id']"
   ]
  },
  {
   "cell_type": "markdown",
   "metadata": {
    "pycharm": {}
   },
   "source": [
    "## Analyst: retreve the results"
   ]
  },
  {
   "cell_type": "code",
   "execution_count": 16,
   "metadata": {
    "pycharm": {}
   },
   "outputs": [
    {
     "name": "stdout",
     "output_type": "stream",
     "text": [
      "\u001b[31mState: running\n",
      "Stage (2/3): compute similarity scores\u001b[0m\n",
      "\u001b[31mState: running\n",
      "Stage (3/3): compute output\u001b[0m\n",
      "\u001b[31mState: completed\n",
      "Stage (3/3): compute output\u001b[0m\n",
      "\u001b[31mDownloading result\u001b[0m\n",
      "\u001b[31mReceived result\u001b[0m\n"
     ]
    }
   ],
   "source": [
    "!clkutil results --server $SERVER --project $project_id --apikey $result_token --run $run_id --watch --output linkage-output.json"
   ]
  },
  {
   "cell_type": "code",
   "execution_count": 17,
   "metadata": {
    "pycharm": {}
   },
   "outputs": [],
   "source": [
    "with open('linkage-output.json') as f:\n",
    "    linkage_output = json.load(f)\n",
    "    linkage_groups = linkage_output['groups']"
   ]
  },
  {
   "cell_type": "markdown",
   "metadata": {
    "pycharm": {}
   },
   "source": [
    "## Everyone: make table of interesting information\n",
    "\n",
    "We use the linkage result to make a table of genders, cities, and incomes without revealing any other PII."
   ]
  },
  {
   "cell_type": "code",
   "execution_count": 18,
   "metadata": {
    "pycharm": {}
   },
   "outputs": [],
   "source": [
    "with open('data/dataset-alice.csv') as f:\n",
    "    r = csv.reader(f)\n",
    "    next(r)  # Skip header\n",
    "    genders = tuple(row[-1] for row in r)\n",
    "    \n",
    "with open('data/dataset-bob.csv') as f:\n",
    "    r = csv.reader(f)\n",
    "    next(r)  # Skip header\n",
    "    cities = tuple(row[-1] for row in r)\n",
    "    \n",
    "with open('data/dataset-charlie.csv') as f:\n",
    "    r = csv.reader(f)\n",
    "    next(r)  # Skip header\n",
    "    incomes = tuple(row[-1] for row in r)"
   ]
  },
  {
   "cell_type": "code",
   "execution_count": 19,
   "metadata": {
    "pycharm": {}
   },
   "outputs": [
    {
     "data": {
      "text/html": [
       "<div>\n",
       "<style scoped>\n",
       "    .dataframe tbody tr th:only-of-type {\n",
       "        vertical-align: middle;\n",
       "    }\n",
       "\n",
       "    .dataframe tbody tr th {\n",
       "        vertical-align: top;\n",
       "    }\n",
       "\n",
       "    .dataframe thead th {\n",
       "        text-align: right;\n",
       "    }\n",
       "</style>\n",
       "<table border=\"1\" class=\"dataframe\">\n",
       "  <thead>\n",
       "    <tr style=\"text-align: right;\">\n",
       "      <th></th>\n",
       "      <th>gender</th>\n",
       "      <th>city</th>\n",
       "      <th>income</th>\n",
       "    </tr>\n",
       "  </thead>\n",
       "  <tbody>\n",
       "    <tr>\n",
       "      <th>0</th>\n",
       "      <td></td>\n",
       "      <td>peGh</td>\n",
       "      <td>395273.665</td>\n",
       "    </tr>\n",
       "    <tr>\n",
       "      <th>1</th>\n",
       "      <td></td>\n",
       "      <td>melbourne</td>\n",
       "      <td>157033.920</td>\n",
       "    </tr>\n",
       "    <tr>\n",
       "      <th>2</th>\n",
       "      <td></td>\n",
       "      <td>pertb</td>\n",
       "      <td>323383.650</td>\n",
       "    </tr>\n",
       "    <tr>\n",
       "      <th>3</th>\n",
       "      <td></td>\n",
       "      <td>syd1e7y</td>\n",
       "      <td>79745.538</td>\n",
       "    </tr>\n",
       "    <tr>\n",
       "      <th>4</th>\n",
       "      <td></td>\n",
       "      <td>perth</td>\n",
       "      <td>28019.494</td>\n",
       "    </tr>\n",
       "    <tr>\n",
       "      <th>5</th>\n",
       "      <td></td>\n",
       "      <td>canberra</td>\n",
       "      <td>78961.675</td>\n",
       "    </tr>\n",
       "    <tr>\n",
       "      <th>6</th>\n",
       "      <td>female</td>\n",
       "      <td>brisnane</td>\n",
       "      <td></td>\n",
       "    </tr>\n",
       "    <tr>\n",
       "      <th>7</th>\n",
       "      <td>female</td>\n",
       "      <td>melbourne</td>\n",
       "      <td></td>\n",
       "    </tr>\n",
       "    <tr>\n",
       "      <th>8</th>\n",
       "      <td>male</td>\n",
       "      <td>melbourne</td>\n",
       "      <td></td>\n",
       "    </tr>\n",
       "    <tr>\n",
       "      <th>9</th>\n",
       "      <td></td>\n",
       "      <td>melbourne</td>\n",
       "      <td>68548.966</td>\n",
       "    </tr>\n",
       "  </tbody>\n",
       "</table>\n",
       "</div>"
      ],
      "text/plain": [
       "   gender       city      income\n",
       "0               peGh  395273.665\n",
       "1          melbourne  157033.920\n",
       "2              pertb  323383.650\n",
       "3            syd1e7y   79745.538\n",
       "4              perth   28019.494\n",
       "5           canberra   78961.675\n",
       "6  female   brisnane            \n",
       "7  female  melbourne            \n",
       "8    male  melbourne            \n",
       "9          melbourne   68548.966"
      ]
     },
     "execution_count": 19,
     "metadata": {},
     "output_type": "execute_result"
    }
   ],
   "source": [
    "table = []\n",
    "for group in linkage_groups:\n",
    "    row = [''] * 3\n",
    "    for i, j in group:\n",
    "        row[i] = [genders, cities, incomes][i][j]\n",
    "    if sum(map(bool, row)) > 1:\n",
    "        table.append(row)\n",
    "pd.DataFrame(table, columns=['gender', 'city', 'income']).head(10)"
   ]
  },
  {
   "cell_type": "code",
   "execution_count": 20,
   "metadata": {
    "pycharm": {},
    "scrolled": true
   },
   "outputs": [
    {
     "data": {
      "text/plain": [
       "[[[1, 687], [2, 711]],\n",
       " [[1, 2298], [2, 2313]],\n",
       " [[0, 1040], [2, 1057]],\n",
       " [[1, 2101], [2, 2120]],\n",
       " [[1, 281], [2, 280]],\n",
       " [[1, 798], [2, 834]],\n",
       " [[1, 123], [2, 129]],\n",
       " [[1, 2923], [2, 2815]],\n",
       " [[0, 2938], [1, 2960]],\n",
       " [[0, 1376], [1, 1305]],\n",
       " [[0, 804], [1, 946]],\n",
       " [[1, 981], [2, 1027]],\n",
       " [[0, 2413], [2, 2437]],\n",
       " [[0, 856], [2, 879], [1, 834]],\n",
       " [[0, 2167], [1, 2152]]]"
      ]
     },
     "execution_count": 20,
     "metadata": {},
     "output_type": "execute_result"
    }
   ],
   "source": [
    "linkage_groups[:15]"
   ]
  },
  {
   "cell_type": "markdown",
   "metadata": {
    "pycharm": {}
   },
   "source": [
    "# Sneak peek at the result\n",
    "\n",
    "We obviously can't do this in a real-world setting, but let's view the linkage using the PII. If the IDs match, then we are correct."
   ]
  },
  {
   "cell_type": "code",
   "execution_count": 21,
   "metadata": {
    "pycharm": {}
   },
   "outputs": [],
   "source": [
    "with open('data/dataset-alice.csv') as f:\n",
    "    r = csv.reader(f)\n",
    "    next(r)  # Skip header\n",
    "    dataset_alice = tuple(r)\n",
    "    \n",
    "with open('data/dataset-bob.csv') as f:\n",
    "    r = csv.reader(f)\n",
    "    next(r)  # Skip header\n",
    "    dataset_bob = tuple(r)\n",
    "    \n",
    "with open('data/dataset-charlie.csv') as f:\n",
    "    r = csv.reader(f)\n",
    "    next(r)  # Skip header\n",
    "    dataset_charlie = tuple(r)"
   ]
  },
  {
   "cell_type": "code",
   "execution_count": 22,
   "metadata": {
    "pycharm": {}
   },
   "outputs": [
    {
     "data": {
      "text/html": [
       "<div>\n",
       "<style scoped>\n",
       "    .dataframe tbody tr th:only-of-type {\n",
       "        vertical-align: middle;\n",
       "    }\n",
       "\n",
       "    .dataframe tbody tr th {\n",
       "        vertical-align: top;\n",
       "    }\n",
       "\n",
       "    .dataframe thead th {\n",
       "        text-align: right;\n",
       "    }\n",
       "</style>\n",
       "<table border=\"1\" class=\"dataframe\">\n",
       "  <thead>\n",
       "    <tr style=\"text-align: right;\">\n",
       "      <th></th>\n",
       "      <th>id</th>\n",
       "      <th>given name</th>\n",
       "      <th>surname</th>\n",
       "      <th>dob</th>\n",
       "      <th>phone number</th>\n",
       "      <th>non-linking</th>\n",
       "    </tr>\n",
       "  </thead>\n",
       "  <tbody>\n",
       "    <tr>\n",
       "      <th>0</th>\n",
       "      <td>2916</td>\n",
       "      <td>zes5ida</td>\n",
       "      <td>passmore</td>\n",
       "      <td>15-93-1938</td>\n",
       "      <td>02 7596 9493</td>\n",
       "      <td>peGh</td>\n",
       "    </tr>\n",
       "    <tr>\n",
       "      <th>1</th>\n",
       "      <td>2916</td>\n",
       "      <td>jessjca</td>\n",
       "      <td>passmore</td>\n",
       "      <td>15-03-1937</td>\n",
       "      <td>02 7586 9393</td>\n",
       "      <td>395273.665</td>\n",
       "    </tr>\n",
       "    <tr>\n",
       "      <th>2</th>\n",
       "      <td></td>\n",
       "      <td></td>\n",
       "      <td></td>\n",
       "      <td></td>\n",
       "      <td></td>\n",
       "      <td></td>\n",
       "    </tr>\n",
       "    <tr>\n",
       "      <th>3</th>\n",
       "      <td>7344</td>\n",
       "      <td>tara</td>\n",
       "      <td>mazurek</td>\n",
       "      <td>04-10-1955</td>\n",
       "      <td>04 2775 5157</td>\n",
       "      <td>melbourne</td>\n",
       "    </tr>\n",
       "    <tr>\n",
       "      <th>4</th>\n",
       "      <td>7344</td>\n",
       "      <td>etq</td>\n",
       "      <td>masurem</td>\n",
       "      <td>04-10-1955</td>\n",
       "      <td>04 2775 4157</td>\n",
       "      <td>157033.920</td>\n",
       "    </tr>\n",
       "    <tr>\n",
       "      <th>5</th>\n",
       "      <td></td>\n",
       "      <td></td>\n",
       "      <td></td>\n",
       "      <td></td>\n",
       "      <td></td>\n",
       "      <td></td>\n",
       "    </tr>\n",
       "    <tr>\n",
       "      <th>6</th>\n",
       "      <td>3861</td>\n",
       "      <td>tamiem</td>\n",
       "      <td>esdunary</td>\n",
       "      <td>31-11-1920</td>\n",
       "      <td>08 9101 8215</td>\n",
       "      <td>male</td>\n",
       "    </tr>\n",
       "    <tr>\n",
       "      <th>7</th>\n",
       "      <td>3861</td>\n",
       "      <td>damien</td>\n",
       "      <td>stedunary</td>\n",
       "      <td>31-11-1910</td>\n",
       "      <td>08 9101 8215</td>\n",
       "      <td></td>\n",
       "    </tr>\n",
       "    <tr>\n",
       "      <th>8</th>\n",
       "      <td></td>\n",
       "      <td></td>\n",
       "      <td></td>\n",
       "      <td></td>\n",
       "      <td></td>\n",
       "      <td></td>\n",
       "    </tr>\n",
       "    <tr>\n",
       "      <th>9</th>\n",
       "      <td>6816</td>\n",
       "      <td>danielle</td>\n",
       "      <td>grin</td>\n",
       "      <td>01-01-1008</td>\n",
       "      <td>04 7622 3931</td>\n",
       "      <td>pertb</td>\n",
       "    </tr>\n",
       "    <tr>\n",
       "      <th>10</th>\n",
       "      <td>6816</td>\n",
       "      <td>danislle</td>\n",
       "      <td>gree17</td>\n",
       "      <td>01-02-1908</td>\n",
       "      <td>04 7622 3931</td>\n",
       "      <td>323383.650</td>\n",
       "    </tr>\n",
       "    <tr>\n",
       "      <th>11</th>\n",
       "      <td></td>\n",
       "      <td></td>\n",
       "      <td></td>\n",
       "      <td></td>\n",
       "      <td></td>\n",
       "      <td></td>\n",
       "    </tr>\n",
       "    <tr>\n",
       "      <th>12</th>\n",
       "      <td>1659</td>\n",
       "      <td>andrew</td>\n",
       "      <td>nicoll</td>\n",
       "      <td></td>\n",
       "      <td>07 3709 4828</td>\n",
       "      <td>syd1e7y</td>\n",
       "    </tr>\n",
       "    <tr>\n",
       "      <th>13</th>\n",
       "      <td>1659</td>\n",
       "      <td>andervv</td>\n",
       "      <td>nicoll</td>\n",
       "      <td></td>\n",
       "      <td>07 3709 4927</td>\n",
       "      <td>79745.538</td>\n",
       "    </tr>\n",
       "    <tr>\n",
       "      <th>14</th>\n",
       "      <td></td>\n",
       "      <td></td>\n",
       "      <td></td>\n",
       "      <td></td>\n",
       "      <td></td>\n",
       "      <td></td>\n",
       "    </tr>\n",
       "    <tr>\n",
       "      <th>15</th>\n",
       "      <td>3255</td>\n",
       "      <td>tay1a</td>\n",
       "      <td>clarke</td>\n",
       "      <td>08-94-2003</td>\n",
       "      <td>04 1350 7153</td>\n",
       "      <td></td>\n",
       "    </tr>\n",
       "    <tr>\n",
       "      <th>16</th>\n",
       "      <td>3255</td>\n",
       "      <td>dayla</td>\n",
       "      <td>clarke</td>\n",
       "      <td>08-04-2093</td>\n",
       "      <td>04 1350 6153</td>\n",
       "      <td>160504.960</td>\n",
       "    </tr>\n",
       "    <tr>\n",
       "      <th>17</th>\n",
       "      <td></td>\n",
       "      <td></td>\n",
       "      <td></td>\n",
       "      <td></td>\n",
       "      <td></td>\n",
       "      <td></td>\n",
       "    </tr>\n",
       "    <tr>\n",
       "      <th>18</th>\n",
       "      <td>1227</td>\n",
       "      <td>ebony</td>\n",
       "      <td>zokif</td>\n",
       "      <td>28-10-1995</td>\n",
       "      <td>08 2581 7713</td>\n",
       "      <td>perth</td>\n",
       "    </tr>\n",
       "    <tr>\n",
       "      <th>19</th>\n",
       "      <td>1227</td>\n",
       "      <td>ebonv</td>\n",
       "      <td>jokic</td>\n",
       "      <td>28-10-1905</td>\n",
       "      <td>08 2571 7713</td>\n",
       "      <td>28019.494</td>\n",
       "    </tr>\n",
       "    <tr>\n",
       "      <th>20</th>\n",
       "      <td></td>\n",
       "      <td></td>\n",
       "      <td></td>\n",
       "      <td></td>\n",
       "      <td></td>\n",
       "      <td></td>\n",
       "    </tr>\n",
       "    <tr>\n",
       "      <th>21</th>\n",
       "      <td>9026</td>\n",
       "      <td>nicholas</td>\n",
       "      <td>george</td>\n",
       "      <td>23-03-1902</td>\n",
       "      <td>02 9838 3777</td>\n",
       "      <td>canberra</td>\n",
       "    </tr>\n",
       "    <tr>\n",
       "      <th>22</th>\n",
       "      <td>8730</td>\n",
       "      <td>nicholas</td>\n",
       "      <td>george</td>\n",
       "      <td>22-05-1904</td>\n",
       "      <td>02 1766 7362</td>\n",
       "      <td>78961.675</td>\n",
       "    </tr>\n",
       "    <tr>\n",
       "      <th>23</th>\n",
       "      <td></td>\n",
       "      <td></td>\n",
       "      <td></td>\n",
       "      <td></td>\n",
       "      <td></td>\n",
       "      <td></td>\n",
       "    </tr>\n",
       "    <tr>\n",
       "      <th>24</th>\n",
       "      <td>9152</td>\n",
       "      <td>nicole</td>\n",
       "      <td>newport</td>\n",
       "      <td>22-97-1934</td>\n",
       "      <td>08 3121 5503</td>\n",
       "      <td>female</td>\n",
       "    </tr>\n",
       "    <tr>\n",
       "      <th>25</th>\n",
       "      <td>9152</td>\n",
       "      <td>nicloetta</td>\n",
       "      <td>newp0rt</td>\n",
       "      <td>22-07-1934</td>\n",
       "      <td>08 3122 5503</td>\n",
       "      <td>brisnane</td>\n",
       "    </tr>\n",
       "    <tr>\n",
       "      <th>26</th>\n",
       "      <td></td>\n",
       "      <td></td>\n",
       "      <td></td>\n",
       "      <td></td>\n",
       "      <td></td>\n",
       "      <td></td>\n",
       "    </tr>\n",
       "    <tr>\n",
       "      <th>27</th>\n",
       "      <td>4689</td>\n",
       "      <td>benjsm'ln</td>\n",
       "      <td>aghius</td>\n",
       "      <td></td>\n",
       "      <td>08 1153 5588</td>\n",
       "      <td>female</td>\n",
       "    </tr>\n",
       "    <tr>\n",
       "      <th>28</th>\n",
       "      <td>4689</td>\n",
       "      <td>benzamin</td>\n",
       "      <td>agius</td>\n",
       "      <td></td>\n",
       "      <td>08 1153 5588</td>\n",
       "      <td>melbourne</td>\n",
       "    </tr>\n",
       "    <tr>\n",
       "      <th>29</th>\n",
       "      <td></td>\n",
       "      <td></td>\n",
       "      <td></td>\n",
       "      <td></td>\n",
       "      <td></td>\n",
       "      <td></td>\n",
       "    </tr>\n",
       "  </tbody>\n",
       "</table>\n",
       "</div>"
      ],
      "text/plain": [
       "      id given name    surname         dob  phone number non-linking\n",
       "0   2916    zes5ida   passmore  15-93-1938  02 7596 9493        peGh\n",
       "1   2916    jessjca   passmore  15-03-1937  02 7586 9393  395273.665\n",
       "2                                                                   \n",
       "3   7344       tara    mazurek  04-10-1955  04 2775 5157   melbourne\n",
       "4   7344        etq    masurem  04-10-1955  04 2775 4157  157033.920\n",
       "5                                                                   \n",
       "6   3861     tamiem   esdunary  31-11-1920  08 9101 8215        male\n",
       "7   3861     damien  stedunary  31-11-1910  08 9101 8215            \n",
       "8                                                                   \n",
       "9   6816   danielle       grin  01-01-1008  04 7622 3931       pertb\n",
       "10  6816   danislle     gree17  01-02-1908  04 7622 3931  323383.650\n",
       "11                                                                  \n",
       "12  1659     andrew     nicoll              07 3709 4828     syd1e7y\n",
       "13  1659    andervv     nicoll              07 3709 4927   79745.538\n",
       "14                                                                  \n",
       "15  3255      tay1a     clarke  08-94-2003  04 1350 7153            \n",
       "16  3255      dayla     clarke  08-04-2093  04 1350 6153  160504.960\n",
       "17                                                                  \n",
       "18  1227      ebony      zokif  28-10-1995  08 2581 7713       perth\n",
       "19  1227      ebonv      jokic  28-10-1905  08 2571 7713   28019.494\n",
       "20                                                                  \n",
       "21  9026   nicholas     george  23-03-1902  02 9838 3777    canberra\n",
       "22  8730   nicholas     george  22-05-1904  02 1766 7362   78961.675\n",
       "23                                                                  \n",
       "24  9152     nicole    newport  22-97-1934  08 3121 5503      female\n",
       "25  9152  nicloetta    newp0rt  22-07-1934  08 3122 5503    brisnane\n",
       "26                                                                  \n",
       "27  4689  benjsm'ln     aghius              08 1153 5588      female\n",
       "28  4689   benzamin      agius              08 1153 5588   melbourne\n",
       "29                                                                  "
      ]
     },
     "execution_count": 22,
     "metadata": {},
     "output_type": "execute_result"
    }
   ],
   "source": [
    "table = []\n",
    "for group in linkage_groups:\n",
    "    for i, j in sorted(group):\n",
    "        table.append([dataset_alice, dataset_bob, dataset_charlie][i][j])\n",
    "    table.append([''] * 6)\n",
    "    \n",
    "pd.DataFrame(table, columns=['id', 'given name', 'surname', 'dob', 'phone number', 'non-linking']).head(30)"
   ]
  }
 ],
 "metadata": {
  "kernelspec": {
   "display_name": "Python 3",
   "language": "python",
   "name": "python3"
  },
  "language_info": {
   "codemirror_mode": {
    "name": "ipython",
    "version": 3
   },
   "file_extension": ".py",
   "mimetype": "text/x-python",
   "name": "python",
   "nbconvert_exporter": "python",
   "pygments_lexer": "ipython3",
   "version": "3.7.3"
  }
 },
 "nbformat": 4,
 "nbformat_minor": 2
}
