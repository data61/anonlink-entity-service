{
 "cells": [
  {
   "cell_type": "markdown",
   "metadata": {
    "pycharm": {}
   },
   "source": [
    "# Entity Service Similarity Scores Output\n",
    "\n",
    "This tutorial demonstrates generating CLKs from PII, creating a new project on the entity service, and how to retrieve the results. \n",
    "The output type is raw similarity scores. This output type is particularly useful for determining a good threshold for the greedy solver used in mapping.\n",
    "\n",
    "The sections are usually run by different participants - but for illustration all is carried out in this one file. The participants providing data are *Alice* and *Bob*, and the analyst is acting as the integration authority.\n",
    "\n",
    "### Who learns what?\n",
    "\n",
    "Alice and Bob will both generate and upload their CLKs.\n",
    "\n",
    "The analyst - who creates the linkage project - learns the `similarity scores`. Be aware that this is a lot of information and are subject to frequency attacks.\n",
    "\n",
    "### Steps\n",
    "\n",
    "* Check connection to Entity Service\n",
    "* Data preparation\n",
    "  * Write CSV files with PII\n",
    "  * Create a Linkage Schema\n",
    "* Create Linkage Project\n",
    "* Generate CLKs from PII\n",
    "* Upload the PII\n",
    "* Create a run\n",
    "* Retrieve and analyse results"
   ]
  },
  {
   "cell_type": "code",
   "execution_count": 1,
   "metadata": {
    "pycharm": {
     "is_executing": false
    }
   },
   "outputs": [],
   "source": [
    "%matplotlib inline\n",
    "\n",
    "import json\n",
    "import os\n",
    "import time\n",
    "\n",
    "import matplotlib.pyplot as plt\n",
    "import requests\n",
    "import clkhash.rest_client\n",
    "from IPython.display import clear_output"
   ]
  },
  {
   "cell_type": "markdown",
   "metadata": {
    "pycharm": {}
   },
   "source": [
    "## Check Connection\n",
    "\n",
    "If you are connecting to a custom entity service, change the address here."
   ]
  },
  {
   "cell_type": "code",
   "execution_count": 2,
   "metadata": {
    "pycharm": {
     "is_executing": false
    }
   },
   "outputs": [
    {
     "name": "stdout",
     "output_type": "stream",
     "text": [
      "Testing anonlink-entity-service hosted at https://testing.es.data61.xyz\n"
     ]
    }
   ],
   "source": [
    "url = os.getenv(\"SERVER\", \"https://testing.es.data61.xyz\")\n",
    "print(f'Testing anonlink-entity-service hosted at {url}')"
   ]
  },
  {
   "cell_type": "code",
   "execution_count": 3,
   "metadata": {
    "pycharm": {
     "is_executing": false
    }
   },
   "outputs": [
    {
     "name": "stdout",
     "output_type": "stream",
     "text": [
      "{\"project_count\": 2115, \"rate\": 7737583, \"status\": \"ok\"}\r\n"
     ]
    }
   ],
   "source": [
    "!clkutil status --server \"{url}\""
   ]
  },
  {
   "cell_type": "markdown",
   "metadata": {
    "pycharm": {}
   },
   "source": [
    "## Data preparation\n",
    "\n",
    "Following the [clkhash tutorial](http://clkhash.readthedocs.io/en/latest/tutorial_cli.html) we will use a dataset from the `recordlinkage` library. We will just write both datasets out to temporary CSV files.\n",
    "\n",
    "If you are following along yourself you may have to adjust the file names in all the `!clkutil` commands."
   ]
  },
  {
   "cell_type": "code",
   "execution_count": 4,
   "metadata": {
    "pycharm": {
     "is_executing": false
    }
   },
   "outputs": [],
   "source": [
    "from tempfile import NamedTemporaryFile\n",
    "from recordlinkage.datasets import load_febrl4"
   ]
  },
  {
   "cell_type": "code",
   "execution_count": 5,
   "metadata": {
    "pycharm": {
     "is_executing": false
    }
   },
   "outputs": [
    {
     "data": {
      "text/html": [
       "<div>\n",
       "<style scoped>\n",
       "    .dataframe tbody tr th:only-of-type {\n",
       "        vertical-align: middle;\n",
       "    }\n",
       "\n",
       "    .dataframe tbody tr th {\n",
       "        vertical-align: top;\n",
       "    }\n",
       "\n",
       "    .dataframe thead th {\n",
       "        text-align: right;\n",
       "    }\n",
       "</style>\n",
       "<table border=\"1\" class=\"dataframe\">\n",
       "  <thead>\n",
       "    <tr style=\"text-align: right;\">\n",
       "      <th></th>\n",
       "      <th>given_name</th>\n",
       "      <th>surname</th>\n",
       "      <th>street_number</th>\n",
       "      <th>address_1</th>\n",
       "      <th>address_2</th>\n",
       "      <th>suburb</th>\n",
       "      <th>postcode</th>\n",
       "      <th>state</th>\n",
       "      <th>date_of_birth</th>\n",
       "      <th>soc_sec_id</th>\n",
       "    </tr>\n",
       "    <tr>\n",
       "      <th>rec_id</th>\n",
       "      <th></th>\n",
       "      <th></th>\n",
       "      <th></th>\n",
       "      <th></th>\n",
       "      <th></th>\n",
       "      <th></th>\n",
       "      <th></th>\n",
       "      <th></th>\n",
       "      <th></th>\n",
       "      <th></th>\n",
       "    </tr>\n",
       "  </thead>\n",
       "  <tbody>\n",
       "    <tr>\n",
       "      <th>rec-1070-org</th>\n",
       "      <td>michaela</td>\n",
       "      <td>neumann</td>\n",
       "      <td>8</td>\n",
       "      <td>stanley street</td>\n",
       "      <td>miami</td>\n",
       "      <td>winston hills</td>\n",
       "      <td>4223</td>\n",
       "      <td>nsw</td>\n",
       "      <td>19151111</td>\n",
       "      <td>5304218</td>\n",
       "    </tr>\n",
       "    <tr>\n",
       "      <th>rec-1016-org</th>\n",
       "      <td>courtney</td>\n",
       "      <td>painter</td>\n",
       "      <td>12</td>\n",
       "      <td>pinkerton circuit</td>\n",
       "      <td>bega flats</td>\n",
       "      <td>richlands</td>\n",
       "      <td>4560</td>\n",
       "      <td>vic</td>\n",
       "      <td>19161214</td>\n",
       "      <td>4066625</td>\n",
       "    </tr>\n",
       "    <tr>\n",
       "      <th>rec-4405-org</th>\n",
       "      <td>charles</td>\n",
       "      <td>green</td>\n",
       "      <td>38</td>\n",
       "      <td>salkauskas crescent</td>\n",
       "      <td>kela</td>\n",
       "      <td>dapto</td>\n",
       "      <td>4566</td>\n",
       "      <td>nsw</td>\n",
       "      <td>19480930</td>\n",
       "      <td>4365168</td>\n",
       "    </tr>\n",
       "  </tbody>\n",
       "</table>\n",
       "</div>"
      ],
      "text/plain": [
       "             given_name  surname street_number            address_1  \\\n",
       "rec_id                                                                \n",
       "rec-1070-org   michaela  neumann             8       stanley street   \n",
       "rec-1016-org   courtney  painter            12    pinkerton circuit   \n",
       "rec-4405-org    charles    green            38  salkauskas crescent   \n",
       "\n",
       "               address_2         suburb postcode state date_of_birth  \\\n",
       "rec_id                                                                 \n",
       "rec-1070-org       miami  winston hills     4223   nsw      19151111   \n",
       "rec-1016-org  bega flats      richlands     4560   vic      19161214   \n",
       "rec-4405-org        kela          dapto     4566   nsw      19480930   \n",
       "\n",
       "             soc_sec_id  \n",
       "rec_id                   \n",
       "rec-1070-org    5304218  \n",
       "rec-1016-org    4066625  \n",
       "rec-4405-org    4365168  "
      ]
     },
     "execution_count": 5,
     "metadata": {},
     "output_type": "execute_result"
    }
   ],
   "source": [
    "dfA, dfB = load_febrl4()\n",
    "\n",
    "a_csv = NamedTemporaryFile('w')\n",
    "a_clks = NamedTemporaryFile('w', suffix='.json')\n",
    "dfA.to_csv(a_csv)\n",
    "a_csv.seek(0)\n",
    "\n",
    "b_csv = NamedTemporaryFile('w')\n",
    "b_clks = NamedTemporaryFile('w', suffix='.json')\n",
    "dfB.to_csv(b_csv)\n",
    "b_csv.seek(0)\n",
    "\n",
    "dfA.head(3)"
   ]
  },
  {
   "cell_type": "markdown",
   "metadata": {
    "pycharm": {}
   },
   "source": [
    "## Schema Preparation\n",
    "\n",
    "The linkage schema must be agreed on by the two parties. A hashing schema instructs clkhash how to treat each column for generating CLKs. A detailed description of the hashing schema can be found in the api docs. We will ignore the columns ‘rec_id’ and ‘soc_sec_id’ for CLK generation."
   ]
  },
  {
   "cell_type": "code",
   "execution_count": 6,
   "metadata": {
    "pycharm": {
     "is_executing": false
    }
   },
   "outputs": [],
   "source": [
    "schema = NamedTemporaryFile('wt')"
   ]
  },
  {
   "cell_type": "code",
   "execution_count": 7,
   "metadata": {
    "pycharm": {
     "is_executing": false
    }
   },
   "outputs": [
    {
     "name": "stdout",
     "output_type": "stream",
     "text": [
      "Overwriting /tmp/tmpvlivqdcf\n"
     ]
    }
   ],
   "source": [
    "%%writefile {schema.name}\n",
    "{\n",
    "  \"version\": 1,\n",
    "  \"clkConfig\": {\n",
    "    \"l\": 1024,\n",
    "    \"k\": 30,\n",
    "    \"hash\": {\n",
    "      \"type\": \"doubleHash\"\n",
    "    },\n",
    "    \"kdf\": {\n",
    "      \"type\": \"HKDF\",\n",
    "      \"hash\": \"SHA256\",\n",
    "        \"info\": \"c2NoZW1hX2V4YW1wbGU=\",\n",
    "        \"salt\": \"SCbL2zHNnmsckfzchsNkZY9XoHk96P/G5nUBrM7ybymlEFsMV6PAeDZCNp3rfNUPCtLDMOGQHG4pCQpfhiHCyA==\",\n",
    "        \"keySize\": 64\n",
    "    }\n",
    "  },\n",
    "  \"features\": [\n",
    "    {\n",
    "      \"identifier\": \"rec_id\",\n",
    "      \"ignored\": true\n",
    "    },\n",
    "    {\n",
    "      \"identifier\": \"given_name\",\n",
    "      \"format\": { \"type\": \"string\", \"encoding\": \"utf-8\" },\n",
    "      \"hashing\": { \"ngram\": 2, \"weight\": 1 }\n",
    "    },\n",
    "    {\n",
    "      \"identifier\": \"surname\",\n",
    "      \"format\": { \"type\": \"string\", \"encoding\": \"utf-8\" },\n",
    "      \"hashing\": { \"ngram\": 2, \"weight\": 1 }\n",
    "    },\n",
    "    {\n",
    "      \"identifier\": \"street_number\",\n",
    "      \"format\": { \"type\": \"integer\" },\n",
    "      \"hashing\": { \"ngram\": 1, \"positional\": true, \"weight\": 1, \"missingValue\": {\"sentinel\": \"\"} }\n",
    "    },\n",
    "    {\n",
    "      \"identifier\": \"address_1\",\n",
    "      \"format\": { \"type\": \"string\", \"encoding\": \"utf-8\" },\n",
    "      \"hashing\": { \"ngram\": 2, \"weight\": 1 }\n",
    "    },\n",
    "    {\n",
    "      \"identifier\": \"address_2\",\n",
    "      \"format\": { \"type\": \"string\", \"encoding\": \"utf-8\" },\n",
    "      \"hashing\": { \"ngram\": 2, \"weight\": 1 }\n",
    "    },\n",
    "    {\n",
    "      \"identifier\": \"suburb\",\n",
    "      \"format\": { \"type\": \"string\", \"encoding\": \"utf-8\" },\n",
    "      \"hashing\": { \"ngram\": 2, \"weight\": 1 }\n",
    "    },\n",
    "    {\n",
    "      \"identifier\": \"postcode\",\n",
    "      \"format\": { \"type\": \"integer\", \"minimum\": 100, \"maximum\": 9999 },\n",
    "      \"hashing\": { \"ngram\": 1, \"positional\": true, \"weight\": 1 }\n",
    "    },\n",
    "    {\n",
    "      \"identifier\": \"state\",\n",
    "      \"format\": { \"type\": \"string\", \"encoding\": \"utf-8\", \"maxLength\": 3 },\n",
    "      \"hashing\": { \"ngram\": 2, \"weight\": 1 }\n",
    "    },\n",
    "    {\n",
    "      \"identifier\": \"date_of_birth\",\n",
    "      \"format\": { \"type\": \"integer\" },\n",
    "      \"hashing\": { \"ngram\": 1, \"positional\": true, \"weight\": 1, \"missingValue\": {\"sentinel\": \"\"} }\n",
    "    },\n",
    "    {\n",
    "      \"identifier\": \"soc_sec_id\",\n",
    "      \"ignored\": true\n",
    "    }\n",
    "  ]\n",
    "}"
   ]
  },
  {
   "cell_type": "markdown",
   "metadata": {
    "pycharm": {}
   },
   "source": [
    "## Create Linkage Project\n",
    "\n",
    "The analyst carrying out the linkage starts by creating a linkage project of the desired output type with the Entity Service.\n"
   ]
  },
  {
   "cell_type": "code",
   "execution_count": 8,
   "metadata": {
    "pycharm": {
     "is_executing": false
    }
   },
   "outputs": [
    {
     "name": "stdout",
     "output_type": "stream",
     "text": [
      "Credentials will be saved in /tmp/tmpcwpvq6kj\n",
      "\u001b[31mProject created\u001b[0m\n"
     ]
    },
    {
     "data": {
      "text/plain": [
       "{'project_id': '1eb3da44f73440c496ab42217381181de55e9dcd6743580c',\n",
       " 'result_token': '846c6c25097c7794131de0d3e2c39c04b7de9688acedc383',\n",
       " 'update_tokens': ['52aae3f1dfa8a4ec1486d8f7d63a8fe708876b39a8ec585b',\n",
       "  '92e2c9c1ce52a2c2493b5e22953600735a07553f7d00a704']}"
      ]
     },
     "execution_count": 8,
     "metadata": {},
     "output_type": "execute_result"
    }
   ],
   "source": [
    "creds = NamedTemporaryFile('wt')\n",
    "print(\"Credentials will be saved in\", creds.name)\n",
    "\n",
    "!clkutil create-project --schema \"{schema.name}\" --output \"{creds.name}\" --type \"similarity_scores\" --server \"{url}\"\n",
    "creds.seek(0)\n",
    "\n",
    "with open(creds.name, 'r') as f:\n",
    "    credentials = json.load(f)\n",
    "\n",
    "project_id = credentials['project_id']\n",
    "credentials"
   ]
  },
  {
   "cell_type": "markdown",
   "metadata": {
    "pycharm": {}
   },
   "source": [
    "**Note:** the analyst will need to pass on the `project_id` (the id of the linkage project) and one of the two `update_tokens` to each data provider.\n",
    "\n",
    "## Hash and Upload\n",
    "\n",
    "At the moment both data providers have *raw* personally identiy information. We first have to generate CLKs from the raw entity information. Please see [clkhash](https://clkhash.readthedocs.io/) documentation for further details on this."
   ]
  },
  {
   "cell_type": "code",
   "execution_count": 9,
   "metadata": {
    "pycharm": {
     "is_executing": false
    }
   },
   "outputs": [
    {
     "name": "stdout",
     "output_type": "stream",
     "text": [
      "generating CLKs: 100%|█| 5.00k/5.00k [00:01<00:00, 1.06kclk/s, mean=883, std=33.6]\n",
      "\u001b[31mCLK data written to /tmp/tmpj8m1dvxj.json\u001b[0m\n",
      "generating CLKs: 100%|█| 5.00k/5.00k [00:01<00:00, 1.30kclk/s, mean=875, std=39.7]\n",
      "\u001b[31mCLK data written to /tmp/tmpi2y_ogl9.json\u001b[0m\n"
     ]
    }
   ],
   "source": [
    "!clkutil hash \"{a_csv.name}\" horse staple \"{schema.name}\" \"{a_clks.name}\"\n",
    "!clkutil hash \"{b_csv.name}\" horse staple \"{schema.name}\" \"{b_clks.name}\""
   ]
  },
  {
   "cell_type": "markdown",
   "metadata": {
    "pycharm": {}
   },
   "source": [
    "Now the two clients can upload their data providing the appropriate *upload tokens*."
   ]
  },
  {
   "cell_type": "markdown",
   "metadata": {
    "pycharm": {}
   },
   "source": [
    "### Alice uploads her data"
   ]
  },
  {
   "cell_type": "code",
   "execution_count": 10,
   "metadata": {
    "pycharm": {
     "is_executing": false
    }
   },
   "outputs": [],
   "source": [
    "with NamedTemporaryFile('wt') as f:\n",
    "    !clkutil upload \\\n",
    "        --project=\"{project_id}\" \\\n",
    "        --apikey=\"{credentials['update_tokens'][0]}\" \\\n",
    "        --server \"{url}\" \\\n",
    "        --output \"{f.name}\" \\\n",
    "        \"{a_clks.name}\"\n",
    "    res = json.load(open(f.name))\n",
    "    alice_receipt_token = res['receipt_token']"
   ]
  },
  {
   "cell_type": "markdown",
   "metadata": {
    "pycharm": {}
   },
   "source": [
    "Every upload gets a receipt token. In some operating modes this receipt is required to access the results."
   ]
  },
  {
   "cell_type": "markdown",
   "metadata": {
    "pycharm": {}
   },
   "source": [
    "### Bob uploads his data"
   ]
  },
  {
   "cell_type": "code",
   "execution_count": 11,
   "metadata": {
    "pycharm": {
     "is_executing": false
    }
   },
   "outputs": [],
   "source": [
    "with NamedTemporaryFile('wt') as f:\n",
    "    !clkutil upload \\\n",
    "        --project=\"{project_id}\" \\\n",
    "        --apikey=\"{credentials['update_tokens'][1]}\" \\\n",
    "        --server \"{url}\" \\\n",
    "        --output \"{f.name}\" \\\n",
    "        \"{b_clks.name}\"\n",
    "    \n",
    "    bob_receipt_token = json.load(open(f.name))['receipt_token']"
   ]
  },
  {
   "cell_type": "markdown",
   "metadata": {
    "pycharm": {}
   },
   "source": [
    "## Create a run\n",
    "\n",
    "Now the project has been created and the CLK data has been uploaded we can carry out some privacy preserving record linkage. Try with a few different threshold values:"
   ]
  },
  {
   "cell_type": "code",
   "execution_count": 12,
   "metadata": {
    "pycharm": {
     "is_executing": false
    }
   },
   "outputs": [],
   "source": [
    "with NamedTemporaryFile('wt') as f:\n",
    "    !clkutil create \\\n",
    "        --project=\"{project_id}\" \\\n",
    "        --apikey=\"{credentials['result_token']}\" \\\n",
    "        --server \"{url}\" \\\n",
    "        --threshold 0.9 \\\n",
    "        --output \"{f.name}\"\n",
    "    \n",
    "    run_id = json.load(open(f.name))['run_id']"
   ]
  },
  {
   "cell_type": "markdown",
   "metadata": {
    "pycharm": {}
   },
   "source": [
    "## Results\n",
    "\n",
    "Now after some delay (depending on the size) we can fetch the mask.\n",
    "This can be done with clkutil:\n",
    "\n",
    "    !clkutil results --server \"{url}\" \\\n",
    "        --project=\"{credentials['project_id']}\" \\\n",
    "        --apikey=\"{credentials['result_token']}\" --output results.txt\n",
    "        \n",
    "However for this tutorial we are going to use the `clkhash` library:"
   ]
  },
  {
   "cell_type": "code",
   "execution_count": 13,
   "metadata": {
    "pycharm": {
     "is_executing": false
    }
   },
   "outputs": [
    {
     "name": "stdout",
     "output_type": "stream",
     "text": [
      "State: completed\n",
      "Stage (2/2): compute similarity scores\n",
      "Progress: 1.000%\n"
     ]
    }
   ],
   "source": [
    "for update in clkhash.rest_client.watch_run_status(url, project_id, run_id, credentials['result_token'], timeout=300):\n",
    "    clear_output(wait=True)\n",
    "    print(clkhash.rest_client.format_run_status(update))\n",
    "time.sleep(3)"
   ]
  },
  {
   "cell_type": "code",
   "execution_count": 17,
   "metadata": {},
   "outputs": [],
   "source": [
    "data = json.loads(clkhash.rest_client.run_get_result_text(\n",
    "    url, \n",
    "    project_id, \n",
    "    run_id, \n",
    "    credentials['result_token']))['similarity_scores']"
   ]
  },
  {
   "cell_type": "markdown",
   "metadata": {
    "pycharm": {}
   },
   "source": [
    "This result is a large list of tuples recording the similarity between all rows above the given threshold."
   ]
  },
  {
   "cell_type": "code",
   "execution_count": 18,
   "metadata": {
    "pycharm": {
     "is_executing": false
    }
   },
   "outputs": [
    {
     "name": "stdout",
     "output_type": "stream",
     "text": [
      "[76, 2345, 1.0]\n",
      "[83, 3439, 1.0]\n",
      "[103, 863, 1.0]\n",
      "[154, 2391, 1.0]\n",
      "[177, 4247, 1.0]\n",
      "[192, 1176, 1.0]\n",
      "[270, 4516, 1.0]\n",
      "[312, 1253, 1.0]\n",
      "[407, 3743, 1.0]\n",
      "[670, 3550, 1.0]\n"
     ]
    }
   ],
   "source": [
    "for row in data[:10]:\n",
    "    print(row)"
   ]
  },
  {
   "cell_type": "markdown",
   "metadata": {
    "pycharm": {}
   },
   "source": [
    "Note there can be a lot of similarity scores:"
   ]
  },
  {
   "cell_type": "code",
   "execution_count": 19,
   "metadata": {
    "pycharm": {
     "is_executing": false
    }
   },
   "outputs": [
    {
     "data": {
      "text/plain": [
       "1572906"
      ]
     },
     "execution_count": 19,
     "metadata": {},
     "output_type": "execute_result"
    }
   ],
   "source": [
    "len(data)"
   ]
  },
  {
   "cell_type": "markdown",
   "metadata": {
    "pycharm": {}
   },
   "source": [
    "We will display a *sample* of these similarity scores in a histogram using matplotlib:"
   ]
  },
  {
   "cell_type": "code",
   "execution_count": 20,
   "metadata": {
    "pycharm": {
     "is_executing": false
    }
   },
   "outputs": [
    {
     "data": {
      "image/png": "[encoded data removed]",
      "text/plain": [
       "<Figure size 432x288 with 1 Axes>"
      ]
     },
     "metadata": {
      "needs_background": "light"
     },
     "output_type": "display_data"
    }
   ],
   "source": [
    "plt.hist([_[2] for _ in data[::100]], bins=50);"
   ]
  },
  {
   "cell_type": "markdown",
   "metadata": {
    "pycharm": {}
   },
   "source": [
    "The vast majority of these similarity scores are for non matches. Let's zoom into the right side of the distribution."
   ]
  },
  {
   "cell_type": "code",
   "execution_count": 21,
   "metadata": {
    "pycharm": {
     "is_executing": false
    }
   },
   "outputs": [
    {
     "data": {
      "image/png": "[encoded data removed]",
      "text/plain": [
       "<Figure size 432x288 with 1 Axes>"
      ]
     },
     "metadata": {
      "needs_background": "light"
     },
     "output_type": "display_data"
    }
   ],
   "source": [
    "plt.hist([_[2] for _ in data[::1] if _[2] > 0.94], bins=50);"
   ]
  },
  {
   "cell_type": "markdown",
   "metadata": {
    "pycharm": {}
   },
   "source": [
    "Now it looks like a good threshold should be above `0.95`. Let's have a look at some of the candidate matches around there."
   ]
  },
  {
   "cell_type": "code",
   "execution_count": 22,
   "metadata": {
    "pycharm": {
     "is_executing": false
    }
   },
   "outputs": [],
   "source": [
    "def sample(data, threshold, num_samples, epsilon=0.01):\n",
    "    samples = []\n",
    "    for row in data:\n",
    "        if abs(row[2] - threshold) <= epsilon:\n",
    "            samples.append(row)\n",
    "        if len(samples) >= num_samples:\n",
    "            break\n",
    "    return samples\n",
    "\n",
    "def lookup_originals(candidate_pair):\n",
    "    a = dfA.iloc[candidate_pair[0]]\n",
    "    b = dfB.iloc[candidate_pair[1]]\n",
    "    return a, b"
   ]
  },
  {
   "cell_type": "code",
   "execution_count": 23,
   "metadata": {
    "pycharm": {
     "is_executing": false
    }
   },
   "outputs": [],
   "source": [
    "def look_at_per_field_accuracy(threshold = 0.999, num_samples = 100):\n",
    "    results = []\n",
    "    for i, candidate in enumerate(sample(data, threshold, num_samples, 0.01), start=1):\n",
    "        record_a, record_b = lookup_originals(candidate)\n",
    "        results.append(record_a == record_b)\n",
    "\n",
    "    print(\"Proportion of exact matches for each field using threshold: {}\".format(threshold))\n",
    "    print(sum(results)/num_samples)"
   ]
  },
  {
   "cell_type": "markdown",
   "metadata": {
    "pycharm": {}
   },
   "source": [
    "So we should expect a very high proportion of matches across all fields for high thresholds:"
   ]
  },
  {
   "cell_type": "code",
   "execution_count": 24,
   "metadata": {
    "pycharm": {
     "is_executing": false
    }
   },
   "outputs": [
    {
     "name": "stdout",
     "output_type": "stream",
     "text": [
      "Proportion of exact matches for each field using threshold: 0.999\n",
      "given_name       0.93\n",
      "surname          0.96\n",
      "street_number    0.88\n",
      "address_1        0.92\n",
      "address_2        0.80\n",
      "suburb           0.92\n",
      "postcode         0.95\n",
      "state            1.00\n",
      "date_of_birth    0.96\n",
      "soc_sec_id       0.40\n",
      "dtype: float64\n"
     ]
    }
   ],
   "source": [
    "look_at_per_field_accuracy(threshold = 0.999, num_samples = 100)"
   ]
  },
  {
   "cell_type": "markdown",
   "metadata": {
    "pycharm": {}
   },
   "source": [
    "But if we look at a threshold which is closer to the boundary between real matches we should see a lot more errors:"
   ]
  },
  {
   "cell_type": "code",
   "execution_count": 25,
   "metadata": {
    "pycharm": {
     "is_executing": false
    }
   },
   "outputs": [
    {
     "name": "stdout",
     "output_type": "stream",
     "text": [
      "Proportion of exact matches for each field using threshold: 0.95\n",
      "given_name       0.49\n",
      "surname          0.57\n",
      "street_number    0.81\n",
      "address_1        0.55\n",
      "address_2        0.44\n",
      "suburb           0.70\n",
      "postcode         0.84\n",
      "state            0.93\n",
      "date_of_birth    0.84\n",
      "soc_sec_id       0.92\n",
      "dtype: float64\n"
     ]
    }
   ],
   "source": [
    "look_at_per_field_accuracy(threshold = 0.95, num_samples = 100)"
   ]
  },
  {
   "cell_type": "code",
   "execution_count": 26,
   "metadata": {},
   "outputs": [
    {
     "data": {
      "text/plain": [
       "'0.12.0'"
      ]
     },
     "execution_count": 26,
     "metadata": {},
     "output_type": "execute_result"
    }
   ],
   "source": []
  },
  {
   "cell_type": "code",
   "execution_count": null,
   "metadata": {},
   "outputs": [],
   "source": []
  }
 ],
 "metadata": {
  "kernelspec": {
   "display_name": "Python 3",
   "language": "python",
   "name": "python3"
  },
  "language_info": {
   "codemirror_mode": {
    "name": "ipython",
    "version": 3
   },
   "file_extension": ".py",
   "mimetype": "text/x-python",
   "name": "python",
   "nbconvert_exporter": "python",
   "pygments_lexer": "ipython3",
   "version": "3.7.3"
  }
 },
 "nbformat": 4,
 "nbformat_minor": 2
}
